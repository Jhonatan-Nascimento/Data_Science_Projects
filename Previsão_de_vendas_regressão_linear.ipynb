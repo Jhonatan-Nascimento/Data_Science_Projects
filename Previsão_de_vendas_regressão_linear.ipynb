{
  "nbformat": 4,
  "nbformat_minor": 0,
  "metadata": {
    "colab": {
      "name": "Previsão de vendas - regressão linear",
      "provenance": [],
      "collapsed_sections": [],
      "authorship_tag": "ABX9TyNytPzR6aedSkohfvpowkor",
      "include_colab_link": true
    },
    "kernelspec": {
      "name": "python3",
      "display_name": "Python 3"
    }
  },
  "cells": [
    {
      "cell_type": "markdown",
      "metadata": {
        "id": "view-in-github",
        "colab_type": "text"
      },
      "source": [
        "<a href=\"https://colab.research.google.com/github/jhonks13/Data_Science_Projects/blob/main/Previs%C3%A3o_de_vendas_regress%C3%A3o_linear.ipynb\" target=\"_parent\"><img src=\"https://colab.research.google.com/assets/colab-badge.svg\" alt=\"Open In Colab\"/></a>"
      ]
    },
    {
      "cell_type": "markdown",
      "metadata": {
        "id": "nSiRKnhbMI_P"
      },
      "source": [
        "##**Definição do problema**"
      ]
    },
    {
      "cell_type": "markdown",
      "metadata": {
        "id": "fz6A-P1hMOLG"
      },
      "source": [
        "<p align = 'justify'>Esse projeto tem como objetivo realizar um exercício prático de regressão linear simples e múltipla. A base de dados utilizada contém os valores de gastos com propagandas em meios de comunicação (TV, rádio e jornal) e os valores de vendas. Sendo assim, pretende-se desenvolver um modelo de regressão linear seja capaz de prever o valor de venda.</p>"
      ]
    },
    {
      "cell_type": "markdown",
      "metadata": {
        "id": "zru7cf1F_c01"
      },
      "source": [
        "### Importação das bibliotecas"
      ]
    },
    {
      "cell_type": "code",
      "metadata": {
        "id": "p_RVpgAC_BLv"
      },
      "source": [
        "import pandas as pd\n",
        "import numpy as np\n",
        "import matplotlib.pyplot as plt\n",
        "import statsmodels.api as sm #Testes estatísticos\n",
        "\n",
        "from sklearn.linear_model import LinearRegression\n",
        "\n",
        "%matplotlib inline"
      ],
      "execution_count": null,
      "outputs": []
    },
    {
      "cell_type": "markdown",
      "metadata": {
        "id": "0LUJdla7_i6P"
      },
      "source": [
        "###Importação da base de dados"
      ]
    },
    {
      "cell_type": "code",
      "metadata": {
        "id": "0YDTZmp4_Y7V"
      },
      "source": [
        "url= 'https://raw.githubusercontent.com/jhonks13/Datasets/main/Advertising.csv'\n",
        "data = pd.read_csv(url, index_col = 0)"
      ],
      "execution_count": null,
      "outputs": []
    },
    {
      "cell_type": "code",
      "metadata": {
        "id": "tsIDSbmbAcf-",
        "outputId": "4c52cc63-1a20-41b5-8dce-2e028bb0e029",
        "colab": {
          "base_uri": "https://localhost:8080/",
          "height": 204
        }
      },
      "source": [
        "data.head()"
      ],
      "execution_count": null,
      "outputs": [
        {
          "output_type": "execute_result",
          "data": {
            "text/html": [
              "<div>\n",
              "<style scoped>\n",
              "    .dataframe tbody tr th:only-of-type {\n",
              "        vertical-align: middle;\n",
              "    }\n",
              "\n",
              "    .dataframe tbody tr th {\n",
              "        vertical-align: top;\n",
              "    }\n",
              "\n",
              "    .dataframe thead th {\n",
              "        text-align: right;\n",
              "    }\n",
              "</style>\n",
              "<table border=\"1\" class=\"dataframe\">\n",
              "  <thead>\n",
              "    <tr style=\"text-align: right;\">\n",
              "      <th></th>\n",
              "      <th>TV</th>\n",
              "      <th>radio</th>\n",
              "      <th>newspaper</th>\n",
              "      <th>sales</th>\n",
              "    </tr>\n",
              "  </thead>\n",
              "  <tbody>\n",
              "    <tr>\n",
              "      <th>1</th>\n",
              "      <td>230.1</td>\n",
              "      <td>37.8</td>\n",
              "      <td>69.2</td>\n",
              "      <td>22.1</td>\n",
              "    </tr>\n",
              "    <tr>\n",
              "      <th>2</th>\n",
              "      <td>44.5</td>\n",
              "      <td>39.3</td>\n",
              "      <td>45.1</td>\n",
              "      <td>10.4</td>\n",
              "    </tr>\n",
              "    <tr>\n",
              "      <th>3</th>\n",
              "      <td>17.2</td>\n",
              "      <td>45.9</td>\n",
              "      <td>69.3</td>\n",
              "      <td>9.3</td>\n",
              "    </tr>\n",
              "    <tr>\n",
              "      <th>4</th>\n",
              "      <td>151.5</td>\n",
              "      <td>41.3</td>\n",
              "      <td>58.5</td>\n",
              "      <td>18.5</td>\n",
              "    </tr>\n",
              "    <tr>\n",
              "      <th>5</th>\n",
              "      <td>180.8</td>\n",
              "      <td>10.8</td>\n",
              "      <td>58.4</td>\n",
              "      <td>12.9</td>\n",
              "    </tr>\n",
              "  </tbody>\n",
              "</table>\n",
              "</div>"
            ],
            "text/plain": [
              "      TV  radio  newspaper  sales\n",
              "1  230.1   37.8       69.2   22.1\n",
              "2   44.5   39.3       45.1   10.4\n",
              "3   17.2   45.9       69.3    9.3\n",
              "4  151.5   41.3       58.5   18.5\n",
              "5  180.8   10.8       58.4   12.9"
            ]
          },
          "metadata": {
            "tags": []
          },
          "execution_count": 7
        }
      ]
    },
    {
      "cell_type": "markdown",
      "metadata": {
        "id": "XolaTZcvApaU"
      },
      "source": [
        "###Visualização dos dados"
      ]
    },
    {
      "cell_type": "code",
      "metadata": {
        "id": "KfqfMxGeAogC",
        "outputId": "c7598230-3eb1-4bbb-823a-49691099fb01",
        "colab": {
          "base_uri": "https://localhost:8080/",
          "height": 497
        }
      },
      "source": [
        "plt.figure(figsize =(14,8))\n",
        "plt.scatter(data['TV'], data['sales'], color = 'black')\n",
        "plt.xlabel('Valor Gasto em Propaganda de TV ($)')\n",
        "plt.ylabel('Vendas (k$)')\n",
        "plt.show()"
      ],
      "execution_count": null,
      "outputs": [
        {
          "output_type": "display_data",
          "data": {
            "image/png": "[encoded data removed]",
            "text/plain": [
              "<Figure size 1008x576 with 1 Axes>"
            ]
          },
          "metadata": {
            "tags": [],
            "needs_background": "light"
          }
        }
      ]
    },
    {
      "cell_type": "code",
      "metadata": {
        "id": "1dzQjI4XLKTm",
        "outputId": "f5ef0a02-70ef-4e98-b39e-a6d425122259",
        "colab": {
          "base_uri": "https://localhost:8080/",
          "height": 497
        }
      },
      "source": [
        "plt.figure(figsize =(14,8))\n",
        "plt.scatter(data['radio'], data['sales'], color = 'green')\n",
        "plt.xlabel('Valor Gasto em Propaganda de Rádio ($)')\n",
        "plt.ylabel('Vendas (k$)')\n",
        "plt.show()"
      ],
      "execution_count": null,
      "outputs": [
        {
          "output_type": "display_data",
          "data": {
            "image/png": "[encoded data removed]",
            "text/plain": [
              "<Figure size 1008x576 with 1 Axes>"
            ]
          },
          "metadata": {
            "tags": [],
            "needs_background": "light"
          }
        }
      ]
    },
    {
      "cell_type": "code",
      "metadata": {
        "id": "oKNavrFZLPHW",
        "outputId": "79ec9f74-8103-441c-edd6-1d5586b731eb",
        "colab": {
          "base_uri": "https://localhost:8080/",
          "height": 497
        }
      },
      "source": [
        "plt.figure(figsize =(14,8))\n",
        "plt.scatter(data['newspaper'], data['sales'], color = 'blue')\n",
        "plt.xlabel('Valor Gasto em Propaganda de Jornal ($)')\n",
        "plt.ylabel('Vendas (k$)')\n",
        "plt.show()"
      ],
      "execution_count": null,
      "outputs": [
        {
          "output_type": "display_data",
          "data": {
            "image/png": "[encoded data removed]",
            "text/plain": [
              "<Figure size 1008x576 with 1 Axes>"
            ]
          },
          "metadata": {
            "tags": [],
            "needs_background": "light"
          }
        }
      ]
    },
    {
      "cell_type": "markdown",
      "metadata": {
        "id": "t2JRpGIUGJc1"
      },
      "source": [
        "##**Regressão Linear Simples**"
      ]
    },
    {
      "cell_type": "markdown",
      "metadata": {
        "id": "T1hmMPlSFLIP"
      },
      "source": [
        "### Modelo 01"
      ]
    },
    {
      "cell_type": "code",
      "metadata": {
        "id": "AgbQ7pxQAeLU"
      },
      "source": [
        "X = data['TV'].values.reshape(-1, 1)\n",
        "y = data['sales'].values.reshape(-1, 1)"
      ],
      "execution_count": null,
      "outputs": []
    },
    {
      "cell_type": "code",
      "metadata": {
        "id": "axDhGjH8CI7Y",
        "outputId": "4e5c554b-dee0-4464-805c-6feead92b956",
        "colab": {
          "base_uri": "https://localhost:8080/",
          "height": 34
        }
      },
      "source": [
        "# Modelo utilizando a biblioteca Scikit-Learn\n",
        "lr = LinearRegression()\n",
        "lr.fit(X, y)"
      ],
      "execution_count": null,
      "outputs": [
        {
          "output_type": "execute_result",
          "data": {
            "text/plain": [
              "LinearRegression(copy_X=True, fit_intercept=True, n_jobs=None, normalize=False)"
            ]
          },
          "metadata": {
            "tags": []
          },
          "execution_count": 50
        }
      ]
    },
    {
      "cell_type": "code",
      "metadata": {
        "id": "Ncq1YDZTCJgs",
        "outputId": "15763bf4-8c90-42f0-ec0f-e2690aa577ce",
        "colab": {
          "base_uri": "https://localhost:8080/",
          "height": 34
        }
      },
      "source": [
        "print(f'O modelo linear é: y = {(lr.intercept_.round(4))[0]} + {(lr.coef_.round(4))[0][0]}.TV')"
      ],
      "execution_count": null,
      "outputs": [
        {
          "output_type": "stream",
          "text": [
            "O modelo linear é: y = 7.0326 + 0.0475.TV\n"
          ],
          "name": "stdout"
        }
      ]
    },
    {
      "cell_type": "code",
      "metadata": {
        "id": "-z2egbnrDsCM",
        "outputId": "6152f19c-fb29-4aef-f7a0-a0bfbfc2ef57",
        "colab": {
          "base_uri": "https://localhost:8080/",
          "height": 497
        }
      },
      "source": [
        "pred = lr.predict(X)\n",
        "\n",
        "plt.figure(figsize = (12,8))\n",
        "plt.scatter(X, y, c = 'red')\n",
        "plt.plot(X, pred, c = 'blue', linewidth = 2)\n",
        "plt.xlabel('Valor gasto em propaganda de TV ($)')\n",
        "plt.ylabel('Vendas (k$)')\n",
        "plt.show()"
      ],
      "execution_count": null,
      "outputs": [
        {
          "output_type": "display_data",
          "data": {
            "image/png": "[encoded data removed]",
            "text/plain": [
              "<Figure size 864x576 with 1 Axes>"
            ]
          },
          "metadata": {
            "tags": [],
            "needs_background": "light"
          }
        }
      ]
    },
    {
      "cell_type": "markdown",
      "metadata": {
        "id": "un-7FF6RFOhU"
      },
      "source": [
        "###Modelo 02"
      ]
    },
    {
      "cell_type": "code",
      "metadata": {
        "id": "SKzuLASBFQoe"
      },
      "source": [
        "X = data['TV']\n",
        "y = data['sales']"
      ],
      "execution_count": null,
      "outputs": []
    },
    {
      "cell_type": "code",
      "metadata": {
        "id": "qUwPuZEfFWqG",
        "outputId": "ae19f3d8-0617-467b-ec68-0fc58575fe60",
        "colab": {
          "base_uri": "https://localhost:8080/",
          "height": 442
        }
      },
      "source": [
        "# Modelo utilizando a biblioteca Statsmodel\n",
        "exog = sm.add_constant(X)\n",
        "est = sm.OLS(y, exog).fit()\n",
        "print(est.summary())"
      ],
      "execution_count": null,
      "outputs": [
        {
          "output_type": "stream",
          "text": [
            "                            OLS Regression Results                            \n",
            "==============================================================================\n",
            "Dep. Variable:                  sales   R-squared:                       0.612\n",
            "Model:                            OLS   Adj. R-squared:                  0.610\n",
            "Method:                 Least Squares   F-statistic:                     312.1\n",
            "Date:                Wed, 28 Oct 2020   Prob (F-statistic):           1.47e-42\n",
            "Time:                        12:03:16   Log-Likelihood:                -519.05\n",
            "No. Observations:                 200   AIC:                             1042.\n",
            "Df Residuals:                     198   BIC:                             1049.\n",
            "Df Model:                           1                                         \n",
            "Covariance Type:            nonrobust                                         \n",
            "==============================================================================\n",
            "                 coef    std err          t      P>|t|      [0.025      0.975]\n",
            "------------------------------------------------------------------------------\n",
            "const          7.0326      0.458     15.360      0.000       6.130       7.935\n",
            "TV             0.0475      0.003     17.668      0.000       0.042       0.053\n",
            "==============================================================================\n",
            "Omnibus:                        0.531   Durbin-Watson:                   1.935\n",
            "Prob(Omnibus):                  0.767   Jarque-Bera (JB):                0.669\n",
            "Skew:                          -0.089   Prob(JB):                        0.716\n",
            "Kurtosis:                       2.779   Cond. No.                         338.\n",
            "==============================================================================\n",
            "\n",
            "Warnings:\n",
            "[1] Standard Errors assume that the covariance matrix of the errors is correctly specified.\n"
          ],
          "name": "stdout"
        }
      ]
    },
    {
      "cell_type": "markdown",
      "metadata": {
        "id": "ujfBcmENNJJY"
      },
      "source": [
        "<p align = 'justify'>Percebe-se que os coeficientes são idênticos ao do modelo anterior. Quanto as métricas, esse modelo explica a 61% da variabilidade dos dados  de resposta conforme o valor de R-quadrado ajustado e possui F-statistic igual a 312,1.</p>"
      ]
    },
    {
      "cell_type": "markdown",
      "metadata": {
        "id": "jOSrqIgJGS2m"
      },
      "source": [
        "##**Regressão Linear Múltipla**"
      ]
    },
    {
      "cell_type": "markdown",
      "metadata": {
        "id": "s5BGJthnH5Kt"
      },
      "source": [
        "###Modelo 3"
      ]
    },
    {
      "cell_type": "code",
      "metadata": {
        "id": "aIUqVP2JF0Ot"
      },
      "source": [
        "# Modelo utilizando scikit-learn\n",
        "X = data.drop(['sales'], axis = 1)\n",
        "y = data['sales'].values.reshape(-1,1)"
      ],
      "execution_count": null,
      "outputs": []
    },
    {
      "cell_type": "code",
      "metadata": {
        "id": "KOArWOSbGPRm",
        "outputId": "87520070-a357-4fc7-955d-5c654b56b020",
        "colab": {
          "base_uri": "https://localhost:8080/",
          "height": 34
        }
      },
      "source": [
        "lr.fit(X,y)"
      ],
      "execution_count": null,
      "outputs": [
        {
          "output_type": "execute_result",
          "data": {
            "text/plain": [
              "LinearRegression(copy_X=True, fit_intercept=True, n_jobs=None, normalize=False)"
            ]
          },
          "metadata": {
            "tags": []
          },
          "execution_count": 32
        }
      ]
    },
    {
      "cell_type": "code",
      "metadata": {
        "id": "Dom2JU_-GRDd",
        "outputId": "2b4c861a-8777-483d-926a-8f1aef13aebf",
        "colab": {
          "base_uri": "https://localhost:8080/",
          "height": 34
        }
      },
      "source": [
        "print(f'O modelo linear é: y = {(lr.intercept_.round(4))[0]} + {(lr.coef_.round(4))[0][0]}.TV + {(lr.coef_.round(4))[0][1]}.radio + {(lr.coef_.round(4))[0][2]}.newspaper')"
      ],
      "execution_count": null,
      "outputs": [
        {
          "output_type": "stream",
          "text": [
            "O modelo linear é: y = 2.9389 + 0.0458.TV + 0.1885.radio + -0.001.newspaper\n"
          ],
          "name": "stdout"
        }
      ]
    },
    {
      "cell_type": "markdown",
      "metadata": {
        "id": "_UVJXFitPzzA"
      },
      "source": [
        "<p align = 'justify'>Aqui podemos perceber que o coeficiente da feature \"jornal\" é negativo, ou seja, pode-se evidenciar um efeito negativo dessa feature no modelo.</p>"
      ]
    },
    {
      "cell_type": "markdown",
      "metadata": {
        "id": "Gc06qX7GH8HF"
      },
      "source": [
        "###Modelo 4"
      ]
    },
    {
      "cell_type": "code",
      "metadata": {
        "id": "SjNZ9th3HKrA"
      },
      "source": [
        "# Modelo utilizando statsmodel\n",
        "X = np.column_stack((data['TV'], data['radio'], data['newspaper']))\n",
        "y = data['sales'].values.reshape(-1,1)"
      ],
      "execution_count": null,
      "outputs": []
    },
    {
      "cell_type": "code",
      "metadata": {
        "id": "cLJS4yBUHwYN",
        "outputId": "34dbe4a6-21eb-4f65-df80-d415021d690b",
        "colab": {
          "base_uri": "https://localhost:8080/",
          "height": 476
        }
      },
      "source": [
        "exog = sm.add_constant(X)\n",
        "est = sm.OLS(y,exog).fit()\n",
        "\n",
        "print(est.summary())"
      ],
      "execution_count": null,
      "outputs": [
        {
          "output_type": "stream",
          "text": [
            "                            OLS Regression Results                            \n",
            "==============================================================================\n",
            "Dep. Variable:                      y   R-squared:                       0.897\n",
            "Model:                            OLS   Adj. R-squared:                  0.896\n",
            "Method:                 Least Squares   F-statistic:                     570.3\n",
            "Date:                Wed, 28 Oct 2020   Prob (F-statistic):           1.58e-96\n",
            "Time:                        12:15:11   Log-Likelihood:                -386.18\n",
            "No. Observations:                 200   AIC:                             780.4\n",
            "Df Residuals:                     196   BIC:                             793.6\n",
            "Df Model:                           3                                         \n",
            "Covariance Type:            nonrobust                                         \n",
            "==============================================================================\n",
            "                 coef    std err          t      P>|t|      [0.025      0.975]\n",
            "------------------------------------------------------------------------------\n",
            "const          2.9389      0.312      9.422      0.000       2.324       3.554\n",
            "x1             0.0458      0.001     32.809      0.000       0.043       0.049\n",
            "x2             0.1885      0.009     21.893      0.000       0.172       0.206\n",
            "x3            -0.0010      0.006     -0.177      0.860      -0.013       0.011\n",
            "==============================================================================\n",
            "Omnibus:                       60.414   Durbin-Watson:                   2.084\n",
            "Prob(Omnibus):                  0.000   Jarque-Bera (JB):              151.241\n",
            "Skew:                          -1.327   Prob(JB):                     1.44e-33\n",
            "Kurtosis:                       6.332   Cond. No.                         454.\n",
            "==============================================================================\n",
            "\n",
            "Warnings:\n",
            "[1] Standard Errors assume that the covariance matrix of the errors is correctly specified.\n"
          ],
          "name": "stdout"
        }
      ]
    },
    {
      "cell_type": "markdown",
      "metadata": {
        "id": "6mOi9ep5QWRo"
      },
      "source": [
        "<p align = 'justify'>Nota-se que os coeficientes são idênticos ao do modelo anterior. Em relação as métricas, esse modelo explica a 89% da variabilidade dos dados  de resposta conforme o valor de R-quadrado ajustado e possui F-statistic igual a 570,3. Isso evidencia um bom modelo de previsão de valor de venda. Um ponto importante, é que a variável x3, ou seja, feature \"Jornal\" tem um p-valor maior que 0,05 que surge como indicativo de que essa variável não é relevante para o modelo. </p>"
      ]
    }
  ]
}
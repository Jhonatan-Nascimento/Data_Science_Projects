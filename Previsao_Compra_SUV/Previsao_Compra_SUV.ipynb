{
 "cells": [
  {
   "cell_type": "markdown",
   "metadata": {
    "id": "Xq3dl-4rpxZg"
   },
   "source": [
    "# **Previsão de Compra de SUV**"
   ]
  },
  {
   "cell_type": "markdown",
   "metadata": {
    "id": "ysvipivhm3D5"
   },
   "source": [
    "## Objetivo"
   ]
  },
  {
   "cell_type": "markdown",
   "metadata": {
    "id": "iqxe6vwgm6_m"
   },
   "source": [
    "- Esse projeto tem como objetivo determinar se um usuário de uma rede social comprou um SUV com base em dados de idade e estimativa salarial.\n",
    "- O dataset pode ser encontrado no link: https://www.kaggle.com/bluepanda98/users-of-a-social-network-who-bought-an-suv"
   ]
  },
  {
   "cell_type": "markdown",
   "metadata": {
    "id": "vUHfcZhAnhC5"
   },
   "source": [
    "## Etapa 01 - Importação e verificação dos dados"
   ]
  },
  {
   "cell_type": "code",
   "execution_count": 1,
   "metadata": {
    "id": "Jp1I0cUbmyyn"
   },
   "outputs": [],
   "source": [
    "# Importação das bibliotecas necessárias\n",
    "import pandas as pd\n",
    "import numpy as np\n",
    "import seaborn as sns\n",
    "import matplotlib.pyplot as plt\n",
    "\n",
    "%matplotlib inline"
   ]
  },
  {
   "cell_type": "code",
   "execution_count": 2,
   "metadata": {
    "id": "1dgVSYLSnwFQ"
   },
   "outputs": [],
   "source": [
    "# Importação dos dados\n",
    "dados = pd.read_csv('Social_Network_Ads.csv')"
   ]
  },
  {
   "cell_type": "code",
   "execution_count": 3,
   "metadata": {
    "colab": {
     "base_uri": "https://localhost:8080/",
     "height": 204
    },
    "id": "OqFoHLCQn97n",
    "outputId": "fe55efcc-051c-4118-d43b-00aa2d85cb3f"
   },
   "outputs": [
    {
     "data": {
      "text/html": [
       "<div>\n",
       "<style scoped>\n",
       "    .dataframe tbody tr th:only-of-type {\n",
       "        vertical-align: middle;\n",
       "    }\n",
       "\n",
       "    .dataframe tbody tr th {\n",
       "        vertical-align: top;\n",
       "    }\n",
       "\n",
       "    .dataframe thead th {\n",
       "        text-align: right;\n",
       "    }\n",
       "</style>\n",
       "<table border=\"1\" class=\"dataframe\">\n",
       "  <thead>\n",
       "    <tr style=\"text-align: right;\">\n",
       "      <th></th>\n",
       "      <th>User ID</th>\n",
       "      <th>Gender</th>\n",
       "      <th>Age</th>\n",
       "      <th>EstimatedSalary</th>\n",
       "      <th>Purchased</th>\n",
       "    </tr>\n",
       "  </thead>\n",
       "  <tbody>\n",
       "    <tr>\n",
       "      <th>0</th>\n",
       "      <td>15624510</td>\n",
       "      <td>Male</td>\n",
       "      <td>19</td>\n",
       "      <td>19000</td>\n",
       "      <td>0</td>\n",
       "    </tr>\n",
       "    <tr>\n",
       "      <th>1</th>\n",
       "      <td>15810944</td>\n",
       "      <td>Male</td>\n",
       "      <td>35</td>\n",
       "      <td>20000</td>\n",
       "      <td>0</td>\n",
       "    </tr>\n",
       "    <tr>\n",
       "      <th>2</th>\n",
       "      <td>15668575</td>\n",
       "      <td>Female</td>\n",
       "      <td>26</td>\n",
       "      <td>43000</td>\n",
       "      <td>0</td>\n",
       "    </tr>\n",
       "    <tr>\n",
       "      <th>3</th>\n",
       "      <td>15603246</td>\n",
       "      <td>Female</td>\n",
       "      <td>27</td>\n",
       "      <td>57000</td>\n",
       "      <td>0</td>\n",
       "    </tr>\n",
       "    <tr>\n",
       "      <th>4</th>\n",
       "      <td>16804002</td>\n",
       "      <td>Male</td>\n",
       "      <td>19</td>\n",
       "      <td>76000</td>\n",
       "      <td>0</td>\n",
       "    </tr>\n",
       "  </tbody>\n",
       "</table>\n",
       "</div>"
      ],
      "text/plain": [
       "    User ID  Gender  Age  EstimatedSalary  Purchased\n",
       "0  15624510    Male   19            19000          0\n",
       "1  15810944    Male   35            20000          0\n",
       "2  15668575  Female   26            43000          0\n",
       "3  15603246  Female   27            57000          0\n",
       "4  16804002    Male   19            76000          0"
      ]
     },
     "execution_count": 3,
     "metadata": {},
     "output_type": "execute_result"
    }
   ],
   "source": [
    "# Visualizar os 5 primeiros registros\n",
    "dados.head()"
   ]
  },
  {
   "cell_type": "markdown",
   "metadata": {
    "id": "dXYPPNmko9x-"
   },
   "source": [
    "**Dicionário dos dados**\n",
    "- **User ID**: Identificador único do usuário\n",
    "- **Gender**: Gênero do usuário\n",
    "- **Age**: Idade do usuário\n",
    "- **EstimatedSalary**: Salário estimado do usuário\n",
    "- **Purchased**: Compra de SUV (1 para Sim e 0 para Não)"
   ]
  },
  {
   "cell_type": "code",
   "execution_count": 4,
   "metadata": {
    "colab": {
     "base_uri": "https://localhost:8080/"
    },
    "id": "XTFWkzdfofgo",
    "outputId": "6c85b6fa-7bcf-4865-fcd3-667ee264c523"
   },
   "outputs": [
    {
     "name": "stdout",
     "output_type": "stream",
     "text": [
      "<class 'pandas.core.frame.DataFrame'>\n",
      "RangeIndex: 400 entries, 0 to 399\n",
      "Data columns (total 5 columns):\n",
      " #   Column           Non-Null Count  Dtype \n",
      "---  ------           --------------  ----- \n",
      " 0   User ID          400 non-null    int64 \n",
      " 1   Gender           400 non-null    object\n",
      " 2   Age              400 non-null    int64 \n",
      " 3   EstimatedSalary  400 non-null    int64 \n",
      " 4   Purchased        400 non-null    int64 \n",
      "dtypes: int64(4), object(1)\n",
      "memory usage: 15.8+ KB\n"
     ]
    }
   ],
   "source": [
    "# Informações sobre os dados\n",
    "dados.info()"
   ]
  },
  {
   "cell_type": "markdown",
   "metadata": {
    "id": "lpOSU_Zdo4tH"
   },
   "source": [
    "Como visto, os dados apresentando os tipos corretos, contudo a base de dados é bem pequena, possuindo apenas 400 registros."
   ]
  },
  {
   "cell_type": "markdown",
   "metadata": {
    "id": "P5gcbv66wVZt"
   },
   "source": [
    "## Etapa 02 - Visualização de dados"
   ]
  },
  {
   "cell_type": "code",
   "execution_count": 5,
   "metadata": {
    "colab": {
     "base_uri": "https://localhost:8080/",
     "height": 441
    },
    "id": "iZBrPrOfxJ1l",
    "outputId": "40dd823c-97bc-41b0-ed10-7d0356b97f45"
   },
   "outputs": [
    {
     "data": {
      "image/png": "[encoded data removed]",
      "text/plain": [
       "<Figure size 720x432 with 1 Axes>"
      ]
     },
     "metadata": {
      "needs_background": "light"
     },
     "output_type": "display_data"
    }
   ],
   "source": [
    "# Distribuição de usuários que compraram SUV pela idade e salário estimado\n",
    "plt.style.use('seaborn-dark-palette')\n",
    "plt.figure(figsize = (10,6))\n",
    "sns.scatterplot(x = 'Age', y = 'EstimatedSalary', data = dados, hue = 'Purchased')\n",
    "plt.xlabel('Idade')\n",
    "plt.ylabel('Salário estimado')\n",
    "\n",
    "plt.tight_layout()\n",
    "plt.show()"
   ]
  },
  {
   "cell_type": "markdown",
   "metadata": {
    "id": "qdVCmecC2iyl"
   },
   "source": [
    "Notamos que existe uma separação dos dados, sendo que os usuários entre 18 a 40 tendem a comprar um SUV com a faixa salarial até $100.000. Já os usuários acima de 40 anos são mais restritos os casos de compra."
   ]
  },
  {
   "cell_type": "code",
   "execution_count": 6,
   "metadata": {
    "colab": {
     "base_uri": "https://localhost:8080/",
     "height": 388
    },
    "id": "6qi1GDzN2HPl",
    "outputId": "fc055bfc-7467-4d3a-d99f-6261154a2dc6"
   },
   "outputs": [
    {
     "data": {
      "image/png": "[encoded data removed]",
      "text/plain": [
       "<Figure size 720x432 with 1 Axes>"
      ]
     },
     "metadata": {
      "needs_background": "light"
     },
     "output_type": "display_data"
    }
   ],
   "source": [
    "# Distribuição de usuários pelo gênero\n",
    "plt.figure(figsize = (10,6))\n",
    "sns.countplot(x = 'Gender', data = dados)\n",
    "plt.xlabel('Gênero')\n",
    "plt.ylabel('Contagem')\n",
    "plt.show()"
   ]
  },
  {
   "cell_type": "markdown",
   "metadata": {
    "id": "j7WZWWsK3EW7"
   },
   "source": [
    "Aqui percebemos que há um balanceamento nos dados, sendo que há um número ínfimo maior de mulheres do que homens no conjunto de dados."
   ]
  },
  {
   "cell_type": "code",
   "execution_count": 7,
   "metadata": {
    "colab": {
     "base_uri": "https://localhost:8080/",
     "height": 389
    },
    "id": "iUyF-eZe4yoL",
    "outputId": "f9e89e4f-bafa-4766-ee7d-6c4b26a26577"
   },
   "outputs": [
    {
     "data": {
      "image/png": "[encoded data removed]",
      "text/plain": [
       "<Figure size 720x432 with 1 Axes>"
      ]
     },
     "metadata": {
      "needs_background": "light"
     },
     "output_type": "display_data"
    }
   ],
   "source": [
    "# Distribuição dos usuários pela idade\n",
    "plt.figure(figsize = (10,6))\n",
    "sns.histplot(dados['Age'], kde = True)\n",
    "plt.xlabel('Idade')\n",
    "plt.ylabel('Contagem')\n",
    "plt.show()"
   ]
  },
  {
   "cell_type": "markdown",
   "metadata": {
    "id": "lgOXUUqg3ALm"
   },
   "source": [
    "Podemos notar que existe um pico entre 30 a 40 anos, evidenciando a maior presença de adultos no conjunto de dados."
   ]
  },
  {
   "cell_type": "code",
   "execution_count": 8,
   "metadata": {
    "colab": {
     "base_uri": "https://localhost:8080/",
     "height": 388
    },
    "id": "vkEgkXL95UlK",
    "outputId": "1b13f5de-8e6c-4a6d-aa67-4526f1dbd3bd"
   },
   "outputs": [
    {
     "data": {
      "image/png": "[encoded data removed]",
      "text/plain": [
       "<Figure size 720x432 with 1 Axes>"
      ]
     },
     "metadata": {
      "needs_background": "light"
     },
     "output_type": "display_data"
    }
   ],
   "source": [
    "# Distribuição de salários estimados\n",
    "plt.figure(figsize = (10,6))\n",
    "sns.histplot(dados['EstimatedSalary'], kde = True)\n",
    "plt.xlabel('Salário estimado')\n",
    "plt.ylabel('Contagem')\n",
    "plt.show()"
   ]
  },
  {
   "cell_type": "markdown",
   "metadata": {
    "id": "mm3b7-ro5pXq"
   },
   "source": [
    "Aqui podemos notar o pico dos salários estimados está entre 60 mil doláres a 80 mil dólares."
   ]
  },
  {
   "cell_type": "code",
   "execution_count": 9,
   "metadata": {
    "colab": {
     "base_uri": "https://localhost:8080/",
     "height": 388
    },
    "id": "Aek0aABj6U-J",
    "outputId": "63116812-d6fe-49f7-cec6-d118ca7027f2"
   },
   "outputs": [
    {
     "data": {
      "image/png": "[encoded data removed]",
      "text/plain": [
       "<Figure size 720x432 with 1 Axes>"
      ]
     },
     "metadata": {
      "needs_background": "light"
     },
     "output_type": "display_data"
    }
   ],
   "source": [
    "# Distribuição dos usuários que compraram e não comprarm SUV\n",
    "plt.figure(figsize = (10,6))\n",
    "sns.countplot(x = 'Purchased', data = dados)\n",
    "plt.xlabel('Compra SUV')\n",
    "plt.ylabel('Contagem')\n",
    "plt.show()"
   ]
  },
  {
   "cell_type": "markdown",
   "metadata": {
    "id": "jGbsRSsT6yE7"
   },
   "source": [
    "Verificamos que existe uma diferença expressiva nos usuários que não compraram SUV em relação aos que compraram."
   ]
  },
  {
   "cell_type": "markdown",
   "metadata": {
    "id": "65Gf6u-mwpgV"
   },
   "source": [
    "## Etapa 03 - Tratamento de dados"
   ]
  },
  {
   "cell_type": "markdown",
   "metadata": {
    "id": "sM89Zkar76bq"
   },
   "source": [
    "### Exclusão de variáveis"
   ]
  },
  {
   "cell_type": "code",
   "execution_count": 10,
   "metadata": {
    "colab": {
     "base_uri": "https://localhost:8080/",
     "height": 204
    },
    "id": "kjeUNo6jo1tu",
    "outputId": "1f5ebe18-fb87-43a2-d51e-87afe6ffbe12"
   },
   "outputs": [
    {
     "data": {
      "text/html": [
       "<div>\n",
       "<style scoped>\n",
       "    .dataframe tbody tr th:only-of-type {\n",
       "        vertical-align: middle;\n",
       "    }\n",
       "\n",
       "    .dataframe tbody tr th {\n",
       "        vertical-align: top;\n",
       "    }\n",
       "\n",
       "    .dataframe thead th {\n",
       "        text-align: right;\n",
       "    }\n",
       "</style>\n",
       "<table border=\"1\" class=\"dataframe\">\n",
       "  <thead>\n",
       "    <tr style=\"text-align: right;\">\n",
       "      <th></th>\n",
       "      <th>User ID</th>\n",
       "      <th>Gender</th>\n",
       "      <th>Age</th>\n",
       "      <th>EstimatedSalary</th>\n",
       "      <th>Purchased</th>\n",
       "    </tr>\n",
       "  </thead>\n",
       "  <tbody>\n",
       "    <tr>\n",
       "      <th>0</th>\n",
       "      <td>15624510</td>\n",
       "      <td>Male</td>\n",
       "      <td>19</td>\n",
       "      <td>19000</td>\n",
       "      <td>0</td>\n",
       "    </tr>\n",
       "    <tr>\n",
       "      <th>1</th>\n",
       "      <td>15810944</td>\n",
       "      <td>Male</td>\n",
       "      <td>35</td>\n",
       "      <td>20000</td>\n",
       "      <td>0</td>\n",
       "    </tr>\n",
       "    <tr>\n",
       "      <th>2</th>\n",
       "      <td>15668575</td>\n",
       "      <td>Female</td>\n",
       "      <td>26</td>\n",
       "      <td>43000</td>\n",
       "      <td>0</td>\n",
       "    </tr>\n",
       "    <tr>\n",
       "      <th>3</th>\n",
       "      <td>15603246</td>\n",
       "      <td>Female</td>\n",
       "      <td>27</td>\n",
       "      <td>57000</td>\n",
       "      <td>0</td>\n",
       "    </tr>\n",
       "    <tr>\n",
       "      <th>4</th>\n",
       "      <td>16804002</td>\n",
       "      <td>Male</td>\n",
       "      <td>19</td>\n",
       "      <td>76000</td>\n",
       "      <td>0</td>\n",
       "    </tr>\n",
       "  </tbody>\n",
       "</table>\n",
       "</div>"
      ],
      "text/plain": [
       "    User ID  Gender  Age  EstimatedSalary  Purchased\n",
       "0  15624510    Male   19            19000          0\n",
       "1  15810944    Male   35            20000          0\n",
       "2  15668575  Female   26            43000          0\n",
       "3  15603246  Female   27            57000          0\n",
       "4  16804002    Male   19            76000          0"
      ]
     },
     "execution_count": 10,
     "metadata": {},
     "output_type": "execute_result"
    }
   ],
   "source": [
    "# Visualizar os 5 primeiros registros\n",
    "dados.head()"
   ]
  },
  {
   "cell_type": "markdown",
   "metadata": {
    "id": "J0HL6i-b1Wiz"
   },
   "source": [
    "Vamos descartar a coluna User ID, pois não fornece informações relevantes para o modelo."
   ]
  },
  {
   "cell_type": "code",
   "execution_count": 11,
   "metadata": {
    "id": "_NmbYQBOz3T8"
   },
   "outputs": [],
   "source": [
    "# Exclusão da coluna User ID\n",
    "dados = dados.drop('User ID', axis = 1)"
   ]
  },
  {
   "cell_type": "markdown",
   "metadata": {
    "id": "-9-NSof38BxL"
   },
   "source": [
    "### Verificação de dados ausentes"
   ]
  },
  {
   "cell_type": "markdown",
   "metadata": {
    "id": "kTi6psR11wQG"
   },
   "source": [
    "Vamos verificar agora, se o conjunto de dados possui dados faltantes:"
   ]
  },
  {
   "cell_type": "code",
   "execution_count": 12,
   "metadata": {
    "colab": {
     "base_uri": "https://localhost:8080/"
    },
    "id": "LYljZ23fz9OU",
    "outputId": "0cc0c837-5bd6-4ae6-f405-bf77ec5e51ae"
   },
   "outputs": [
    {
     "data": {
      "text/plain": [
       "Gender             0\n",
       "Age                0\n",
       "EstimatedSalary    0\n",
       "Purchased          0\n",
       "dtype: int64"
      ]
     },
     "execution_count": 12,
     "metadata": {},
     "output_type": "execute_result"
    }
   ],
   "source": [
    "# Contagem de valores ausentes\n",
    "dados.isna().sum()"
   ]
  },
  {
   "cell_type": "markdown",
   "metadata": {
    "id": "MJCS3dPw2Ebc"
   },
   "source": [
    "Não há dados faltantes."
   ]
  },
  {
   "cell_type": "markdown",
   "metadata": {
    "id": "euxwo5OR8GHR"
   },
   "source": [
    "### Tratamento de variáveis categóricas"
   ]
  },
  {
   "cell_type": "markdown",
   "metadata": {
    "id": "wP2W6Osv7C0Z"
   },
   "source": [
    "Necessitamos dummificar as variáveis categóricas para a aplicação de modelos de Machine Learning:"
   ]
  },
  {
   "cell_type": "code",
   "execution_count": 13,
   "metadata": {
    "id": "ymbqCmFN0Dfs"
   },
   "outputs": [],
   "source": [
    "from sklearn.preprocessing import LabelEncoder"
   ]
  },
  {
   "cell_type": "code",
   "execution_count": 14,
   "metadata": {
    "id": "bN3Oak_V7PO5"
   },
   "outputs": [],
   "source": [
    "le = LabelEncoder()"
   ]
  },
  {
   "cell_type": "code",
   "execution_count": 15,
   "metadata": {
    "colab": {
     "base_uri": "https://localhost:8080/"
    },
    "id": "OpNAhzZu7aBy",
    "outputId": "18555744-c4b9-49be-b77d-26cdc87a050c"
   },
   "outputs": [
    {
     "data": {
      "text/plain": [
       "LabelEncoder()"
      ]
     },
     "execution_count": 15,
     "metadata": {},
     "output_type": "execute_result"
    }
   ],
   "source": [
    "# Dummificando a variável Gender\n",
    "le.fit(dados['Gender'])"
   ]
  },
  {
   "cell_type": "code",
   "execution_count": 16,
   "metadata": {
    "colab": {
     "base_uri": "https://localhost:8080/"
    },
    "id": "UlSmJaN37nEz",
    "outputId": "20a0b9b5-7a83-4a9d-88fb-54e1a333ddba"
   },
   "outputs": [
    {
     "data": {
      "text/plain": [
       "['Female', 'Male']"
      ]
     },
     "execution_count": 16,
     "metadata": {},
     "output_type": "execute_result"
    }
   ],
   "source": [
    "# Listar as classes\n",
    "list(le.classes_)"
   ]
  },
  {
   "cell_type": "code",
   "execution_count": 17,
   "metadata": {
    "id": "vooju-av7ujx"
   },
   "outputs": [],
   "source": [
    "# Inseridos os dados dummificados na coluna Gender\n",
    "dados['Gender'] = le.transform(dados['Gender'])"
   ]
  },
  {
   "cell_type": "code",
   "execution_count": 18,
   "metadata": {
    "colab": {
     "base_uri": "https://localhost:8080/",
     "height": 204
    },
    "id": "6b0UGcfPBlRB",
    "outputId": "97c2568f-4939-4ee7-a7ca-ab34acb0e8a5"
   },
   "outputs": [
    {
     "data": {
      "text/html": [
       "<div>\n",
       "<style scoped>\n",
       "    .dataframe tbody tr th:only-of-type {\n",
       "        vertical-align: middle;\n",
       "    }\n",
       "\n",
       "    .dataframe tbody tr th {\n",
       "        vertical-align: top;\n",
       "    }\n",
       "\n",
       "    .dataframe thead th {\n",
       "        text-align: right;\n",
       "    }\n",
       "</style>\n",
       "<table border=\"1\" class=\"dataframe\">\n",
       "  <thead>\n",
       "    <tr style=\"text-align: right;\">\n",
       "      <th></th>\n",
       "      <th>Gender</th>\n",
       "      <th>Age</th>\n",
       "      <th>EstimatedSalary</th>\n",
       "      <th>Purchased</th>\n",
       "    </tr>\n",
       "  </thead>\n",
       "  <tbody>\n",
       "    <tr>\n",
       "      <th>0</th>\n",
       "      <td>1</td>\n",
       "      <td>19</td>\n",
       "      <td>19000</td>\n",
       "      <td>0</td>\n",
       "    </tr>\n",
       "    <tr>\n",
       "      <th>1</th>\n",
       "      <td>1</td>\n",
       "      <td>35</td>\n",
       "      <td>20000</td>\n",
       "      <td>0</td>\n",
       "    </tr>\n",
       "    <tr>\n",
       "      <th>2</th>\n",
       "      <td>0</td>\n",
       "      <td>26</td>\n",
       "      <td>43000</td>\n",
       "      <td>0</td>\n",
       "    </tr>\n",
       "    <tr>\n",
       "      <th>3</th>\n",
       "      <td>0</td>\n",
       "      <td>27</td>\n",
       "      <td>57000</td>\n",
       "      <td>0</td>\n",
       "    </tr>\n",
       "    <tr>\n",
       "      <th>4</th>\n",
       "      <td>1</td>\n",
       "      <td>19</td>\n",
       "      <td>76000</td>\n",
       "      <td>0</td>\n",
       "    </tr>\n",
       "  </tbody>\n",
       "</table>\n",
       "</div>"
      ],
      "text/plain": [
       "   Gender  Age  EstimatedSalary  Purchased\n",
       "0       1   19            19000          0\n",
       "1       1   35            20000          0\n",
       "2       0   26            43000          0\n",
       "3       0   27            57000          0\n",
       "4       1   19            76000          0"
      ]
     },
     "execution_count": 18,
     "metadata": {},
     "output_type": "execute_result"
    }
   ],
   "source": [
    "# Visualizar os 5 primeiros registros\n",
    "dados.head()"
   ]
  },
  {
   "cell_type": "markdown",
   "metadata": {
    "id": "ChFt12yzCAdB"
   },
   "source": [
    "### Padronização das variáveis númericas"
   ]
  },
  {
   "cell_type": "markdown",
   "metadata": {
    "id": "DuEP82fHCnXX"
   },
   "source": [
    "Como as variáveis númericas estão em diferente escalas, faz-se necessário a padronização das variáveis em apenas um intervalo."
   ]
  },
  {
   "cell_type": "code",
   "execution_count": 19,
   "metadata": {
    "id": "xCyAn8riBvy_"
   },
   "outputs": [],
   "source": [
    "from sklearn.preprocessing import StandardScaler"
   ]
  },
  {
   "cell_type": "code",
   "execution_count": 20,
   "metadata": {
    "id": "JlxT-LqTCOAo"
   },
   "outputs": [],
   "source": [
    "sc = StandardScaler()"
   ]
  },
  {
   "cell_type": "code",
   "execution_count": 21,
   "metadata": {
    "id": "ExdDLxv9CRng"
   },
   "outputs": [],
   "source": [
    "# Normalizar as variáveis númericas\n",
    "dados[['Age','EstimatedSalary']] = sc.fit_transform(dados[['Age', 'EstimatedSalary']])"
   ]
  },
  {
   "cell_type": "code",
   "execution_count": 22,
   "metadata": {
    "colab": {
     "base_uri": "https://localhost:8080/",
     "height": 204
    },
    "id": "FpC0_0nRCfGu",
    "outputId": "833e7cc5-c5e6-414c-d53a-ea6f3d8e1095"
   },
   "outputs": [
    {
     "data": {
      "text/html": [
       "<div>\n",
       "<style scoped>\n",
       "    .dataframe tbody tr th:only-of-type {\n",
       "        vertical-align: middle;\n",
       "    }\n",
       "\n",
       "    .dataframe tbody tr th {\n",
       "        vertical-align: top;\n",
       "    }\n",
       "\n",
       "    .dataframe thead th {\n",
       "        text-align: right;\n",
       "    }\n",
       "</style>\n",
       "<table border=\"1\" class=\"dataframe\">\n",
       "  <thead>\n",
       "    <tr style=\"text-align: right;\">\n",
       "      <th></th>\n",
       "      <th>Gender</th>\n",
       "      <th>Age</th>\n",
       "      <th>EstimatedSalary</th>\n",
       "      <th>Purchased</th>\n",
       "    </tr>\n",
       "  </thead>\n",
       "  <tbody>\n",
       "    <tr>\n",
       "      <th>0</th>\n",
       "      <td>1</td>\n",
       "      <td>-1.781797</td>\n",
       "      <td>-1.490046</td>\n",
       "      <td>0</td>\n",
       "    </tr>\n",
       "    <tr>\n",
       "      <th>1</th>\n",
       "      <td>1</td>\n",
       "      <td>-0.253587</td>\n",
       "      <td>-1.460681</td>\n",
       "      <td>0</td>\n",
       "    </tr>\n",
       "    <tr>\n",
       "      <th>2</th>\n",
       "      <td>0</td>\n",
       "      <td>-1.113206</td>\n",
       "      <td>-0.785290</td>\n",
       "      <td>0</td>\n",
       "    </tr>\n",
       "    <tr>\n",
       "      <th>3</th>\n",
       "      <td>0</td>\n",
       "      <td>-1.017692</td>\n",
       "      <td>-0.374182</td>\n",
       "      <td>0</td>\n",
       "    </tr>\n",
       "    <tr>\n",
       "      <th>4</th>\n",
       "      <td>1</td>\n",
       "      <td>-1.781797</td>\n",
       "      <td>0.183751</td>\n",
       "      <td>0</td>\n",
       "    </tr>\n",
       "  </tbody>\n",
       "</table>\n",
       "</div>"
      ],
      "text/plain": [
       "   Gender       Age  EstimatedSalary  Purchased\n",
       "0       1 -1.781797        -1.490046          0\n",
       "1       1 -0.253587        -1.460681          0\n",
       "2       0 -1.113206        -0.785290          0\n",
       "3       0 -1.017692        -0.374182          0\n",
       "4       1 -1.781797         0.183751          0"
      ]
     },
     "execution_count": 22,
     "metadata": {},
     "output_type": "execute_result"
    }
   ],
   "source": [
    "dados.head()"
   ]
  },
  {
   "cell_type": "markdown",
   "metadata": {
    "id": "AsZq8jhLDX6U"
   },
   "source": [
    "Com os dados devidamente tratados, podemos prepará-los para aplicar o modelo de Machine Learning."
   ]
  },
  {
   "cell_type": "markdown",
   "metadata": {
    "id": "Pm0jB5EIDgT3"
   },
   "source": [
    "## Etapa 04 - Aplicação do Modelo de Machine Learning"
   ]
  },
  {
   "cell_type": "markdown",
   "metadata": {
    "id": "Gh6gIE7uDm8H"
   },
   "source": [
    "Inicialmente, realizamos a separação das variáveis preditoras e a variável alvo:"
   ]
  },
  {
   "cell_type": "code",
   "execution_count": 23,
   "metadata": {
    "id": "Xu01WdZNCipm"
   },
   "outputs": [],
   "source": [
    "X = dados.drop('Purchased', axis = 1).values\n",
    "y = dados['Purchased'].values"
   ]
  },
  {
   "cell_type": "markdown",
   "metadata": {
    "id": "DHK0bDtBEDnI"
   },
   "source": [
    "Podemos agora, executar a separação dos dados em treinamento e teste:"
   ]
  },
  {
   "cell_type": "code",
   "execution_count": 24,
   "metadata": {
    "id": "4QlTJcTaDynp"
   },
   "outputs": [],
   "source": [
    "from sklearn.model_selection import train_test_split\n",
    "X_treino, X_teste, y_treino, y_teste = train_test_split(X, y, test_size = 0.25, random_state = 13)"
   ]
  },
  {
   "cell_type": "markdown",
   "metadata": {
    "id": "sMNIoW1KEm-_"
   },
   "source": [
    "Aplicaremos o modelo de Regressão Logística para atingirmos o objetivo inicial:"
   ]
  },
  {
   "cell_type": "code",
   "execution_count": 25,
   "metadata": {
    "id": "N0FMiq9PEykB"
   },
   "outputs": [],
   "source": [
    "from sklearn.linear_model import LogisticRegression"
   ]
  },
  {
   "cell_type": "code",
   "execution_count": 26,
   "metadata": {
    "id": "4JyLQIIwE23O"
   },
   "outputs": [],
   "source": [
    "# Instanciar o modelo\n",
    "reglog = LogisticRegression()"
   ]
  },
  {
   "cell_type": "code",
   "execution_count": 27,
   "metadata": {
    "colab": {
     "base_uri": "https://localhost:8080/"
    },
    "id": "MJV5-JDRE7OH",
    "outputId": "95a33a0e-5e9f-4205-a77a-20e20e576112"
   },
   "outputs": [
    {
     "data": {
      "text/plain": [
       "LogisticRegression()"
      ]
     },
     "execution_count": 27,
     "metadata": {},
     "output_type": "execute_result"
    }
   ],
   "source": [
    "# Treinar o modelo\n",
    "reglog.fit(X_treino, y_treino)"
   ]
  },
  {
   "cell_type": "code",
   "execution_count": 28,
   "metadata": {
    "id": "EKxDRT8HFAO_"
   },
   "outputs": [],
   "source": [
    "# Previsões do modelo\n",
    "y_pred = reglog.predict(X_teste)"
   ]
  },
  {
   "cell_type": "markdown",
   "metadata": {
    "id": "mTcDLlWoFMM_"
   },
   "source": [
    "## Etapa 05 - Avaliação do Modelo"
   ]
  },
  {
   "cell_type": "markdown",
   "metadata": {
    "id": "tuThz4H-FT7_"
   },
   "source": [
    "Para avaliarmos a performance do modelo, podemos visualizar a matriz de confusão:"
   ]
  },
  {
   "cell_type": "code",
   "execution_count": 29,
   "metadata": {
    "id": "vdeag-ubFIZ-"
   },
   "outputs": [],
   "source": [
    "from sklearn.metrics import confusion_matrix"
   ]
  },
  {
   "cell_type": "code",
   "execution_count": 30,
   "metadata": {
    "colab": {
     "base_uri": "https://localhost:8080/"
    },
    "id": "YxZpRIgLFeGn",
    "outputId": "745c2e91-b692-4618-d55c-6f7415f57bf0"
   },
   "outputs": [
    {
     "data": {
      "text/plain": [
       "array([[63,  9],\n",
       "       [ 8, 20]], dtype=int64)"
      ]
     },
     "execution_count": 30,
     "metadata": {},
     "output_type": "execute_result"
    }
   ],
   "source": [
    "cm = confusion_matrix(y_teste, y_pred)\n",
    "cm"
   ]
  },
  {
   "cell_type": "code",
   "execution_count": 31,
   "metadata": {
    "colab": {
     "base_uri": "https://localhost:8080/",
     "height": 374
    },
    "id": "SKU92s2SFjsu",
    "outputId": "a3d48323-c839-47f6-d84c-ec0a9549cd6d"
   },
   "outputs": [
    {
     "data": {
      "image/png": "[encoded data removed]",
      "text/plain": [
       "<Figure size 720x432 with 2 Axes>"
      ]
     },
     "metadata": {
      "needs_background": "light"
     },
     "output_type": "display_data"
    }
   ],
   "source": [
    "# Visualizar a matriz de confusão através de um Heatmap\n",
    "plt.figure(figsize = (10,6))\n",
    "sns.heatmap(cm, annot = True, fmt = 'd')\n",
    "plt.show()"
   ]
  },
  {
   "cell_type": "markdown",
   "metadata": {
    "id": "SDTqPUG1F7Dv"
   },
   "source": [
    "Nosso modelo preveu:\n",
    "\n",
    "- 61 verdadeiros negativos\n",
    "- 10 falsos negativos\n",
    "- 27 verdadeiros positivos\n",
    "- 2 falsos positivos\n",
    "\n",
    "Isso evidencia um bom resultado do modelo para prever aqueles que comprariam um SUV."
   ]
  },
  {
   "cell_type": "markdown",
   "metadata": {
    "id": "zHeULMl5HTRX"
   },
   "source": [
    "Continuando nossa avaliação do modelo, podemos elaborar um relatório com as principais métricas de classificação:"
   ]
  },
  {
   "cell_type": "code",
   "execution_count": 32,
   "metadata": {
    "id": "dUr6iiieFzSw"
   },
   "outputs": [],
   "source": [
    "from sklearn.metrics import f1_score, precision_score, average_precision_score, recall_score, accuracy_score"
   ]
  },
  {
   "cell_type": "code",
   "execution_count": 33,
   "metadata": {
    "id": "qhtaUQpFIf-e"
   },
   "outputs": [],
   "source": [
    "# Listas vazias para armazenar os valores das métricas\n",
    "modelo = []\n",
    "f1 = []\n",
    "precisao = []\n",
    "precisao_media = []\n",
    "recall = []\n",
    "acuracia = []"
   ]
  },
  {
   "cell_type": "code",
   "execution_count": 34,
   "metadata": {
    "id": "GtmLT9WxHx1-"
   },
   "outputs": [],
   "source": [
    "# Cálculo das métricas de classificação\n",
    "f1_score = f1_score(y_teste, y_pred)\n",
    "precision = precision_score(y_teste, y_pred)\n",
    "avg_prec = average_precision_score(y_teste, y_pred)\n",
    "rec = recall_score(y_teste, y_pred)\n",
    "acc = accuracy_score(y_teste, y_pred)"
   ]
  },
  {
   "cell_type": "code",
   "execution_count": 35,
   "metadata": {
    "id": "c3gKf0WwIcF2"
   },
   "outputs": [],
   "source": [
    "# Armazenar os valores calculados nas listas\n",
    "modelo.append('Regressão Logística')\n",
    "f1.append(f1_score)\n",
    "precisao.append(precision)\n",
    "precisao_media.append(avg_prec)\n",
    "recall.append(rec)\n",
    "acuracia.append(acc)"
   ]
  },
  {
   "cell_type": "code",
   "execution_count": 36,
   "metadata": {
    "colab": {
     "base_uri": "https://localhost:8080/",
     "height": 80
    },
    "id": "tg7L6a3vHKKX",
    "outputId": "0e7a040d-34f8-48f6-afa0-ef86b9e733e4"
   },
   "outputs": [
    {
     "data": {
      "text/html": [
       "<div>\n",
       "<style scoped>\n",
       "    .dataframe tbody tr th:only-of-type {\n",
       "        vertical-align: middle;\n",
       "    }\n",
       "\n",
       "    .dataframe tbody tr th {\n",
       "        vertical-align: top;\n",
       "    }\n",
       "\n",
       "    .dataframe thead th {\n",
       "        text-align: right;\n",
       "    }\n",
       "</style>\n",
       "<table border=\"1\" class=\"dataframe\">\n",
       "  <thead>\n",
       "    <tr style=\"text-align: right;\">\n",
       "      <th></th>\n",
       "      <th>Modelo</th>\n",
       "      <th>f1_score</th>\n",
       "      <th>Precisão</th>\n",
       "      <th>Precisão Média</th>\n",
       "      <th>Recall</th>\n",
       "      <th>Acurácia</th>\n",
       "    </tr>\n",
       "  </thead>\n",
       "  <tbody>\n",
       "    <tr>\n",
       "      <th>0</th>\n",
       "      <td>Regressão Logística</td>\n",
       "      <td>0.701754</td>\n",
       "      <td>0.689655</td>\n",
       "      <td>0.572611</td>\n",
       "      <td>0.714286</td>\n",
       "      <td>0.83</td>\n",
       "    </tr>\n",
       "  </tbody>\n",
       "</table>\n",
       "</div>"
      ],
      "text/plain": [
       "                Modelo  f1_score  Precisão  Precisão Média    Recall  Acurácia\n",
       "0  Regressão Logística  0.701754  0.689655        0.572611  0.714286      0.83"
      ]
     },
     "execution_count": 36,
     "metadata": {},
     "output_type": "execute_result"
    }
   ],
   "source": [
    "# Criação de DataFrame com as métricas calculadas\n",
    "dic = {'Modelo': modelo, 'f1_score': f1, 'Precisão': precisao, 'Precisão Média': precisao_media, 'Recall': recall, 'Acurácia': acuracia}\n",
    "avaliacao = pd.DataFrame(dic)\n",
    "avaliacao"
   ]
  },
  {
   "cell_type": "markdown",
   "metadata": {
    "id": "eQrCFwGlKqFn"
   },
   "source": [
    "A seguir, visualizaremos a Curva ROC do modelo:"
   ]
  },
  {
   "cell_type": "code",
   "execution_count": 37,
   "metadata": {
    "id": "8j-nn4zqLAE0"
   },
   "outputs": [],
   "source": [
    "from sklearn.metrics import roc_curve, roc_auc_score"
   ]
  },
  {
   "cell_type": "code",
   "execution_count": 38,
   "metadata": {
    "colab": {
     "base_uri": "https://localhost:8080/"
    },
    "id": "Pr4i2Z1MLICe",
    "outputId": "f0356296-0af6-4ccd-babb-2bfb6965611a"
   },
   "outputs": [
    {
     "name": "stdout",
     "output_type": "stream",
     "text": [
      "ROC score = 0.7946\n"
     ]
    }
   ],
   "source": [
    "roc_score = roc_auc_score(y_teste, y_pred)\n",
    "print('ROC score = {:0.4f}'.format(roc_score))"
   ]
  },
  {
   "cell_type": "code",
   "execution_count": 39,
   "metadata": {
    "id": "izvkrA_bLdP-"
   },
   "outputs": [],
   "source": [
    "# Executar a Curva ROC\n",
    "roc_fpr, roc_tpr, _ = roc_curve(y_teste, y_pred)"
   ]
  },
  {
   "cell_type": "code",
   "execution_count": 40,
   "metadata": {
    "colab": {
     "base_uri": "https://localhost:8080/",
     "height": 388
    },
    "id": "bZeloEsjLvW9",
    "outputId": "caf80ad1-8004-4a8b-8311-c54f8dcb6856"
   },
   "outputs": [
    {
     "data": {
      "image/png": "[encoded data removed]",
      "text/plain": [
       "<Figure size 720x432 with 1 Axes>"
      ]
     },
     "metadata": {
      "needs_background": "light"
     },
     "output_type": "display_data"
    }
   ],
   "source": [
    "# Visualizar a curva ROC\n",
    "plt.figure(figsize = (10,6))\n",
    "sns.lineplot(x = roc_fpr, y = roc_tpr)\n",
    "plt.xlabel('Taxa de Falsos Positivos')\n",
    "plt.ylabel('Taxa de Verdadeiros Positivos')\n",
    "plt.show()"
   ]
  },
  {
   "cell_type": "markdown",
   "metadata": {
    "id": "PDzUTiarNGBF"
   },
   "source": [
    "Podemos também, visualizar a Curva Precision-Recall"
   ]
  },
  {
   "cell_type": "code",
   "execution_count": 41,
   "metadata": {
    "id": "tbYXPQ6UNFzF"
   },
   "outputs": [],
   "source": [
    "from sklearn.metrics import precision_recall_curve, auc"
   ]
  },
  {
   "cell_type": "code",
   "execution_count": 42,
   "metadata": {
    "id": "x0uq7Km6NYuu"
   },
   "outputs": [],
   "source": [
    "lr_precision, lr_recall, _ = precision_recall_curve(y_teste, y_pred)\n",
    "lr_auc = auc(lr_precision, lr_recall)"
   ]
  },
  {
   "cell_type": "code",
   "execution_count": 43,
   "metadata": {
    "colab": {
     "base_uri": "https://localhost:8080/"
    },
    "id": "qBCsChs2NoJW",
    "outputId": "9255c568-55eb-4150-f7d2-7b6ebadebb4a"
   },
   "outputs": [
    {
     "name": "stdout",
     "output_type": "stream",
     "text": [
      "AUC score = 0.4620\n"
     ]
    }
   ],
   "source": [
    "print('AUC score = {:0.4f}'.format(lr_auc))"
   ]
  },
  {
   "cell_type": "code",
   "execution_count": 44,
   "metadata": {
    "colab": {
     "base_uri": "https://localhost:8080/",
     "height": 388
    },
    "id": "WesvJa5SNxNo",
    "outputId": "edd05be2-705f-4c23-f4bb-6eefdaf99a26"
   },
   "outputs": [
    {
     "data": {
      "image/png": "[encoded data removed]",
      "text/plain": [
       "<Figure size 720x432 with 1 Axes>"
      ]
     },
     "metadata": {
      "needs_background": "light"
     },
     "output_type": "display_data"
    }
   ],
   "source": [
    "# Visualizar a curva ROC\n",
    "plt.figure(figsize = (10,6))\n",
    "sns.lineplot(x = lr_recall, y = lr_precision)\n",
    "plt.xlabel('Recall')\n",
    "plt.ylabel('Precisão')\n",
    "plt.show()"
   ]
  },
  {
   "cell_type": "markdown",
   "metadata": {
    "id": "OzGbYRyHMdkl"
   },
   "source": [
    "Por fim, podemos concluir que o modelo de Regressão Logística apresentou um resultado bom para a classificação de usuários que comprariam um SUV presentes no conjunto de dados. Vale ressaltar que a quantidade de dados influencia no desempenho do modelo, para uma aplicação seria necessário um maior quantidade de dados e características para determinar um perfil de usuário que realizaria a compra. Contudo, esse projeto serve com um exercício prático do uso de Machine Learning para classificação."
   ]
  }
 ],
 "metadata": {
  "colab": {
   "collapsed_sections": [
    "ysvipivhm3D5",
    "sM89Zkar76bq",
    "-9-NSof38BxL",
    "euxwo5OR8GHR",
    "ChFt12yzCAdB",
    "Pm0jB5EIDgT3",
    "mTcDLlWoFMM_"
   ],
   "name": "Previsao_Compra_SUV.ipynb",
   "provenance": [],
   "toc_visible": true
  },
  "kernelspec": {
   "display_name": "Python 3",
   "language": "python",
   "name": "python3"
  },
  "language_info": {
   "codemirror_mode": {
    "name": "ipython",
    "version": 3
   },
   "file_extension": ".py",
   "mimetype": "text/x-python",
   "name": "python",
   "nbconvert_exporter": "python",
   "pygments_lexer": "ipython3",
   "version": "3.8.5"
  }
 },
 "nbformat": 4,
 "nbformat_minor": 1
}

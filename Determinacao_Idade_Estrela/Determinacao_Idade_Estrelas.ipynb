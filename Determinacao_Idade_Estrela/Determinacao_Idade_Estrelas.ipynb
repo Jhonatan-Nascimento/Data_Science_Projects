{
 "cells": [
  {
   "cell_type": "markdown",
   "metadata": {
    "id": "ZFMaohkSFoJc"
   },
   "source": [
    "# **Determinação da idade de estrelas com Machine Learning**\n"
   ]
  },
  {
   "cell_type": "markdown",
   "metadata": {
    "id": "v4uNa6yqE8T8"
   },
   "source": [
    "## Objetivo"
   ]
  },
  {
   "cell_type": "markdown",
   "metadata": {
    "id": "N8GtZAv8FEZ0"
   },
   "source": [
    "- Neste projeto objetivamos a determinação da idade de estrelas a partir de diferentes propriedados físicas. Os dados utlizados nesse projeto são públicos e fornecidos pelo serviço de catálogo astronômico Vizier.\n",
    "- Esse projeto é exercício prático de Machine Learning replicado do projeto original do profº Danilo Morales Teixeira.\n",
    "- Os dados podem ser obtidos pelo link: https://vizier.u-strasbg.fr/viz-bin/VizieR-2\n"
   ]
  },
  {
   "cell_type": "markdown",
   "metadata": {
    "id": "EFZ3Z_ATFyOa"
   },
   "source": [
    "## Etapa 01 - Importação e verificação dos dados"
   ]
  },
  {
   "cell_type": "code",
   "execution_count": 1,
   "metadata": {
    "executionInfo": {
     "elapsed": 763,
     "status": "ok",
     "timestamp": 1606626683279,
     "user": {
      "displayName": "Jhonatan Nascimento",
      "photoUrl": "https://lh3.googleusercontent.com/a-/AOh14Gjz6U7xfX55a7cI4kLtvq255lwsRPptyhg6zcQ59Q=s64",
      "userId": "07172476456305421382"
     },
     "user_tz": 180
    },
    "id": "lCXWmT8lE8E_"
   },
   "outputs": [],
   "source": [
    "# Importação das bibliotecas\n",
    "import pandas as pd\n",
    "import numpy as np\n",
    "import seaborn as sns\n",
    "import matplotlib.pyplot as plt\n",
    "\n",
    "%matplotlib inline"
   ]
  },
  {
   "cell_type": "code",
   "execution_count": 2,
   "metadata": {
    "executionInfo": {
     "elapsed": 1623,
     "status": "ok",
     "timestamp": 1606626684147,
     "user": {
      "displayName": "Jhonatan Nascimento",
      "photoUrl": "https://lh3.googleusercontent.com/a-/AOh14Gjz6U7xfX55a7cI4kLtvq255lwsRPptyhg6zcQ59Q=s64",
      "userId": "07172476456305421382"
     },
     "user_tz": 180
    },
    "id": "WVr6Vp6LESzX"
   },
   "outputs": [],
   "source": [
    "# Importação da base de dados\n",
    "dados = pd.read_csv('https://raw.githubusercontent.com/danmorales/CursoDS_ProfDanilo/master/Astronomia/VizieR/VizieR.tsv', sep = ';')"
   ]
  },
  {
   "cell_type": "code",
   "execution_count": 3,
   "metadata": {
    "colab": {
     "base_uri": "https://localhost:8080/",
     "height": 204
    },
    "executionInfo": {
     "elapsed": 1617,
     "status": "ok",
     "timestamp": 1606626684148,
     "user": {
      "displayName": "Jhonatan Nascimento",
      "photoUrl": "https://lh3.googleusercontent.com/a-/AOh14Gjz6U7xfX55a7cI4kLtvq255lwsRPptyhg6zcQ59Q=s64",
      "userId": "07172476456305421382"
     },
     "user_tz": 180
    },
    "id": "aq9C6MyxGuxD",
    "outputId": "1c81a167-b906-4fd3-dc80-9d45bf0bd68a"
   },
   "outputs": [
    {
     "data": {
      "text/html": [
       "<div>\n",
       "<style scoped>\n",
       "    .dataframe tbody tr th:only-of-type {\n",
       "        vertical-align: middle;\n",
       "    }\n",
       "\n",
       "    .dataframe tbody tr th {\n",
       "        vertical-align: top;\n",
       "    }\n",
       "\n",
       "    .dataframe thead th {\n",
       "        text-align: right;\n",
       "    }\n",
       "</style>\n",
       "<table border=\"1\" class=\"dataframe\">\n",
       "  <thead>\n",
       "    <tr style=\"text-align: right;\">\n",
       "      <th></th>\n",
       "      <th>B-V</th>\n",
       "      <th>Vmag</th>\n",
       "      <th>log.Teff</th>\n",
       "      <th>logL</th>\n",
       "      <th>Age</th>\n",
       "      <th>Mass</th>\n",
       "    </tr>\n",
       "  </thead>\n",
       "  <tbody>\n",
       "    <tr>\n",
       "      <th>0</th>\n",
       "      <td>0.45</td>\n",
       "      <td>7.32</td>\n",
       "      <td>3.808</td>\n",
       "      <td>3.42</td>\n",
       "      <td>2.48e+07</td>\n",
       "      <td>7.67</td>\n",
       "    </tr>\n",
       "    <tr>\n",
       "      <th>1</th>\n",
       "      <td>0.45</td>\n",
       "      <td>7.32</td>\n",
       "      <td>3.808</td>\n",
       "      <td>3.42</td>\n",
       "      <td>3.82e+07</td>\n",
       "      <td>6.75</td>\n",
       "    </tr>\n",
       "    <tr>\n",
       "      <th>2</th>\n",
       "      <td>0.45</td>\n",
       "      <td>7.32</td>\n",
       "      <td>3.808</td>\n",
       "      <td>3.42</td>\n",
       "      <td>4.59e+07</td>\n",
       "      <td>6.47</td>\n",
       "    </tr>\n",
       "    <tr>\n",
       "      <th>3</th>\n",
       "      <td>0.71</td>\n",
       "      <td>7.38</td>\n",
       "      <td>3.767</td>\n",
       "      <td>3.39</td>\n",
       "      <td>2.47e+07</td>\n",
       "      <td>7.69</td>\n",
       "    </tr>\n",
       "    <tr>\n",
       "      <th>4</th>\n",
       "      <td>0.71</td>\n",
       "      <td>7.38</td>\n",
       "      <td>3.767</td>\n",
       "      <td>3.39</td>\n",
       "      <td>3.76e+07</td>\n",
       "      <td>6.77</td>\n",
       "    </tr>\n",
       "  </tbody>\n",
       "</table>\n",
       "</div>"
      ],
      "text/plain": [
       "    B-V  Vmag  log.Teff  logL        Age  Mass\n",
       "0  0.45  7.32     3.808  3.42   2.48e+07  7.67\n",
       "1  0.45  7.32     3.808  3.42   3.82e+07  6.75\n",
       "2  0.45  7.32     3.808  3.42   4.59e+07  6.47\n",
       "3  0.71  7.38     3.767  3.39   2.47e+07  7.69\n",
       "4  0.71  7.38     3.767  3.39   3.76e+07  6.77"
      ]
     },
     "execution_count": 3,
     "metadata": {
      "tags": []
     },
     "output_type": "execute_result"
    }
   ],
   "source": [
    "# Visualizar os 5 primeiros registros\n",
    "dados.head()"
   ]
  },
  {
   "cell_type": "markdown",
   "metadata": {
    "id": "JOOSi2OMIDhj"
   },
   "source": [
    "**Dicionário da base de dados**\n",
    "- B-V : Índice B-V\n",
    "- Vmag: Magnitude na banda V\n",
    "- log.Teff: Log da Temperatura efetiva\n",
    "- logL: Log da Luminosidade\n",
    "- Age: Idade da estrela\n",
    "- Mass: Massa da estrela"
   ]
  },
  {
   "cell_type": "code",
   "execution_count": 4,
   "metadata": {
    "colab": {
     "base_uri": "https://localhost:8080/"
    },
    "executionInfo": {
     "elapsed": 1610,
     "status": "ok",
     "timestamp": 1606626684149,
     "user": {
      "displayName": "Jhonatan Nascimento",
      "photoUrl": "https://lh3.googleusercontent.com/a-/AOh14Gjz6U7xfX55a7cI4kLtvq255lwsRPptyhg6zcQ59Q=s64",
      "userId": "07172476456305421382"
     },
     "user_tz": 180
    },
    "id": "vg1O5754ICfj",
    "outputId": "6e21a410-577f-4dcd-e752-54d1d2800b3c"
   },
   "outputs": [
    {
     "name": "stdout",
     "output_type": "stream",
     "text": [
      "<class 'pandas.core.frame.DataFrame'>\n",
      "RangeIndex: 9879 entries, 0 to 9878\n",
      "Data columns (total 6 columns):\n",
      " #   Column    Non-Null Count  Dtype  \n",
      "---  ------    --------------  -----  \n",
      " 0   B-V       9879 non-null   float64\n",
      " 1   Vmag      9879 non-null   float64\n",
      " 2   log.Teff  9879 non-null   float64\n",
      " 3   logL      9879 non-null   float64\n",
      " 4   Age       9879 non-null   object \n",
      " 5   Mass      9670 non-null   float64\n",
      "dtypes: float64(5), object(1)\n",
      "memory usage: 463.2+ KB\n"
     ]
    }
   ],
   "source": [
    "# Informações da base de dados\n",
    "dados.info()"
   ]
  },
  {
   "cell_type": "markdown",
   "metadata": {
    "id": "jGMjcerSSot8"
   },
   "source": [
    "Temos então, uma base de dados composta por 6 colunas e 9879 registros."
   ]
  },
  {
   "cell_type": "markdown",
   "metadata": {
    "id": "E86fj6YRM6eT"
   },
   "source": [
    "## Etapa 02 - Tratamento dos dados"
   ]
  },
  {
   "cell_type": "markdown",
   "metadata": {
    "id": "6rz2Pxo7JDpE"
   },
   "source": [
    "Aqui podemos constatar que a coluna Age possui dados faltantes. Também vale ressaltar que a coluna Age encontra como uma variavél categórica (object), sendo necessária a conversão para númerica (int)."
   ]
  },
  {
   "cell_type": "code",
   "execution_count": 5,
   "metadata": {
    "executionInfo": {
     "elapsed": 1606,
     "status": "ok",
     "timestamp": 1606626684152,
     "user": {
      "displayName": "Jhonatan Nascimento",
      "photoUrl": "https://lh3.googleusercontent.com/a-/AOh14Gjz6U7xfX55a7cI4kLtvq255lwsRPptyhg6zcQ59Q=s64",
      "userId": "07172476456305421382"
     },
     "user_tz": 180
    },
    "id": "cgf7ceSVGyY7"
   },
   "outputs": [],
   "source": [
    "# Conversão da coluna Age para uma variável numérica\n",
    "dados['Age'] = pd.to_numeric(dados['Age'], errors = 'coerce')"
   ]
  },
  {
   "cell_type": "markdown",
   "metadata": {
    "id": "q60rBl5WJ6cc"
   },
   "source": [
    "O atributo errors = 'coerce' força a conversão de todos os registros da coluna para númerico, quando isso não é possível, o registro é preenchido com NaN (Not a Number)."
   ]
  },
  {
   "cell_type": "code",
   "execution_count": 6,
   "metadata": {
    "executionInfo": {
     "elapsed": 1601,
     "status": "ok",
     "timestamp": 1606626684153,
     "user": {
      "displayName": "Jhonatan Nascimento",
      "photoUrl": "https://lh3.googleusercontent.com/a-/AOh14Gjz6U7xfX55a7cI4kLtvq255lwsRPptyhg6zcQ59Q=s64",
      "userId": "07172476456305421382"
     },
     "user_tz": 180
    },
    "id": "tDpFJS76JzXV"
   },
   "outputs": [],
   "source": [
    "# Dividindo a coluna Age pela escala de bilhão\n",
    "dados['Age'] = dados['Age'].apply(lambda x:x/1e9)"
   ]
  },
  {
   "cell_type": "code",
   "execution_count": 7,
   "metadata": {
    "colab": {
     "base_uri": "https://localhost:8080/"
    },
    "executionInfo": {
     "elapsed": 1596,
     "status": "ok",
     "timestamp": 1606626684154,
     "user": {
      "displayName": "Jhonatan Nascimento",
      "photoUrl": "https://lh3.googleusercontent.com/a-/AOh14Gjz6U7xfX55a7cI4kLtvq255lwsRPptyhg6zcQ59Q=s64",
      "userId": "07172476456305421382"
     },
     "user_tz": 180
    },
    "id": "YMwof1AyKw51",
    "outputId": "5b09bfb5-0669-4285-e789-718ab3a6d6e2"
   },
   "outputs": [
    {
     "data": {
      "text/plain": [
       "-296.0"
      ]
     },
     "execution_count": 7,
     "metadata": {
      "tags": []
     },
     "output_type": "execute_result"
    }
   ],
   "source": [
    "# Valor mínimo na coluna Age    \n",
    "dados['Age'].min()"
   ]
  },
  {
   "cell_type": "code",
   "execution_count": 8,
   "metadata": {
    "colab": {
     "base_uri": "https://localhost:8080/"
    },
    "executionInfo": {
     "elapsed": 1589,
     "status": "ok",
     "timestamp": 1606626684154,
     "user": {
      "displayName": "Jhonatan Nascimento",
      "photoUrl": "https://lh3.googleusercontent.com/a-/AOh14Gjz6U7xfX55a7cI4kLtvq255lwsRPptyhg6zcQ59Q=s64",
      "userId": "07172476456305421382"
     },
     "user_tz": 180
    },
    "id": "BcxvAiq_LBEb",
    "outputId": "d42e61aa-b9a1-4758-8314-4c90804790aa"
   },
   "outputs": [
    {
     "data": {
      "text/plain": [
       "1540000.0"
      ]
     },
     "execution_count": 8,
     "metadata": {
      "tags": []
     },
     "output_type": "execute_result"
    }
   ],
   "source": [
    "# Valor máximo na coluna Age\n",
    "dados['Age'].max()"
   ]
  },
  {
   "cell_type": "markdown",
   "metadata": {
    "id": "0xjxBW5GLP3j"
   },
   "source": [
    "Como é sabido, o Universo tem sua idade avaliada de 13,5 bilhões de anos, por isso, utilizaremos apenas idades de estrelas entre 0 e 13,5 bilhões."
   ]
  },
  {
   "cell_type": "code",
   "execution_count": 9,
   "metadata": {
    "executionInfo": {
     "elapsed": 1583,
     "status": "ok",
     "timestamp": 1606626684155,
     "user": {
      "displayName": "Jhonatan Nascimento",
      "photoUrl": "https://lh3.googleusercontent.com/a-/AOh14Gjz6U7xfX55a7cI4kLtvq255lwsRPptyhg6zcQ59Q=s64",
      "userId": "07172476456305421382"
     },
     "user_tz": 180
    },
    "id": "8TJ-MFHSLOnz"
   },
   "outputs": [],
   "source": [
    "# Condição para selecionar o intervalo de 0 a 13,5 bilhões na coluna Age\n",
    "dados = dados[(dados['Age'] > 0) & (dados['Age'] < 13.5)]"
   ]
  },
  {
   "cell_type": "code",
   "execution_count": 10,
   "metadata": {
    "colab": {
     "base_uri": "https://localhost:8080/"
    },
    "executionInfo": {
     "elapsed": 1578,
     "status": "ok",
     "timestamp": 1606626684156,
     "user": {
      "displayName": "Jhonatan Nascimento",
      "photoUrl": "https://lh3.googleusercontent.com/a-/AOh14Gjz6U7xfX55a7cI4kLtvq255lwsRPptyhg6zcQ59Q=s64",
      "userId": "07172476456305421382"
     },
     "user_tz": 180
    },
    "id": "mCLxC9LlL6lg",
    "outputId": "d022c306-83db-40e0-e11c-0ab61b4b4c7e"
   },
   "outputs": [
    {
     "data": {
      "text/plain": [
       "B-V         0\n",
       "Vmag        0\n",
       "log.Teff    0\n",
       "logL        0\n",
       "Age         0\n",
       "Mass        0\n",
       "dtype: int64"
      ]
     },
     "execution_count": 10,
     "metadata": {
      "tags": []
     },
     "output_type": "execute_result"
    }
   ],
   "source": [
    "# Verificar se há dados faltantes\n",
    "dados.isna().sum()"
   ]
  },
  {
   "cell_type": "markdown",
   "metadata": {
    "id": "6mIC6GPGM3tu"
   },
   "source": [
    "## Etapa 03 - Visualização de dados"
   ]
  },
  {
   "cell_type": "markdown",
   "metadata": {
    "id": "HtuVZuxDNI30"
   },
   "source": [
    "**Diagrama HR** -  A relação entre luminosidade e temperatura superficial das estrelas."
   ]
  },
  {
   "cell_type": "code",
   "execution_count": 11,
   "metadata": {
    "colab": {
     "base_uri": "https://localhost:8080/",
     "height": 513
    },
    "executionInfo": {
     "elapsed": 2287,
     "status": "ok",
     "timestamp": 1606626684875,
     "user": {
      "displayName": "Jhonatan Nascimento",
      "photoUrl": "https://lh3.googleusercontent.com/a-/AOh14Gjz6U7xfX55a7cI4kLtvq255lwsRPptyhg6zcQ59Q=s64",
      "userId": "07172476456305421382"
     },
     "user_tz": 180
    },
    "id": "n3Bx_2qOL_W7",
    "outputId": "5d82836e-5021-43a7-ef0f-9d18cb4b1340"
   },
   "outputs": [
    {
     "data": {
      "image/png": "[encoded data removed]",
      "text/plain": [
       "<Figure size 864x576 with 1 Axes>"
      ]
     },
     "metadata": {
      "needs_background": "light",
      "tags": []
     },
     "output_type": "display_data"
    }
   ],
   "source": [
    "plt.figure(figsize=(12,8))\n",
    "sns.scatterplot(x = 'B-V', y = 'logL', data = dados, color = 'r')\n",
    "plt.xlabel('Índice B-V')\n",
    "plt.ylabel('Log Luminosidade')\n",
    "plt.title('Diagrama HR')\n",
    "plt.show()"
   ]
  },
  {
   "cell_type": "markdown",
   "metadata": {
    "id": "ZuclUpB4OJ4L"
   },
   "source": [
    "Vamos agora, verificar a correlação entre as variáveis:"
   ]
  },
  {
   "cell_type": "code",
   "execution_count": 12,
   "metadata": {
    "colab": {
     "base_uri": "https://localhost:8080/",
     "height": 381
    },
    "executionInfo": {
     "elapsed": 3131,
     "status": "ok",
     "timestamp": 1606626685730,
     "user": {
      "displayName": "Jhonatan Nascimento",
      "photoUrl": "https://lh3.googleusercontent.com/a-/AOh14Gjz6U7xfX55a7cI4kLtvq255lwsRPptyhg6zcQ59Q=s64",
      "userId": "07172476456305421382"
     },
     "user_tz": 180
    },
    "id": "mUGRqtquNaaU",
    "outputId": "0f54152a-1d64-4259-8688-25127771b79f"
   },
   "outputs": [
    {
     "data": {
      "image/png": "[encoded data removed]",
      "text/plain": [
       "<Figure size 576x432 with 2 Axes>"
      ]
     },
     "metadata": {
      "tags": []
     },
     "output_type": "display_data"
    }
   ],
   "source": [
    "corr =dados.corr()\n",
    "sns.set(rc={'axes.facecolor':'white', 'figure.facecolor':'white'})\n",
    "f, ax = plt.subplots(figsize = (8,6))\n",
    "sns.heatmap(corr, vmax = .8,annot_kws={'size': 12}, annot = True, fmt = '.2f')\n",
    "plt.show()"
   ]
  },
  {
   "cell_type": "markdown",
   "metadata": {
    "id": "UHGUK3A6OrRk"
   },
   "source": [
    "Percebe-se uma correlação negativa entre o Índice B-V e o log da Temperatura Efetiva, as demais variáveis não possuem uma correlação expressiva."
   ]
  },
  {
   "cell_type": "markdown",
   "metadata": {
    "id": "ZlZWs6cnPFiL"
   },
   "source": [
    "Vamos verificar agora as distribuições das variáveis:"
   ]
  },
  {
   "cell_type": "code",
   "execution_count": 13,
   "metadata": {
    "colab": {
     "base_uri": "https://localhost:8080/",
     "height": 581
    },
    "executionInfo": {
     "elapsed": 7364,
     "status": "ok",
     "timestamp": 1606626689974,
     "user": {
      "displayName": "Jhonatan Nascimento",
      "photoUrl": "https://lh3.googleusercontent.com/a-/AOh14Gjz6U7xfX55a7cI4kLtvq255lwsRPptyhg6zcQ59Q=s64",
      "userId": "07172476456305421382"
     },
     "user_tz": 180
    },
    "id": "IXU7Z_t2PFIo",
    "outputId": "7f3a12fe-b9f3-4543-b291-1db01384a255"
   },
   "outputs": [
    {
     "data": {
      "image/png": "[encoded data removed]",
      "text/plain": [
       "<Figure size 864x576 with 6 Axes>"
      ]
     },
     "metadata": {
      "tags": []
     },
     "output_type": "display_data"
    }
   ],
   "source": [
    "fig, ax = plt.subplots(2,3, figsize = (12,8))\n",
    "\n",
    "sns.histplot(x = dados['B-V'], kde = True, ax = ax[0][0])\n",
    "ax[0][0].set_xlabel('Índice B-V')\n",
    "ax[0][0].set_ylabel('Contagem')\n",
    "\n",
    "sns.histplot(x = dados['Vmag'], kde = True, ax = ax[0][1])\n",
    "ax[0][1].set_xlabel('Magnitude da banda V')\n",
    "ax[0][1].set_ylabel('Contagem')\n",
    "\n",
    "sns.histplot(x = dados['log.Teff'], kde = True, ax = ax[0][2])\n",
    "ax[0][2].set_xlabel('Log da Temperatura Efetiva')\n",
    "ax[0][2].set_ylabel('Contagem')\n",
    "\n",
    "sns.histplot(x = dados['logL'], kde = True, ax = ax[1][0])\n",
    "ax[1][0].set_xlabel('Log da Luminosidade')\n",
    "ax[1][0].set_ylabel('Contagem')\n",
    "\n",
    "sns.histplot(x = dados['Age'], kde = True, ax = ax[1][1])\n",
    "ax[1][1].set_xlabel('Idade da Estrela')\n",
    "ax[1][1].set_ylabel('Contagem')\n",
    "\n",
    "sns.histplot(x = dados['Mass'], kde = True, ax = ax[1][2])\n",
    "ax[1][2].set_xlabel('Massa da Estrela')\n",
    "ax[1][2].set_ylabel('Contagem')\n",
    "\n",
    "plt.tight_layout()\n",
    "plt.show()"
   ]
  },
  {
   "cell_type": "markdown",
   "metadata": {
    "id": "GX6l9w30SxYk"
   },
   "source": [
    "Plotamos a seguir boxplots para analisar se há a presença de outliers em nossos dados:"
   ]
  },
  {
   "cell_type": "code",
   "execution_count": 14,
   "metadata": {
    "colab": {
     "base_uri": "https://localhost:8080/",
     "height": 204
    },
    "executionInfo": {
     "elapsed": 7354,
     "status": "ok",
     "timestamp": 1606626689975,
     "user": {
      "displayName": "Jhonatan Nascimento",
      "photoUrl": "https://lh3.googleusercontent.com/a-/AOh14Gjz6U7xfX55a7cI4kLtvq255lwsRPptyhg6zcQ59Q=s64",
      "userId": "07172476456305421382"
     },
     "user_tz": 180
    },
    "id": "ixwFYmVSTRMt",
    "outputId": "e34ca0d5-6955-4a16-b65a-c5e53e785cd2"
   },
   "outputs": [
    {
     "data": {
      "text/html": [
       "<div>\n",
       "<style scoped>\n",
       "    .dataframe tbody tr th:only-of-type {\n",
       "        vertical-align: middle;\n",
       "    }\n",
       "\n",
       "    .dataframe tbody tr th {\n",
       "        vertical-align: top;\n",
       "    }\n",
       "\n",
       "    .dataframe thead th {\n",
       "        text-align: right;\n",
       "    }\n",
       "</style>\n",
       "<table border=\"1\" class=\"dataframe\">\n",
       "  <thead>\n",
       "    <tr style=\"text-align: right;\">\n",
       "      <th></th>\n",
       "      <th>B-V</th>\n",
       "      <th>Vmag</th>\n",
       "      <th>log.Teff</th>\n",
       "      <th>logL</th>\n",
       "      <th>Age</th>\n",
       "      <th>Mass</th>\n",
       "    </tr>\n",
       "  </thead>\n",
       "  <tbody>\n",
       "    <tr>\n",
       "      <th>0</th>\n",
       "      <td>0.45</td>\n",
       "      <td>7.32</td>\n",
       "      <td>3.808</td>\n",
       "      <td>3.42</td>\n",
       "      <td>0.0248</td>\n",
       "      <td>7.67</td>\n",
       "    </tr>\n",
       "    <tr>\n",
       "      <th>1</th>\n",
       "      <td>0.45</td>\n",
       "      <td>7.32</td>\n",
       "      <td>3.808</td>\n",
       "      <td>3.42</td>\n",
       "      <td>0.0382</td>\n",
       "      <td>6.75</td>\n",
       "    </tr>\n",
       "    <tr>\n",
       "      <th>2</th>\n",
       "      <td>0.45</td>\n",
       "      <td>7.32</td>\n",
       "      <td>3.808</td>\n",
       "      <td>3.42</td>\n",
       "      <td>0.0459</td>\n",
       "      <td>6.47</td>\n",
       "    </tr>\n",
       "    <tr>\n",
       "      <th>3</th>\n",
       "      <td>0.71</td>\n",
       "      <td>7.38</td>\n",
       "      <td>3.767</td>\n",
       "      <td>3.39</td>\n",
       "      <td>0.0247</td>\n",
       "      <td>7.69</td>\n",
       "    </tr>\n",
       "    <tr>\n",
       "      <th>4</th>\n",
       "      <td>0.71</td>\n",
       "      <td>7.38</td>\n",
       "      <td>3.767</td>\n",
       "      <td>3.39</td>\n",
       "      <td>0.0376</td>\n",
       "      <td>6.77</td>\n",
       "    </tr>\n",
       "  </tbody>\n",
       "</table>\n",
       "</div>"
      ],
      "text/plain": [
       "    B-V  Vmag  log.Teff  logL     Age  Mass\n",
       "0  0.45  7.32     3.808  3.42  0.0248  7.67\n",
       "1  0.45  7.32     3.808  3.42  0.0382  6.75\n",
       "2  0.45  7.32     3.808  3.42  0.0459  6.47\n",
       "3  0.71  7.38     3.767  3.39  0.0247  7.69\n",
       "4  0.71  7.38     3.767  3.39  0.0376  6.77"
      ]
     },
     "execution_count": 14,
     "metadata": {
      "tags": []
     },
     "output_type": "execute_result"
    }
   ],
   "source": [
    "dados.head()"
   ]
  },
  {
   "cell_type": "code",
   "execution_count": 15,
   "metadata": {
    "colab": {
     "base_uri": "https://localhost:8080/",
     "height": 580
    },
    "executionInfo": {
     "elapsed": 7343,
     "status": "ok",
     "timestamp": 1606626689976,
     "user": {
      "displayName": "Jhonatan Nascimento",
      "photoUrl": "https://lh3.googleusercontent.com/a-/AOh14Gjz6U7xfX55a7cI4kLtvq255lwsRPptyhg6zcQ59Q=s64",
      "userId": "07172476456305421382"
     },
     "user_tz": 180
    },
    "id": "i7X-kCqNOUWr",
    "outputId": "729145b7-746b-42d2-c2bd-d41154e84e26"
   },
   "outputs": [
    {
     "data": {
      "image/png": "[encoded data removed]",
      "text/plain": [
       "<Figure size 864x576 with 6 Axes>"
      ]
     },
     "metadata": {
      "tags": []
     },
     "output_type": "display_data"
    }
   ],
   "source": [
    "fig, ax = plt.subplots(2,3, figsize = (12,8))\n",
    "\n",
    "sns.boxplot(y = 'B-V', data = dados, ax = ax[0][0])\n",
    "sns.boxplot(y = 'Vmag', data = dados, ax = ax[0][1])\n",
    "sns.boxplot(y = 'log.Teff', data = dados, ax = ax[0][2])\n",
    "\n",
    "sns.boxplot(y = 'logL', data = dados, ax = ax[1][0])\n",
    "sns.boxplot(y = 'Age', data = dados, ax = ax[1][1])\n",
    "sns.boxplot(y = 'Mass', data = dados, ax = ax[1][2])\n",
    "\n",
    "plt.tight_layout()\n",
    "plt.show()"
   ]
  },
  {
   "cell_type": "markdown",
   "metadata": {
    "id": "pFbDTkHsTvW0"
   },
   "source": [
    "Podemos visualizar acima que todas as variáveis possuem outliers, porém não removeremos os outliers para a aplicação do modelo preditivo."
   ]
  },
  {
   "cell_type": "markdown",
   "metadata": {
    "id": "WRONWeOuUBAc"
   },
   "source": [
    "## Etapa 04 - Aplicação e Avaliação de Modelos Machine Learning"
   ]
  },
  {
   "cell_type": "markdown",
   "metadata": {
    "id": "1lHgEcg8bNxt"
   },
   "source": [
    "### Preparação dos dados"
   ]
  },
  {
   "cell_type": "markdown",
   "metadata": {
    "id": "dO4iohQNULk7"
   },
   "source": [
    "Iniciamos com a separação das variáveis preditoras e a variável alvo, que nesse caso, será a idade da estrela."
   ]
  },
  {
   "cell_type": "code",
   "execution_count": 118,
   "metadata": {
    "executionInfo": {
     "elapsed": 704,
     "status": "ok",
     "timestamp": 1606628210445,
     "user": {
      "displayName": "Jhonatan Nascimento",
      "photoUrl": "https://lh3.googleusercontent.com/a-/AOh14Gjz6U7xfX55a7cI4kLtvq255lwsRPptyhg6zcQ59Q=s64",
      "userId": "07172476456305421382"
     },
     "user_tz": 180
    },
    "id": "h3R9keAtToZc"
   },
   "outputs": [],
   "source": [
    "# Determinar as variáveis X e Y\n",
    "X = dados.drop('Age', axis = 1).values\n",
    "y = dados['Age'].values"
   ]
  },
  {
   "cell_type": "markdown",
   "metadata": {
    "id": "2835XaTHUr_V"
   },
   "source": [
    "Partimos para a separação do conjunto de dados de treinamento e de teste:"
   ]
  },
  {
   "cell_type": "code",
   "execution_count": 119,
   "metadata": {
    "executionInfo": {
     "elapsed": 1054,
     "status": "ok",
     "timestamp": 1606628210803,
     "user": {
      "displayName": "Jhonatan Nascimento",
      "photoUrl": "https://lh3.googleusercontent.com/a-/AOh14Gjz6U7xfX55a7cI4kLtvq255lwsRPptyhg6zcQ59Q=s64",
      "userId": "07172476456305421382"
     },
     "user_tz": 180
    },
    "id": "lWLTSgeZUrDE"
   },
   "outputs": [],
   "source": [
    "from sklearn.model_selection import train_test_split"
   ]
  },
  {
   "cell_type": "code",
   "execution_count": 120,
   "metadata": {
    "executionInfo": {
     "elapsed": 1047,
     "status": "ok",
     "timestamp": 1606628210803,
     "user": {
      "displayName": "Jhonatan Nascimento",
      "photoUrl": "https://lh3.googleusercontent.com/a-/AOh14Gjz6U7xfX55a7cI4kLtvq255lwsRPptyhg6zcQ59Q=s64",
      "userId": "07172476456305421382"
     },
     "user_tz": 180
    },
    "id": "XaUfQQDqUiu1"
   },
   "outputs": [],
   "source": [
    "X_treino, X_teste, y_treino, y_teste = train_test_split(X, y, test_size = 0.3, random_state = 42)"
   ]
  },
  {
   "cell_type": "markdown",
   "metadata": {
    "id": "Znq2fDtAVW71"
   },
   "source": [
    "Utilizaremos para avaliação dos modelos as seguintes métricas: Erro Médio Absoluto (MAE), Mean Squared Error (MSE), Root Mean Squared Error (RSME):"
   ]
  },
  {
   "cell_type": "code",
   "execution_count": 121,
   "metadata": {
    "executionInfo": {
     "elapsed": 1040,
     "status": "ok",
     "timestamp": 1606628210804,
     "user": {
      "displayName": "Jhonatan Nascimento",
      "photoUrl": "https://lh3.googleusercontent.com/a-/AOh14Gjz6U7xfX55a7cI4kLtvq255lwsRPptyhg6zcQ59Q=s64",
      "userId": "07172476456305421382"
     },
     "user_tz": 180
    },
    "id": "8VUHVtJ3VyqP"
   },
   "outputs": [],
   "source": [
    "from sklearn.metrics import mean_absolute_error, mean_squared_error"
   ]
  },
  {
   "cell_type": "code",
   "execution_count": 122,
   "metadata": {
    "executionInfo": {
     "elapsed": 1034,
     "status": "ok",
     "timestamp": 1606628210805,
     "user": {
      "displayName": "Jhonatan Nascimento",
      "photoUrl": "https://lh3.googleusercontent.com/a-/AOh14Gjz6U7xfX55a7cI4kLtvq255lwsRPptyhg6zcQ59Q=s64",
      "userId": "07172476456305421382"
     },
     "user_tz": 180
    },
    "id": "H3zo-lZfV7v9"
   },
   "outputs": [],
   "source": [
    "# Listas vazias para armazenar o modelo e as métricas\n",
    "modelo = []\n",
    "MAE = []\n",
    "MSE = []\n",
    "RMSE = []"
   ]
  },
  {
   "cell_type": "markdown",
   "metadata": {
    "id": "_AH7sm5eWpvM"
   },
   "source": [
    "Com tudo pronto, podemos agora aplicar nossos modelos e avaliar os melhores resultados."
   ]
  },
  {
   "cell_type": "markdown",
   "metadata": {
    "id": "jo07lDA9bUqc"
   },
   "source": [
    "### Modelos de Machine Learning"
   ]
  },
  {
   "cell_type": "markdown",
   "metadata": {
    "id": "wI6uYyAeWxS2"
   },
   "source": [
    "#### **Modelo 01 - Regressão Linear**"
   ]
  },
  {
   "cell_type": "code",
   "execution_count": 123,
   "metadata": {
    "executionInfo": {
     "elapsed": 1187,
     "status": "ok",
     "timestamp": 1606628212190,
     "user": {
      "displayName": "Jhonatan Nascimento",
      "photoUrl": "https://lh3.googleusercontent.com/a-/AOh14Gjz6U7xfX55a7cI4kLtvq255lwsRPptyhg6zcQ59Q=s64",
      "userId": "07172476456305421382"
     },
     "user_tz": 180
    },
    "id": "OPgDB00wWw8M"
   },
   "outputs": [],
   "source": [
    "from sklearn.linear_model import LinearRegression"
   ]
  },
  {
   "cell_type": "code",
   "execution_count": 124,
   "metadata": {
    "executionInfo": {
     "elapsed": 1177,
     "status": "ok",
     "timestamp": 1606628212191,
     "user": {
      "displayName": "Jhonatan Nascimento",
      "photoUrl": "https://lh3.googleusercontent.com/a-/AOh14Gjz6U7xfX55a7cI4kLtvq255lwsRPptyhg6zcQ59Q=s64",
      "userId": "07172476456305421382"
     },
     "user_tz": 180
    },
    "id": "qGjglztuWn1V"
   },
   "outputs": [],
   "source": [
    "# Instanciar o modelo\n",
    "lr = LinearRegression()"
   ]
  },
  {
   "cell_type": "code",
   "execution_count": 125,
   "metadata": {
    "colab": {
     "base_uri": "https://localhost:8080/"
    },
    "executionInfo": {
     "elapsed": 1169,
     "status": "ok",
     "timestamp": 1606628212192,
     "user": {
      "displayName": "Jhonatan Nascimento",
      "photoUrl": "https://lh3.googleusercontent.com/a-/AOh14Gjz6U7xfX55a7cI4kLtvq255lwsRPptyhg6zcQ59Q=s64",
      "userId": "07172476456305421382"
     },
     "user_tz": 180
    },
    "id": "-yg5ORYrW8ek",
    "outputId": "3c06be61-1ddf-454e-d5a3-8531389ef09a"
   },
   "outputs": [
    {
     "data": {
      "text/plain": [
       "LinearRegression(copy_X=True, fit_intercept=True, n_jobs=None, normalize=False)"
      ]
     },
     "execution_count": 125,
     "metadata": {
      "tags": []
     },
     "output_type": "execute_result"
    }
   ],
   "source": [
    "# Treinar o modelo\n",
    "lr.fit(X_treino,y_treino)"
   ]
  },
  {
   "cell_type": "code",
   "execution_count": 126,
   "metadata": {
    "executionInfo": {
     "elapsed": 1157,
     "status": "ok",
     "timestamp": 1606628212192,
     "user": {
      "displayName": "Jhonatan Nascimento",
      "photoUrl": "https://lh3.googleusercontent.com/a-/AOh14Gjz6U7xfX55a7cI4kLtvq255lwsRPptyhg6zcQ59Q=s64",
      "userId": "07172476456305421382"
     },
     "user_tz": 180
    },
    "id": "Eok0VuZlXEv1"
   },
   "outputs": [],
   "source": [
    "# Predições\n",
    "y_pred_lr = lr.predict(X_teste)"
   ]
  },
  {
   "cell_type": "code",
   "execution_count": 127,
   "metadata": {
    "executionInfo": {
     "elapsed": 1148,
     "status": "ok",
     "timestamp": 1606628212193,
     "user": {
      "displayName": "Jhonatan Nascimento",
      "photoUrl": "https://lh3.googleusercontent.com/a-/AOh14Gjz6U7xfX55a7cI4kLtvq255lwsRPptyhg6zcQ59Q=s64",
      "userId": "07172476456305421382"
     },
     "user_tz": 180
    },
    "id": "IBtLMfbPXKRM"
   },
   "outputs": [],
   "source": [
    "# Calcular métricas de avaliação\n",
    "MAE_lr = mean_absolute_error(y_teste, y_pred_lr)\n",
    "MSE_lr = mean_squared_error(y_teste, y_pred_lr)\n",
    "RMSE_lr = np.sqrt(MSE_lr)"
   ]
  },
  {
   "cell_type": "code",
   "execution_count": 128,
   "metadata": {
    "executionInfo": {
     "elapsed": 1140,
     "status": "ok",
     "timestamp": 1606628212194,
     "user": {
      "displayName": "Jhonatan Nascimento",
      "photoUrl": "https://lh3.googleusercontent.com/a-/AOh14Gjz6U7xfX55a7cI4kLtvq255lwsRPptyhg6zcQ59Q=s64",
      "userId": "07172476456305421382"
     },
     "user_tz": 180
    },
    "id": "BITcHQGZXdss"
   },
   "outputs": [],
   "source": [
    "# Armazenar métricas na lista\n",
    "modelo.append('Regressão Linear')\n",
    "MAE.append(MAE_lr)\n",
    "MSE.append(MSE_lr)\n",
    "RMSE.append(RMSE_lr)"
   ]
  },
  {
   "cell_type": "code",
   "execution_count": 129,
   "metadata": {
    "colab": {
     "base_uri": "https://localhost:8080/"
    },
    "executionInfo": {
     "elapsed": 1132,
     "status": "ok",
     "timestamp": 1606628212194,
     "user": {
      "displayName": "Jhonatan Nascimento",
      "photoUrl": "https://lh3.googleusercontent.com/a-/AOh14Gjz6U7xfX55a7cI4kLtvq255lwsRPptyhg6zcQ59Q=s64",
      "userId": "07172476456305421382"
     },
     "user_tz": 180
    },
    "id": "Yxu9L-z7YNpW",
    "outputId": "0201d524-f290-4ab3-b3f8-a06829ab902a"
   },
   "outputs": [
    {
     "name": "stdout",
     "output_type": "stream",
     "text": [
      "Erro Absoluto Médio (MAE) = 0.85\n",
      "Erro Quadrático Médio (MSE) = 1.89\n",
      "Raiz do Erro Quadrático Médio (RMSE) = 1.37\n"
     ]
    }
   ],
   "source": [
    "# Exibir as métricas\n",
    "print('Erro Absoluto Médio (MAE) = {:0.2f}'.format(MAE_lr))\n",
    "print('Erro Quadrático Médio (MSE) = {:0.2f}'.format(MSE_lr))\n",
    "print('Raiz do Erro Quadrático Médio (RMSE) = {:0.2f}'.format(RMSE_lr))"
   ]
  },
  {
   "cell_type": "markdown",
   "metadata": {
    "id": "JsEiiEEUY9d0"
   },
   "source": [
    "#### **Modelo 02 - Árvore de decisão**"
   ]
  },
  {
   "cell_type": "code",
   "execution_count": 130,
   "metadata": {
    "executionInfo": {
     "elapsed": 1124,
     "status": "ok",
     "timestamp": 1606628212195,
     "user": {
      "displayName": "Jhonatan Nascimento",
      "photoUrl": "https://lh3.googleusercontent.com/a-/AOh14Gjz6U7xfX55a7cI4kLtvq255lwsRPptyhg6zcQ59Q=s64",
      "userId": "07172476456305421382"
     },
     "user_tz": 180
    },
    "id": "CowJLOSNY82d"
   },
   "outputs": [],
   "source": [
    "from sklearn.tree import DecisionTreeRegressor"
   ]
  },
  {
   "cell_type": "code",
   "execution_count": 131,
   "metadata": {
    "executionInfo": {
     "elapsed": 1117,
     "status": "ok",
     "timestamp": 1606628212196,
     "user": {
      "displayName": "Jhonatan Nascimento",
      "photoUrl": "https://lh3.googleusercontent.com/a-/AOh14Gjz6U7xfX55a7cI4kLtvq255lwsRPptyhg6zcQ59Q=s64",
      "userId": "07172476456305421382"
     },
     "user_tz": 180
    },
    "id": "WVd13N5sZK5M"
   },
   "outputs": [],
   "source": [
    "# Instanciar o modelo\n",
    "dtree = DecisionTreeRegressor()"
   ]
  },
  {
   "cell_type": "code",
   "execution_count": 132,
   "metadata": {
    "colab": {
     "base_uri": "https://localhost:8080/"
    },
    "executionInfo": {
     "elapsed": 1115,
     "status": "ok",
     "timestamp": 1606628212203,
     "user": {
      "displayName": "Jhonatan Nascimento",
      "photoUrl": "https://lh3.googleusercontent.com/a-/AOh14Gjz6U7xfX55a7cI4kLtvq255lwsRPptyhg6zcQ59Q=s64",
      "userId": "07172476456305421382"
     },
     "user_tz": 180
    },
    "id": "UhijeIBvZPUV",
    "outputId": "f035dfef-fcb7-40e0-9ee4-8a5676ed2e2b"
   },
   "outputs": [
    {
     "data": {
      "text/plain": [
       "DecisionTreeRegressor(ccp_alpha=0.0, criterion='mse', max_depth=None,\n",
       "                      max_features=None, max_leaf_nodes=None,\n",
       "                      min_impurity_decrease=0.0, min_impurity_split=None,\n",
       "                      min_samples_leaf=1, min_samples_split=2,\n",
       "                      min_weight_fraction_leaf=0.0, presort='deprecated',\n",
       "                      random_state=None, splitter='best')"
      ]
     },
     "execution_count": 132,
     "metadata": {
      "tags": []
     },
     "output_type": "execute_result"
    }
   ],
   "source": [
    "# Treinar o modelo\n",
    "dtree.fit(X_treino,y_treino)"
   ]
  },
  {
   "cell_type": "code",
   "execution_count": 133,
   "metadata": {
    "executionInfo": {
     "elapsed": 1107,
     "status": "ok",
     "timestamp": 1606628212203,
     "user": {
      "displayName": "Jhonatan Nascimento",
      "photoUrl": "https://lh3.googleusercontent.com/a-/AOh14Gjz6U7xfX55a7cI4kLtvq255lwsRPptyhg6zcQ59Q=s64",
      "userId": "07172476456305421382"
     },
     "user_tz": 180
    },
    "id": "rpucXwDpZSkN"
   },
   "outputs": [],
   "source": [
    "# Predições\n",
    "y_pred_dtree = dtree.predict(X_teste)"
   ]
  },
  {
   "cell_type": "code",
   "execution_count": 134,
   "metadata": {
    "executionInfo": {
     "elapsed": 1099,
     "status": "ok",
     "timestamp": 1606628212204,
     "user": {
      "displayName": "Jhonatan Nascimento",
      "photoUrl": "https://lh3.googleusercontent.com/a-/AOh14Gjz6U7xfX55a7cI4kLtvq255lwsRPptyhg6zcQ59Q=s64",
      "userId": "07172476456305421382"
     },
     "user_tz": 180
    },
    "id": "SiMo1bAPZUSc"
   },
   "outputs": [],
   "source": [
    "# Calcular métricas de avaliação\n",
    "MAE_dtree = mean_absolute_error(y_teste, y_pred_dtree)\n",
    "MSE_dtree = mean_squared_error(y_teste, y_pred_dtree)\n",
    "RMSE_dtree = np.sqrt(MSE_dtree)"
   ]
  },
  {
   "cell_type": "code",
   "execution_count": 135,
   "metadata": {
    "executionInfo": {
     "elapsed": 1437,
     "status": "ok",
     "timestamp": 1606628212550,
     "user": {
      "displayName": "Jhonatan Nascimento",
      "photoUrl": "https://lh3.googleusercontent.com/a-/AOh14Gjz6U7xfX55a7cI4kLtvq255lwsRPptyhg6zcQ59Q=s64",
      "userId": "07172476456305421382"
     },
     "user_tz": 180
    },
    "id": "z_kvagf5Za0E"
   },
   "outputs": [],
   "source": [
    "# Armazenar as métricas na lista\n",
    "modelo.append('Árvore de Decisão')\n",
    "MAE.append(MAE_dtree)\n",
    "MSE.append(MSE_dtree)\n",
    "RMSE.append(RMSE_dtree)"
   ]
  },
  {
   "cell_type": "code",
   "execution_count": 136,
   "metadata": {
    "colab": {
     "base_uri": "https://localhost:8080/"
    },
    "executionInfo": {
     "elapsed": 1429,
     "status": "ok",
     "timestamp": 1606628212550,
     "user": {
      "displayName": "Jhonatan Nascimento",
      "photoUrl": "https://lh3.googleusercontent.com/a-/AOh14Gjz6U7xfX55a7cI4kLtvq255lwsRPptyhg6zcQ59Q=s64",
      "userId": "07172476456305421382"
     },
     "user_tz": 180
    },
    "id": "EcnPkB12Ze9U",
    "outputId": "5557c17d-2de2-4387-c2c6-aa98f3d59caf"
   },
   "outputs": [
    {
     "name": "stdout",
     "output_type": "stream",
     "text": [
      "Erro Absoluto Médio (MAE) = 0.14\n",
      "Erro Quadrático Médio (MSE) = 0.36\n",
      "Raiz do Erro Quadrático Médio (RMSE) = 0.60\n"
     ]
    }
   ],
   "source": [
    "# Exibir as métricas\n",
    "print('Erro Absoluto Médio (MAE) = {:0.2f}'.format(MAE_dtree))\n",
    "print('Erro Quadrático Médio (MSE) = {:0.2f}'.format(MSE_dtree))\n",
    "print('Raiz do Erro Quadrático Médio (RMSE) = {:0.2f}'.format(RMSE_dtree))"
   ]
  },
  {
   "cell_type": "markdown",
   "metadata": {
    "id": "0SWKPK9Gb3-U"
   },
   "source": [
    "#### **Modelo 03 - Floresta Aleatória**"
   ]
  },
  {
   "cell_type": "code",
   "execution_count": 137,
   "metadata": {
    "executionInfo": {
     "elapsed": 1421,
     "status": "ok",
     "timestamp": 1606628212551,
     "user": {
      "displayName": "Jhonatan Nascimento",
      "photoUrl": "https://lh3.googleusercontent.com/a-/AOh14Gjz6U7xfX55a7cI4kLtvq255lwsRPptyhg6zcQ59Q=s64",
      "userId": "07172476456305421382"
     },
     "user_tz": 180
    },
    "id": "4lBhqJRlb3-U"
   },
   "outputs": [],
   "source": [
    "from sklearn.ensemble import RandomForestRegressor"
   ]
  },
  {
   "cell_type": "code",
   "execution_count": 138,
   "metadata": {
    "executionInfo": {
     "elapsed": 1413,
     "status": "ok",
     "timestamp": 1606628212552,
     "user": {
      "displayName": "Jhonatan Nascimento",
      "photoUrl": "https://lh3.googleusercontent.com/a-/AOh14Gjz6U7xfX55a7cI4kLtvq255lwsRPptyhg6zcQ59Q=s64",
      "userId": "07172476456305421382"
     },
     "user_tz": 180
    },
    "id": "GLlt5jhSb3-U"
   },
   "outputs": [],
   "source": [
    "# Instanciar o modelo\n",
    "rf = RandomForestRegressor()"
   ]
  },
  {
   "cell_type": "code",
   "execution_count": 139,
   "metadata": {
    "colab": {
     "base_uri": "https://localhost:8080/"
    },
    "executionInfo": {
     "elapsed": 3442,
     "status": "ok",
     "timestamp": 1606628214590,
     "user": {
      "displayName": "Jhonatan Nascimento",
      "photoUrl": "https://lh3.googleusercontent.com/a-/AOh14Gjz6U7xfX55a7cI4kLtvq255lwsRPptyhg6zcQ59Q=s64",
      "userId": "07172476456305421382"
     },
     "user_tz": 180
    },
    "id": "ytTtU5ZUb3-U",
    "outputId": "1805b1cf-4c5e-4a5a-b5b9-f5dd51770df5"
   },
   "outputs": [
    {
     "data": {
      "text/plain": [
       "RandomForestRegressor(bootstrap=True, ccp_alpha=0.0, criterion='mse',\n",
       "                      max_depth=None, max_features='auto', max_leaf_nodes=None,\n",
       "                      max_samples=None, min_impurity_decrease=0.0,\n",
       "                      min_impurity_split=None, min_samples_leaf=1,\n",
       "                      min_samples_split=2, min_weight_fraction_leaf=0.0,\n",
       "                      n_estimators=100, n_jobs=None, oob_score=False,\n",
       "                      random_state=None, verbose=0, warm_start=False)"
      ]
     },
     "execution_count": 139,
     "metadata": {
      "tags": []
     },
     "output_type": "execute_result"
    }
   ],
   "source": [
    "# Treinar o modelo\n",
    "rf.fit(X_treino,y_treino)"
   ]
  },
  {
   "cell_type": "code",
   "execution_count": 140,
   "metadata": {
    "executionInfo": {
     "elapsed": 3431,
     "status": "ok",
     "timestamp": 1606628214590,
     "user": {
      "displayName": "Jhonatan Nascimento",
      "photoUrl": "https://lh3.googleusercontent.com/a-/AOh14Gjz6U7xfX55a7cI4kLtvq255lwsRPptyhg6zcQ59Q=s64",
      "userId": "07172476456305421382"
     },
     "user_tz": 180
    },
    "id": "hO2Hts_Pb3-V"
   },
   "outputs": [],
   "source": [
    "# Predições\n",
    "y_pred_rf = rf.predict(X_teste)"
   ]
  },
  {
   "cell_type": "code",
   "execution_count": 141,
   "metadata": {
    "executionInfo": {
     "elapsed": 3424,
     "status": "ok",
     "timestamp": 1606628214591,
     "user": {
      "displayName": "Jhonatan Nascimento",
      "photoUrl": "https://lh3.googleusercontent.com/a-/AOh14Gjz6U7xfX55a7cI4kLtvq255lwsRPptyhg6zcQ59Q=s64",
      "userId": "07172476456305421382"
     },
     "user_tz": 180
    },
    "id": "SfhhQT0tb3-V"
   },
   "outputs": [],
   "source": [
    "# Calcular métricas de avaliação\n",
    "MAE_rf = mean_absolute_error(y_teste, y_pred_rf)\n",
    "MSE_rf = mean_squared_error(y_teste, y_pred_rf)\n",
    "RMSE_rf = np.sqrt(MSE_rf)"
   ]
  },
  {
   "cell_type": "code",
   "execution_count": 142,
   "metadata": {
    "executionInfo": {
     "elapsed": 3417,
     "status": "ok",
     "timestamp": 1606628214592,
     "user": {
      "displayName": "Jhonatan Nascimento",
      "photoUrl": "https://lh3.googleusercontent.com/a-/AOh14Gjz6U7xfX55a7cI4kLtvq255lwsRPptyhg6zcQ59Q=s64",
      "userId": "07172476456305421382"
     },
     "user_tz": 180
    },
    "id": "iAZaOdv2b3-V"
   },
   "outputs": [],
   "source": [
    "# Armazenar as métricas na lista\n",
    "modelo.append('Floresta aleatória')\n",
    "MAE.append(MAE_rf)\n",
    "MSE.append(MSE_rf)\n",
    "RMSE.append(RMSE_rf)"
   ]
  },
  {
   "cell_type": "code",
   "execution_count": 143,
   "metadata": {
    "colab": {
     "base_uri": "https://localhost:8080/"
    },
    "executionInfo": {
     "elapsed": 3409,
     "status": "ok",
     "timestamp": 1606628214592,
     "user": {
      "displayName": "Jhonatan Nascimento",
      "photoUrl": "https://lh3.googleusercontent.com/a-/AOh14Gjz6U7xfX55a7cI4kLtvq255lwsRPptyhg6zcQ59Q=s64",
      "userId": "07172476456305421382"
     },
     "user_tz": 180
    },
    "id": "0PKU1xOIb3-V",
    "outputId": "52389161-0b09-494b-e710-caac8866c5a7"
   },
   "outputs": [
    {
     "name": "stdout",
     "output_type": "stream",
     "text": [
      "Erro Absoluto Médio (MAE) = 0.11\n",
      "Erro Quadrático Médio (MSE) = 0.19\n",
      "Raiz do Erro Quadrático Médio (RMSE) = 0.43\n"
     ]
    }
   ],
   "source": [
    "# Exibir as métricas\n",
    "print('Erro Absoluto Médio (MAE) = {:0.2f}'.format(MAE_rf))\n",
    "print('Erro Quadrático Médio (MSE) = {:0.2f}'.format(MSE_rf))\n",
    "print('Raiz do Erro Quadrático Médio (RMSE) = {:0.2f}'.format(RMSE_rf))"
   ]
  },
  {
   "cell_type": "markdown",
   "metadata": {
    "id": "ONELrXsEdnjd"
   },
   "source": [
    "#### **Modelo 04 - Support Vector Regressor**"
   ]
  },
  {
   "cell_type": "code",
   "execution_count": 144,
   "metadata": {
    "executionInfo": {
     "elapsed": 3395,
     "status": "ok",
     "timestamp": 1606628214595,
     "user": {
      "displayName": "Jhonatan Nascimento",
      "photoUrl": "https://lh3.googleusercontent.com/a-/AOh14Gjz6U7xfX55a7cI4kLtvq255lwsRPptyhg6zcQ59Q=s64",
      "userId": "07172476456305421382"
     },
     "user_tz": 180
    },
    "id": "deoYAORGdnje"
   },
   "outputs": [],
   "source": [
    "from sklearn.svm import SVR"
   ]
  },
  {
   "cell_type": "code",
   "execution_count": 145,
   "metadata": {
    "executionInfo": {
     "elapsed": 3388,
     "status": "ok",
     "timestamp": 1606628214596,
     "user": {
      "displayName": "Jhonatan Nascimento",
      "photoUrl": "https://lh3.googleusercontent.com/a-/AOh14Gjz6U7xfX55a7cI4kLtvq255lwsRPptyhg6zcQ59Q=s64",
      "userId": "07172476456305421382"
     },
     "user_tz": 180
    },
    "id": "Pc5rmYg8dnje"
   },
   "outputs": [],
   "source": [
    "# Instanciar o modelo\n",
    "svr = SVR()"
   ]
  },
  {
   "cell_type": "code",
   "execution_count": 146,
   "metadata": {
    "colab": {
     "base_uri": "https://localhost:8080/"
    },
    "executionInfo": {
     "elapsed": 5183,
     "status": "ok",
     "timestamp": 1606628216399,
     "user": {
      "displayName": "Jhonatan Nascimento",
      "photoUrl": "https://lh3.googleusercontent.com/a-/AOh14Gjz6U7xfX55a7cI4kLtvq255lwsRPptyhg6zcQ59Q=s64",
      "userId": "07172476456305421382"
     },
     "user_tz": 180
    },
    "id": "S394FjuGdnje",
    "outputId": "4fa23c30-6e5d-4699-f61c-1d6662427322"
   },
   "outputs": [
    {
     "data": {
      "text/plain": [
       "SVR(C=1.0, cache_size=200, coef0=0.0, degree=3, epsilon=0.1, gamma='scale',\n",
       "    kernel='rbf', max_iter=-1, shrinking=True, tol=0.001, verbose=False)"
      ]
     },
     "execution_count": 146,
     "metadata": {
      "tags": []
     },
     "output_type": "execute_result"
    }
   ],
   "source": [
    "# Treinar o modelo\n",
    "svr.fit(X_treino,y_treino)"
   ]
  },
  {
   "cell_type": "code",
   "execution_count": 147,
   "metadata": {
    "executionInfo": {
     "elapsed": 5176,
     "status": "ok",
     "timestamp": 1606628216400,
     "user": {
      "displayName": "Jhonatan Nascimento",
      "photoUrl": "https://lh3.googleusercontent.com/a-/AOh14Gjz6U7xfX55a7cI4kLtvq255lwsRPptyhg6zcQ59Q=s64",
      "userId": "07172476456305421382"
     },
     "user_tz": 180
    },
    "id": "lmznvEstdnje"
   },
   "outputs": [],
   "source": [
    "# Predições\n",
    "y_pred_svr = svr.predict(X_teste)"
   ]
  },
  {
   "cell_type": "code",
   "execution_count": 148,
   "metadata": {
    "executionInfo": {
     "elapsed": 5168,
     "status": "ok",
     "timestamp": 1606628216401,
     "user": {
      "displayName": "Jhonatan Nascimento",
      "photoUrl": "https://lh3.googleusercontent.com/a-/AOh14Gjz6U7xfX55a7cI4kLtvq255lwsRPptyhg6zcQ59Q=s64",
      "userId": "07172476456305421382"
     },
     "user_tz": 180
    },
    "id": "A4kN54Bkdnjf"
   },
   "outputs": [],
   "source": [
    "# Calcular métricas de avaliação\n",
    "MAE_svr = mean_absolute_error(y_teste, y_pred_svr)\n",
    "MSE_svr = mean_squared_error(y_teste, y_pred_svr)\n",
    "RMSE_svr = np.sqrt(MSE_svr)"
   ]
  },
  {
   "cell_type": "code",
   "execution_count": 149,
   "metadata": {
    "executionInfo": {
     "elapsed": 5160,
     "status": "ok",
     "timestamp": 1606628216401,
     "user": {
      "displayName": "Jhonatan Nascimento",
      "photoUrl": "https://lh3.googleusercontent.com/a-/AOh14Gjz6U7xfX55a7cI4kLtvq255lwsRPptyhg6zcQ59Q=s64",
      "userId": "07172476456305421382"
     },
     "user_tz": 180
    },
    "id": "euhRfpIPdnjf"
   },
   "outputs": [],
   "source": [
    "# Armazenar as métricas na lista\n",
    "modelo.append('Support Vector Regressor')\n",
    "MAE.append(MAE_svr)\n",
    "MSE.append(MSE_svr)\n",
    "RMSE.append(RMSE_svr)"
   ]
  },
  {
   "cell_type": "code",
   "execution_count": 150,
   "metadata": {
    "colab": {
     "base_uri": "https://localhost:8080/"
    },
    "executionInfo": {
     "elapsed": 5152,
     "status": "ok",
     "timestamp": 1606628216402,
     "user": {
      "displayName": "Jhonatan Nascimento",
      "photoUrl": "https://lh3.googleusercontent.com/a-/AOh14Gjz6U7xfX55a7cI4kLtvq255lwsRPptyhg6zcQ59Q=s64",
      "userId": "07172476456305421382"
     },
     "user_tz": 180
    },
    "id": "GqQgLPNudnjf",
    "outputId": "8c83fb58-61a4-4f36-bc3e-c7003ba12c0f"
   },
   "outputs": [
    {
     "name": "stdout",
     "output_type": "stream",
     "text": [
      "Erro Absoluto Médio (MAE) = 0.63\n",
      "Erro Quadrático Médio (MSE) = 1.65\n",
      "Raiz do Erro Quadrático Médio (RMSE) = 1.28\n"
     ]
    }
   ],
   "source": [
    "# Exibir as métricas\n",
    "print('Erro Absoluto Médio (MAE) = {:0.2f}'.format(MAE_svr))\n",
    "print('Erro Quadrático Médio (MSE) = {:0.2f}'.format(MSE_svr))\n",
    "print('Raiz do Erro Quadrático Médio (RMSE) = {:0.2f}'.format(RMSE_svr))"
   ]
  },
  {
   "cell_type": "markdown",
   "metadata": {
    "id": "unhHHDM0eh_F"
   },
   "source": [
    "#### **Modelo 05 - AdaBoost Regressor**"
   ]
  },
  {
   "cell_type": "code",
   "execution_count": 151,
   "metadata": {
    "executionInfo": {
     "elapsed": 5134,
     "status": "ok",
     "timestamp": 1606628216403,
     "user": {
      "displayName": "Jhonatan Nascimento",
      "photoUrl": "https://lh3.googleusercontent.com/a-/AOh14Gjz6U7xfX55a7cI4kLtvq255lwsRPptyhg6zcQ59Q=s64",
      "userId": "07172476456305421382"
     },
     "user_tz": 180
    },
    "id": "HLeKaiZ8eh_G"
   },
   "outputs": [],
   "source": [
    "from sklearn.ensemble import AdaBoostRegressor"
   ]
  },
  {
   "cell_type": "code",
   "execution_count": 152,
   "metadata": {
    "executionInfo": {
     "elapsed": 5127,
     "status": "ok",
     "timestamp": 1606628216404,
     "user": {
      "displayName": "Jhonatan Nascimento",
      "photoUrl": "https://lh3.googleusercontent.com/a-/AOh14Gjz6U7xfX55a7cI4kLtvq255lwsRPptyhg6zcQ59Q=s64",
      "userId": "07172476456305421382"
     },
     "user_tz": 180
    },
    "id": "Q-w3A_Wneh_G"
   },
   "outputs": [],
   "source": [
    "# Instanciar o modelo\n",
    "ada = AdaBoostRegressor()"
   ]
  },
  {
   "cell_type": "code",
   "execution_count": 153,
   "metadata": {
    "colab": {
     "base_uri": "https://localhost:8080/"
    },
    "executionInfo": {
     "elapsed": 5464,
     "status": "ok",
     "timestamp": 1606628216750,
     "user": {
      "displayName": "Jhonatan Nascimento",
      "photoUrl": "https://lh3.googleusercontent.com/a-/AOh14Gjz6U7xfX55a7cI4kLtvq255lwsRPptyhg6zcQ59Q=s64",
      "userId": "07172476456305421382"
     },
     "user_tz": 180
    },
    "id": "HFLIZMREeh_G",
    "outputId": "2684e943-ceb0-4301-dd11-e285b23adeeb"
   },
   "outputs": [
    {
     "data": {
      "text/plain": [
       "AdaBoostRegressor(base_estimator=None, learning_rate=1.0, loss='linear',\n",
       "                  n_estimators=50, random_state=None)"
      ]
     },
     "execution_count": 153,
     "metadata": {
      "tags": []
     },
     "output_type": "execute_result"
    }
   ],
   "source": [
    "# Treinar o modelo\n",
    "ada.fit(X_treino,y_treino)"
   ]
  },
  {
   "cell_type": "code",
   "execution_count": 154,
   "metadata": {
    "executionInfo": {
     "elapsed": 5457,
     "status": "ok",
     "timestamp": 1606628216751,
     "user": {
      "displayName": "Jhonatan Nascimento",
      "photoUrl": "https://lh3.googleusercontent.com/a-/AOh14Gjz6U7xfX55a7cI4kLtvq255lwsRPptyhg6zcQ59Q=s64",
      "userId": "07172476456305421382"
     },
     "user_tz": 180
    },
    "id": "H4XUZpEleh_H"
   },
   "outputs": [],
   "source": [
    "# Predições\n",
    "y_pred_ada = ada.predict(X_teste)"
   ]
  },
  {
   "cell_type": "code",
   "execution_count": 155,
   "metadata": {
    "executionInfo": {
     "elapsed": 5448,
     "status": "ok",
     "timestamp": 1606628216751,
     "user": {
      "displayName": "Jhonatan Nascimento",
      "photoUrl": "https://lh3.googleusercontent.com/a-/AOh14Gjz6U7xfX55a7cI4kLtvq255lwsRPptyhg6zcQ59Q=s64",
      "userId": "07172476456305421382"
     },
     "user_tz": 180
    },
    "id": "tl7DWIrieh_H"
   },
   "outputs": [],
   "source": [
    "# Calcular métricas de avaliação\n",
    "MAE_ada = mean_absolute_error(y_teste, y_pred_ada)\n",
    "MSE_ada = mean_squared_error(y_teste, y_pred_ada)\n",
    "RMSE_ada = np.sqrt(MSE_ada)"
   ]
  },
  {
   "cell_type": "code",
   "execution_count": 156,
   "metadata": {
    "executionInfo": {
     "elapsed": 5440,
     "status": "ok",
     "timestamp": 1606628216752,
     "user": {
      "displayName": "Jhonatan Nascimento",
      "photoUrl": "https://lh3.googleusercontent.com/a-/AOh14Gjz6U7xfX55a7cI4kLtvq255lwsRPptyhg6zcQ59Q=s64",
      "userId": "07172476456305421382"
     },
     "user_tz": 180
    },
    "id": "ZFY-aEFFeh_H"
   },
   "outputs": [],
   "source": [
    "# Armazenar as métricas na lista\n",
    "modelo.append('AdaBoost Regressor')\n",
    "MAE.append(MAE_ada)\n",
    "MSE.append(MSE_ada)\n",
    "RMSE.append(RMSE_ada)"
   ]
  },
  {
   "cell_type": "code",
   "execution_count": 157,
   "metadata": {
    "colab": {
     "base_uri": "https://localhost:8080/"
    },
    "executionInfo": {
     "elapsed": 5432,
     "status": "ok",
     "timestamp": 1606628216753,
     "user": {
      "displayName": "Jhonatan Nascimento",
      "photoUrl": "https://lh3.googleusercontent.com/a-/AOh14Gjz6U7xfX55a7cI4kLtvq255lwsRPptyhg6zcQ59Q=s64",
      "userId": "07172476456305421382"
     },
     "user_tz": 180
    },
    "id": "TtLx9uz_eh_H",
    "outputId": "96e86b05-98b4-4e2a-9054-0342b7e4c0a0"
   },
   "outputs": [
    {
     "name": "stdout",
     "output_type": "stream",
     "text": [
      "Erro Absoluto Médio (MAE) = 0.49\n",
      "Erro Quadrático Médio (MSE) = 0.65\n",
      "Raiz do Erro Quadrático Médio (RMSE) = 0.81\n"
     ]
    }
   ],
   "source": [
    "# Exibir as métricas\n",
    "print('Erro Absoluto Médio (MAE) = {:0.2f}'.format(MAE_ada))\n",
    "print('Erro Quadrático Médio (MSE) = {:0.2f}'.format(MSE_ada))\n",
    "print('Raiz do Erro Quadrático Médio (RMSE) = {:0.2f}'.format(RMSE_ada))"
   ]
  },
  {
   "cell_type": "markdown",
   "metadata": {
    "id": "0iL8pliZfO9k"
   },
   "source": [
    "### Avaliação dos modelos"
   ]
  },
  {
   "cell_type": "markdown",
   "metadata": {
    "id": "vy9JRLwDfU7W"
   },
   "source": [
    "Vamos criar um DataFrame com as métricas de avaliação de cada modelo e com isso poderemos determinar o modelo que obteve a melhor performance:"
   ]
  },
  {
   "cell_type": "code",
   "execution_count": 158,
   "metadata": {
    "executionInfo": {
     "elapsed": 927,
     "status": "ok",
     "timestamp": 1606628218426,
     "user": {
      "displayName": "Jhonatan Nascimento",
      "photoUrl": "https://lh3.googleusercontent.com/a-/AOh14Gjz6U7xfX55a7cI4kLtvq255lwsRPptyhg6zcQ59Q=s64",
      "userId": "07172476456305421382"
     },
     "user_tz": 180
    },
    "id": "R4nNUpSDeh_H"
   },
   "outputs": [],
   "source": [
    "dic = {'Modelo': modelo, 'MAE': MAE, 'MSE': MSE, 'RMSE': RMSE}\n",
    "avaliacao = pd.DataFrame(dic)\n",
    "avaliacao = avaliacao.sort_values(by = 'RMSE')"
   ]
  },
  {
   "cell_type": "code",
   "execution_count": 159,
   "metadata": {
    "colab": {
     "base_uri": "https://localhost:8080/",
     "height": 204
    },
    "executionInfo": {
     "elapsed": 1643,
     "status": "ok",
     "timestamp": 1606628219151,
     "user": {
      "displayName": "Jhonatan Nascimento",
      "photoUrl": "https://lh3.googleusercontent.com/a-/AOh14Gjz6U7xfX55a7cI4kLtvq255lwsRPptyhg6zcQ59Q=s64",
      "userId": "07172476456305421382"
     },
     "user_tz": 180
    },
    "id": "9TPbdocufNR9",
    "outputId": "6c07a626-1669-4119-8773-9b305fbc95e8"
   },
   "outputs": [
    {
     "data": {
      "text/html": [
       "<div>\n",
       "<style scoped>\n",
       "    .dataframe tbody tr th:only-of-type {\n",
       "        vertical-align: middle;\n",
       "    }\n",
       "\n",
       "    .dataframe tbody tr th {\n",
       "        vertical-align: top;\n",
       "    }\n",
       "\n",
       "    .dataframe thead th {\n",
       "        text-align: right;\n",
       "    }\n",
       "</style>\n",
       "<table border=\"1\" class=\"dataframe\">\n",
       "  <thead>\n",
       "    <tr style=\"text-align: right;\">\n",
       "      <th></th>\n",
       "      <th>Modelo</th>\n",
       "      <th>MAE</th>\n",
       "      <th>MSE</th>\n",
       "      <th>RMSE</th>\n",
       "    </tr>\n",
       "  </thead>\n",
       "  <tbody>\n",
       "    <tr>\n",
       "      <th>2</th>\n",
       "      <td>Floresta aleatória</td>\n",
       "      <td>0.106858</td>\n",
       "      <td>0.186471</td>\n",
       "      <td>0.431823</td>\n",
       "    </tr>\n",
       "    <tr>\n",
       "      <th>1</th>\n",
       "      <td>Árvore de Decisão</td>\n",
       "      <td>0.138908</td>\n",
       "      <td>0.363897</td>\n",
       "      <td>0.603238</td>\n",
       "    </tr>\n",
       "    <tr>\n",
       "      <th>4</th>\n",
       "      <td>AdaBoost Regressor</td>\n",
       "      <td>0.485450</td>\n",
       "      <td>0.648052</td>\n",
       "      <td>0.805017</td>\n",
       "    </tr>\n",
       "    <tr>\n",
       "      <th>3</th>\n",
       "      <td>Support Vector Regressor</td>\n",
       "      <td>0.629086</td>\n",
       "      <td>1.649167</td>\n",
       "      <td>1.284199</td>\n",
       "    </tr>\n",
       "    <tr>\n",
       "      <th>0</th>\n",
       "      <td>Regressão Linear</td>\n",
       "      <td>0.851980</td>\n",
       "      <td>1.888370</td>\n",
       "      <td>1.374180</td>\n",
       "    </tr>\n",
       "  </tbody>\n",
       "</table>\n",
       "</div>"
      ],
      "text/plain": [
       "                     Modelo       MAE       MSE      RMSE\n",
       "2        Floresta aleatória  0.106858  0.186471  0.431823\n",
       "1         Árvore de Decisão  0.138908  0.363897  0.603238\n",
       "4        AdaBoost Regressor  0.485450  0.648052  0.805017\n",
       "3  Support Vector Regressor  0.629086  1.649167  1.284199\n",
       "0          Regressão Linear  0.851980  1.888370  1.374180"
      ]
     },
     "execution_count": 159,
     "metadata": {
      "tags": []
     },
     "output_type": "execute_result"
    }
   ],
   "source": [
    "avaliacao"
   ]
  },
  {
   "cell_type": "markdown",
   "metadata": {
    "id": "qGD1ZhbJgZYv"
   },
   "source": [
    "Podemos constatar que o modelo que melhor performou na previsão de idade de estrelas foi a Floresta Aleatória."
   ]
  }
 ],
 "metadata": {
  "colab": {
   "authorship_tag": "ABX9TyM5ekEoAjc/caa60Zcnxaq7",
   "collapsed_sections": [
    "ZFMaohkSFoJc",
    "v4uNa6yqE8T8",
    "EFZ3Z_ATFyOa",
    "E86fj6YRM6eT",
    "6mIC6GPGM3tu",
    "WRONWeOuUBAc",
    "1lHgEcg8bNxt",
    "jo07lDA9bUqc",
    "wI6uYyAeWxS2",
    "0SWKPK9Gb3-U"
   ],
   "name": "Determinacao_idade_estrelas.ipynb",
   "provenance": [],
   "toc_visible": true
  },
  "kernelspec": {
   "display_name": "Python 3",
   "language": "python",
   "name": "python3"
  },
  "language_info": {
   "codemirror_mode": {
    "name": "ipython",
    "version": 3
   },
   "file_extension": ".py",
   "mimetype": "text/x-python",
   "name": "python",
   "nbconvert_exporter": "python",
   "pygments_lexer": "ipython3",
   "version": "3.8.5"
  }
 },
 "nbformat": 4,
 "nbformat_minor": 1
}

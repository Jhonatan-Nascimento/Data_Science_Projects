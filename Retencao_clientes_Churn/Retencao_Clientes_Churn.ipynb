{
 "cells": [
  {
   "cell_type": "markdown",
   "metadata": {
    "id": "Xq3dl-4rpxZg"
   },
   "source": [
    "# **Problema de Retenção de Clientes (Churn)**"
   ]
  },
  {
   "cell_type": "markdown",
   "metadata": {
    "id": "ysvipivhm3D5"
   },
   "source": [
    "## Objetivo"
   ]
  },
  {
   "cell_type": "markdown",
   "metadata": {
    "id": "iqxe6vwgm6_m"
   },
   "source": [
    "- Esse projeto tem como objetivo prever o comportamento para a retenção de clientes, também conhecido como Churn. Para isso, utilizaremos um conjunto de dados com diferentes características do clientes.\n",
    "\n",
    "- O dataset pode ser encontrado no link: https://www.kaggle.com/blastchar/telco-customer-churn"
   ]
  },
  {
   "cell_type": "markdown",
   "metadata": {
    "id": "vUHfcZhAnhC5"
   },
   "source": [
    "## Etapa 01 - Importação e verificação dos dados"
   ]
  },
  {
   "cell_type": "code",
   "execution_count": 1,
   "metadata": {
    "id": "Jp1I0cUbmyyn"
   },
   "outputs": [],
   "source": [
    "# Importação das bibliotecas necessárias\n",
    "import pandas as pd\n",
    "import numpy as np\n",
    "import seaborn as sns\n",
    "import matplotlib.pyplot as plt\n",
    "\n",
    "%matplotlib inline"
   ]
  },
  {
   "cell_type": "code",
   "execution_count": 2,
   "metadata": {
    "id": "1dgVSYLSnwFQ"
   },
   "outputs": [],
   "source": [
    "# Importação dos dados\n",
    "dados = pd.read_csv('Telco-Customer-Churn.csv')"
   ]
  },
  {
   "cell_type": "code",
   "execution_count": 3,
   "metadata": {
    "colab": {
     "base_uri": "https://localhost:8080/",
     "height": 0
    },
    "id": "OqFoHLCQn97n",
    "outputId": "14fb465f-9b9e-4b59-acae-406d211fdb48"
   },
   "outputs": [
    {
     "data": {
      "text/html": [
       "<div>\n",
       "<style scoped>\n",
       "    .dataframe tbody tr th:only-of-type {\n",
       "        vertical-align: middle;\n",
       "    }\n",
       "\n",
       "    .dataframe tbody tr th {\n",
       "        vertical-align: top;\n",
       "    }\n",
       "\n",
       "    .dataframe thead th {\n",
       "        text-align: right;\n",
       "    }\n",
       "</style>\n",
       "<table border=\"1\" class=\"dataframe\">\n",
       "  <thead>\n",
       "    <tr style=\"text-align: right;\">\n",
       "      <th></th>\n",
       "      <th>customerID</th>\n",
       "      <th>gender</th>\n",
       "      <th>SeniorCitizen</th>\n",
       "      <th>Partner</th>\n",
       "      <th>Dependents</th>\n",
       "      <th>tenure</th>\n",
       "      <th>PhoneService</th>\n",
       "      <th>MultipleLines</th>\n",
       "      <th>InternetService</th>\n",
       "      <th>OnlineSecurity</th>\n",
       "      <th>OnlineBackup</th>\n",
       "      <th>DeviceProtection</th>\n",
       "      <th>TechSupport</th>\n",
       "      <th>StreamingTV</th>\n",
       "      <th>StreamingMovies</th>\n",
       "      <th>Contract</th>\n",
       "      <th>PaperlessBilling</th>\n",
       "      <th>PaymentMethod</th>\n",
       "      <th>MonthlyCharges</th>\n",
       "      <th>TotalCharges</th>\n",
       "      <th>Churn</th>\n",
       "    </tr>\n",
       "  </thead>\n",
       "  <tbody>\n",
       "    <tr>\n",
       "      <th>0</th>\n",
       "      <td>7590-VHVEG</td>\n",
       "      <td>Female</td>\n",
       "      <td>0</td>\n",
       "      <td>Yes</td>\n",
       "      <td>No</td>\n",
       "      <td>1</td>\n",
       "      <td>No</td>\n",
       "      <td>No phone service</td>\n",
       "      <td>DSL</td>\n",
       "      <td>No</td>\n",
       "      <td>Yes</td>\n",
       "      <td>No</td>\n",
       "      <td>No</td>\n",
       "      <td>No</td>\n",
       "      <td>No</td>\n",
       "      <td>Month-to-month</td>\n",
       "      <td>Yes</td>\n",
       "      <td>Electronic check</td>\n",
       "      <td>29.85</td>\n",
       "      <td>29.85</td>\n",
       "      <td>No</td>\n",
       "    </tr>\n",
       "    <tr>\n",
       "      <th>1</th>\n",
       "      <td>5575-GNVDE</td>\n",
       "      <td>Male</td>\n",
       "      <td>0</td>\n",
       "      <td>No</td>\n",
       "      <td>No</td>\n",
       "      <td>34</td>\n",
       "      <td>Yes</td>\n",
       "      <td>No</td>\n",
       "      <td>DSL</td>\n",
       "      <td>Yes</td>\n",
       "      <td>No</td>\n",
       "      <td>Yes</td>\n",
       "      <td>No</td>\n",
       "      <td>No</td>\n",
       "      <td>No</td>\n",
       "      <td>One year</td>\n",
       "      <td>No</td>\n",
       "      <td>Mailed check</td>\n",
       "      <td>56.95</td>\n",
       "      <td>1889.5</td>\n",
       "      <td>No</td>\n",
       "    </tr>\n",
       "    <tr>\n",
       "      <th>2</th>\n",
       "      <td>3668-QPYBK</td>\n",
       "      <td>Male</td>\n",
       "      <td>0</td>\n",
       "      <td>No</td>\n",
       "      <td>No</td>\n",
       "      <td>2</td>\n",
       "      <td>Yes</td>\n",
       "      <td>No</td>\n",
       "      <td>DSL</td>\n",
       "      <td>Yes</td>\n",
       "      <td>Yes</td>\n",
       "      <td>No</td>\n",
       "      <td>No</td>\n",
       "      <td>No</td>\n",
       "      <td>No</td>\n",
       "      <td>Month-to-month</td>\n",
       "      <td>Yes</td>\n",
       "      <td>Mailed check</td>\n",
       "      <td>53.85</td>\n",
       "      <td>108.15</td>\n",
       "      <td>Yes</td>\n",
       "    </tr>\n",
       "    <tr>\n",
       "      <th>3</th>\n",
       "      <td>7795-CFOCW</td>\n",
       "      <td>Male</td>\n",
       "      <td>0</td>\n",
       "      <td>No</td>\n",
       "      <td>No</td>\n",
       "      <td>45</td>\n",
       "      <td>No</td>\n",
       "      <td>No phone service</td>\n",
       "      <td>DSL</td>\n",
       "      <td>Yes</td>\n",
       "      <td>No</td>\n",
       "      <td>Yes</td>\n",
       "      <td>Yes</td>\n",
       "      <td>No</td>\n",
       "      <td>No</td>\n",
       "      <td>One year</td>\n",
       "      <td>No</td>\n",
       "      <td>Bank transfer (automatic)</td>\n",
       "      <td>42.30</td>\n",
       "      <td>1840.75</td>\n",
       "      <td>No</td>\n",
       "    </tr>\n",
       "    <tr>\n",
       "      <th>4</th>\n",
       "      <td>9237-HQITU</td>\n",
       "      <td>Female</td>\n",
       "      <td>0</td>\n",
       "      <td>No</td>\n",
       "      <td>No</td>\n",
       "      <td>2</td>\n",
       "      <td>Yes</td>\n",
       "      <td>No</td>\n",
       "      <td>Fiber optic</td>\n",
       "      <td>No</td>\n",
       "      <td>No</td>\n",
       "      <td>No</td>\n",
       "      <td>No</td>\n",
       "      <td>No</td>\n",
       "      <td>No</td>\n",
       "      <td>Month-to-month</td>\n",
       "      <td>Yes</td>\n",
       "      <td>Electronic check</td>\n",
       "      <td>70.70</td>\n",
       "      <td>151.65</td>\n",
       "      <td>Yes</td>\n",
       "    </tr>\n",
       "  </tbody>\n",
       "</table>\n",
       "</div>"
      ],
      "text/plain": [
       "   customerID  gender  SeniorCitizen  ... MonthlyCharges TotalCharges  Churn\n",
       "0  7590-VHVEG  Female              0  ...          29.85        29.85     No\n",
       "1  5575-GNVDE    Male              0  ...          56.95       1889.5     No\n",
       "2  3668-QPYBK    Male              0  ...          53.85       108.15    Yes\n",
       "3  7795-CFOCW    Male              0  ...          42.30      1840.75     No\n",
       "4  9237-HQITU  Female              0  ...          70.70       151.65    Yes\n",
       "\n",
       "[5 rows x 21 columns]"
      ]
     },
     "execution_count": 3,
     "metadata": {
      "tags": []
     },
     "output_type": "execute_result"
    }
   ],
   "source": [
    "# Visualizar os 5 primeiros registros\n",
    "dados.head()"
   ]
  },
  {
   "cell_type": "markdown",
   "metadata": {
    "id": "dXYPPNmko9x-"
   },
   "source": [
    "**Dicionário dos dados**\n",
    "- **costumerID**: Identificador único do cliente\n",
    "- **gender**: Gênero do cliente\n",
    "- **SeniorCitizen**: O cliente é idoso(a)? (*1* - sim e *0* - não)\n",
    "- **Partner**: O cliente tem um parceiro(a)? (*yes* - possui, *not* - não possui)\n",
    "- **Dependents**: O cliente tem dependentes? (*yes* - possui, *not* - não possui)\n",
    "- **tenure**: Número de meses que o cliente permaneceu na empresa\n",
    "- **PhoneService**: O cliente possui serviço de telefonia? (*yes* - possui, *not* - não possui)\n",
    "- **MultipleLines**: O cliente possui múltiplas linhas? (*yes* - possui, *not* - não possui, *No phone service* - sem serviço)\n",
    "- **InternetService**: Provedor de internet do cliente (*DSL* - conexão DSL, *Fiber optic* - Fibra ótica, *No* - não possui)\n",
    "- **OnlineSecurity**: O cliente possui serviço de segurança online? (*yes* - possui, *not* - não possui)\n",
    "- **OnlineBackup**: O cliente possui serviço de backup online? (*yes* - possui, *not* - não possui)\n",
    "- **DeviceProtection**: O cliente possui serviço de segurança do dispositivo? (*yes* - possui, *not* - não possui)\n",
    "- **TechSupport**: O cliente possui suporte técnico? (*yes* - possui, *not* - não possui)\n",
    "- **SteamingTV**: O cliente possui serviço de Streaming de TV ? (*yes* - possui, *not* - não possui)\n",
    "- **StreamingMovies**: O cliente possui serviço de Streaming de filmes (*yes* - possui, *not* - não possui)\n",
    "- **Contract**: Termo de contrato do cliente (*Month-to-month* - mensal, *One year* - anual, *Two year* - bianual)\n",
    "- **PaperlessBilling**: O cliente é adepto de faturamento sem papel? (*yes* - sim, *not* - não)\n",
    "- **PaymentMethod**: Forma de pagamento do cliente (*Electronic check* - cheque eletrônico, *Mailed check* - cheque enviado, *Bank transfer (automatic)* - transferência bancária automática, *Credit card (automatic)* - cartão de crédito automático)\n",
    "- **MonthlyCharges**: Valor cobrado mensalmente do cliente\n",
    "- **TotalCharges**: Valor total cobrado do cliente\n",
    "- **Churn**: O cliente abandonou a empresa? (*yes* - sim, *not* - não)"
   ]
  },
  {
   "cell_type": "code",
   "execution_count": 4,
   "metadata": {
    "colab": {
     "base_uri": "https://localhost:8080/"
    },
    "id": "XTFWkzdfofgo",
    "outputId": "b12e2734-c79d-49dd-e242-b1ed85c2db41"
   },
   "outputs": [
    {
     "name": "stdout",
     "output_type": "stream",
     "text": [
      "<class 'pandas.core.frame.DataFrame'>\n",
      "RangeIndex: 7043 entries, 0 to 7042\n",
      "Data columns (total 21 columns):\n",
      " #   Column            Non-Null Count  Dtype  \n",
      "---  ------            --------------  -----  \n",
      " 0   customerID        7043 non-null   object \n",
      " 1   gender            7043 non-null   object \n",
      " 2   SeniorCitizen     7043 non-null   int64  \n",
      " 3   Partner           7043 non-null   object \n",
      " 4   Dependents        7043 non-null   object \n",
      " 5   tenure            7043 non-null   int64  \n",
      " 6   PhoneService      7043 non-null   object \n",
      " 7   MultipleLines     7043 non-null   object \n",
      " 8   InternetService   7043 non-null   object \n",
      " 9   OnlineSecurity    7043 non-null   object \n",
      " 10  OnlineBackup      7043 non-null   object \n",
      " 11  DeviceProtection  7043 non-null   object \n",
      " 12  TechSupport       7043 non-null   object \n",
      " 13  StreamingTV       7043 non-null   object \n",
      " 14  StreamingMovies   7043 non-null   object \n",
      " 15  Contract          7043 non-null   object \n",
      " 16  PaperlessBilling  7043 non-null   object \n",
      " 17  PaymentMethod     7043 non-null   object \n",
      " 18  MonthlyCharges    7043 non-null   float64\n",
      " 19  TotalCharges      7043 non-null   object \n",
      " 20  Churn             7043 non-null   object \n",
      "dtypes: float64(1), int64(2), object(18)\n",
      "memory usage: 1.1+ MB\n"
     ]
    }
   ],
   "source": [
    "# Informações sobre os dados\n",
    "dados.info()"
   ]
  },
  {
   "cell_type": "markdown",
   "metadata": {
    "id": "lpOSU_Zdo4tH"
   },
   "source": [
    "Aqui já podemos verificar que a coluna TotalCharges está com o tipo incorreto, sendo necessária sua conversão para númerico. Vemos também que possuimos uma base de dados com 21 colunas e 7043 registros não nulos."
   ]
  },
  {
   "cell_type": "markdown",
   "metadata": {
    "id": "65Gf6u-mwpgV"
   },
   "source": [
    "## Etapa 02 - Tratamento de dados"
   ]
  },
  {
   "cell_type": "markdown",
   "metadata": {
    "id": "sM89Zkar76bq"
   },
   "source": [
    "### Exclusão de variáveis"
   ]
  },
  {
   "cell_type": "code",
   "execution_count": 5,
   "metadata": {
    "colab": {
     "base_uri": "https://localhost:8080/",
     "height": 0
    },
    "id": "kjeUNo6jo1tu",
    "outputId": "894ad99e-4611-4f45-c303-9852357025ef"
   },
   "outputs": [
    {
     "data": {
      "text/html": [
       "<div>\n",
       "<style scoped>\n",
       "    .dataframe tbody tr th:only-of-type {\n",
       "        vertical-align: middle;\n",
       "    }\n",
       "\n",
       "    .dataframe tbody tr th {\n",
       "        vertical-align: top;\n",
       "    }\n",
       "\n",
       "    .dataframe thead th {\n",
       "        text-align: right;\n",
       "    }\n",
       "</style>\n",
       "<table border=\"1\" class=\"dataframe\">\n",
       "  <thead>\n",
       "    <tr style=\"text-align: right;\">\n",
       "      <th></th>\n",
       "      <th>customerID</th>\n",
       "      <th>gender</th>\n",
       "      <th>SeniorCitizen</th>\n",
       "      <th>Partner</th>\n",
       "      <th>Dependents</th>\n",
       "      <th>tenure</th>\n",
       "      <th>PhoneService</th>\n",
       "      <th>MultipleLines</th>\n",
       "      <th>InternetService</th>\n",
       "      <th>OnlineSecurity</th>\n",
       "      <th>OnlineBackup</th>\n",
       "      <th>DeviceProtection</th>\n",
       "      <th>TechSupport</th>\n",
       "      <th>StreamingTV</th>\n",
       "      <th>StreamingMovies</th>\n",
       "      <th>Contract</th>\n",
       "      <th>PaperlessBilling</th>\n",
       "      <th>PaymentMethod</th>\n",
       "      <th>MonthlyCharges</th>\n",
       "      <th>TotalCharges</th>\n",
       "      <th>Churn</th>\n",
       "    </tr>\n",
       "  </thead>\n",
       "  <tbody>\n",
       "    <tr>\n",
       "      <th>0</th>\n",
       "      <td>7590-VHVEG</td>\n",
       "      <td>Female</td>\n",
       "      <td>0</td>\n",
       "      <td>Yes</td>\n",
       "      <td>No</td>\n",
       "      <td>1</td>\n",
       "      <td>No</td>\n",
       "      <td>No phone service</td>\n",
       "      <td>DSL</td>\n",
       "      <td>No</td>\n",
       "      <td>Yes</td>\n",
       "      <td>No</td>\n",
       "      <td>No</td>\n",
       "      <td>No</td>\n",
       "      <td>No</td>\n",
       "      <td>Month-to-month</td>\n",
       "      <td>Yes</td>\n",
       "      <td>Electronic check</td>\n",
       "      <td>29.85</td>\n",
       "      <td>29.85</td>\n",
       "      <td>No</td>\n",
       "    </tr>\n",
       "    <tr>\n",
       "      <th>1</th>\n",
       "      <td>5575-GNVDE</td>\n",
       "      <td>Male</td>\n",
       "      <td>0</td>\n",
       "      <td>No</td>\n",
       "      <td>No</td>\n",
       "      <td>34</td>\n",
       "      <td>Yes</td>\n",
       "      <td>No</td>\n",
       "      <td>DSL</td>\n",
       "      <td>Yes</td>\n",
       "      <td>No</td>\n",
       "      <td>Yes</td>\n",
       "      <td>No</td>\n",
       "      <td>No</td>\n",
       "      <td>No</td>\n",
       "      <td>One year</td>\n",
       "      <td>No</td>\n",
       "      <td>Mailed check</td>\n",
       "      <td>56.95</td>\n",
       "      <td>1889.5</td>\n",
       "      <td>No</td>\n",
       "    </tr>\n",
       "    <tr>\n",
       "      <th>2</th>\n",
       "      <td>3668-QPYBK</td>\n",
       "      <td>Male</td>\n",
       "      <td>0</td>\n",
       "      <td>No</td>\n",
       "      <td>No</td>\n",
       "      <td>2</td>\n",
       "      <td>Yes</td>\n",
       "      <td>No</td>\n",
       "      <td>DSL</td>\n",
       "      <td>Yes</td>\n",
       "      <td>Yes</td>\n",
       "      <td>No</td>\n",
       "      <td>No</td>\n",
       "      <td>No</td>\n",
       "      <td>No</td>\n",
       "      <td>Month-to-month</td>\n",
       "      <td>Yes</td>\n",
       "      <td>Mailed check</td>\n",
       "      <td>53.85</td>\n",
       "      <td>108.15</td>\n",
       "      <td>Yes</td>\n",
       "    </tr>\n",
       "    <tr>\n",
       "      <th>3</th>\n",
       "      <td>7795-CFOCW</td>\n",
       "      <td>Male</td>\n",
       "      <td>0</td>\n",
       "      <td>No</td>\n",
       "      <td>No</td>\n",
       "      <td>45</td>\n",
       "      <td>No</td>\n",
       "      <td>No phone service</td>\n",
       "      <td>DSL</td>\n",
       "      <td>Yes</td>\n",
       "      <td>No</td>\n",
       "      <td>Yes</td>\n",
       "      <td>Yes</td>\n",
       "      <td>No</td>\n",
       "      <td>No</td>\n",
       "      <td>One year</td>\n",
       "      <td>No</td>\n",
       "      <td>Bank transfer (automatic)</td>\n",
       "      <td>42.30</td>\n",
       "      <td>1840.75</td>\n",
       "      <td>No</td>\n",
       "    </tr>\n",
       "    <tr>\n",
       "      <th>4</th>\n",
       "      <td>9237-HQITU</td>\n",
       "      <td>Female</td>\n",
       "      <td>0</td>\n",
       "      <td>No</td>\n",
       "      <td>No</td>\n",
       "      <td>2</td>\n",
       "      <td>Yes</td>\n",
       "      <td>No</td>\n",
       "      <td>Fiber optic</td>\n",
       "      <td>No</td>\n",
       "      <td>No</td>\n",
       "      <td>No</td>\n",
       "      <td>No</td>\n",
       "      <td>No</td>\n",
       "      <td>No</td>\n",
       "      <td>Month-to-month</td>\n",
       "      <td>Yes</td>\n",
       "      <td>Electronic check</td>\n",
       "      <td>70.70</td>\n",
       "      <td>151.65</td>\n",
       "      <td>Yes</td>\n",
       "    </tr>\n",
       "  </tbody>\n",
       "</table>\n",
       "</div>"
      ],
      "text/plain": [
       "   customerID  gender  SeniorCitizen  ... MonthlyCharges TotalCharges  Churn\n",
       "0  7590-VHVEG  Female              0  ...          29.85        29.85     No\n",
       "1  5575-GNVDE    Male              0  ...          56.95       1889.5     No\n",
       "2  3668-QPYBK    Male              0  ...          53.85       108.15    Yes\n",
       "3  7795-CFOCW    Male              0  ...          42.30      1840.75     No\n",
       "4  9237-HQITU  Female              0  ...          70.70       151.65    Yes\n",
       "\n",
       "[5 rows x 21 columns]"
      ]
     },
     "execution_count": 5,
     "metadata": {
      "tags": []
     },
     "output_type": "execute_result"
    }
   ],
   "source": [
    "# Visualizar os 5 primeiros registros\n",
    "dados.head()"
   ]
  },
  {
   "cell_type": "markdown",
   "metadata": {
    "id": "J0HL6i-b1Wiz"
   },
   "source": [
    "Vamos descartar a coluna CostumerID, pois não fornece informações relevantes para o modelo de Machine Learning."
   ]
  },
  {
   "cell_type": "code",
   "execution_count": 6,
   "metadata": {
    "id": "_NmbYQBOz3T8"
   },
   "outputs": [],
   "source": [
    "# Exclusão da coluna User ID\n",
    "dados = dados.drop('customerID', axis = 1)"
   ]
  },
  {
   "cell_type": "markdown",
   "metadata": {
    "id": "-9-NSof38BxL"
   },
   "source": [
    "### Verificação de dados ausentes e nulos"
   ]
  },
  {
   "cell_type": "markdown",
   "metadata": {
    "id": "kTi6psR11wQG"
   },
   "source": [
    "Vamos verificar agora, se o conjunto de dados possui dados faltantes e nulos:"
   ]
  },
  {
   "cell_type": "code",
   "execution_count": 7,
   "metadata": {
    "colab": {
     "base_uri": "https://localhost:8080/"
    },
    "id": "LYljZ23fz9OU",
    "outputId": "857478d0-2059-4259-b30e-caed53b6a1b7"
   },
   "outputs": [
    {
     "data": {
      "text/plain": [
       "gender              0\n",
       "SeniorCitizen       0\n",
       "Partner             0\n",
       "Dependents          0\n",
       "tenure              0\n",
       "PhoneService        0\n",
       "MultipleLines       0\n",
       "InternetService     0\n",
       "OnlineSecurity      0\n",
       "OnlineBackup        0\n",
       "DeviceProtection    0\n",
       "TechSupport         0\n",
       "StreamingTV         0\n",
       "StreamingMovies     0\n",
       "Contract            0\n",
       "PaperlessBilling    0\n",
       "PaymentMethod       0\n",
       "MonthlyCharges      0\n",
       "TotalCharges        0\n",
       "Churn               0\n",
       "dtype: int64"
      ]
     },
     "execution_count": 7,
     "metadata": {
      "tags": []
     },
     "output_type": "execute_result"
    }
   ],
   "source": [
    "# Verificar valores ausentes\n",
    "dados.isnull().sum()"
   ]
  },
  {
   "cell_type": "markdown",
   "metadata": {
    "id": "MJCS3dPw2Ebc"
   },
   "source": [
    "Não há dados faltantes."
   ]
  },
  {
   "cell_type": "code",
   "execution_count": 8,
   "metadata": {
    "colab": {
     "base_uri": "https://localhost:8080/"
    },
    "id": "AGcT1aJAI6gv",
    "outputId": "7b13ebff-62fb-46cb-ec83-0a67a4cdc4b0"
   },
   "outputs": [
    {
     "data": {
      "text/plain": [
       "gender              0\n",
       "SeniorCitizen       0\n",
       "Partner             0\n",
       "Dependents          0\n",
       "tenure              0\n",
       "PhoneService        0\n",
       "MultipleLines       0\n",
       "InternetService     0\n",
       "OnlineSecurity      0\n",
       "OnlineBackup        0\n",
       "DeviceProtection    0\n",
       "TechSupport         0\n",
       "StreamingTV         0\n",
       "StreamingMovies     0\n",
       "Contract            0\n",
       "PaperlessBilling    0\n",
       "PaymentMethod       0\n",
       "MonthlyCharges      0\n",
       "TotalCharges        0\n",
       "Churn               0\n",
       "dtype: int64"
      ]
     },
     "execution_count": 8,
     "metadata": {
      "tags": []
     },
     "output_type": "execute_result"
    }
   ],
   "source": [
    "# Verificar dados nulos\n",
    "dados.isna().sum()"
   ]
  },
  {
   "cell_type": "markdown",
   "metadata": {
    "id": "jhrmS08CI-nM"
   },
   "source": [
    "Podemos constatar que há 11 dados nulos na coluna Churn. Devido a pequena quantidade de registros nulos, optaremos em realizarmos a exclusão destes."
   ]
  },
  {
   "cell_type": "code",
   "execution_count": 9,
   "metadata": {
    "id": "S83uNsamJMCM"
   },
   "outputs": [],
   "source": [
    "# Exclusão de dados nulos\n",
    "dados = dados.dropna()"
   ]
  },
  {
   "cell_type": "code",
   "execution_count": 10,
   "metadata": {
    "colab": {
     "base_uri": "https://localhost:8080/"
    },
    "id": "z2iehMYpPL3Z",
    "outputId": "5cfeb262-74bb-40de-fd49-fe1746acd69c"
   },
   "outputs": [
    {
     "data": {
      "text/plain": [
       "gender              0\n",
       "SeniorCitizen       0\n",
       "Partner             0\n",
       "Dependents          0\n",
       "tenure              0\n",
       "PhoneService        0\n",
       "MultipleLines       0\n",
       "InternetService     0\n",
       "OnlineSecurity      0\n",
       "OnlineBackup        0\n",
       "DeviceProtection    0\n",
       "TechSupport         0\n",
       "StreamingTV         0\n",
       "StreamingMovies     0\n",
       "Contract            0\n",
       "PaperlessBilling    0\n",
       "PaymentMethod       0\n",
       "MonthlyCharges      0\n",
       "TotalCharges        0\n",
       "Churn               0\n",
       "dtype: int64"
      ]
     },
     "execution_count": 10,
     "metadata": {
      "tags": []
     },
     "output_type": "execute_result"
    }
   ],
   "source": [
    "# Verificar dados nulos\n",
    "dados.isna().sum()"
   ]
  },
  {
   "cell_type": "code",
   "execution_count": 11,
   "metadata": {
    "colab": {
     "base_uri": "https://localhost:8080/"
    },
    "id": "t9Bf3i-Xm36U",
    "outputId": "6d591e71-830c-4237-c3bc-9c370d2b2ab1"
   },
   "outputs": [
    {
     "name": "stdout",
     "output_type": "stream",
     "text": [
      "<class 'pandas.core.frame.DataFrame'>\n",
      "Int64Index: 7043 entries, 0 to 7042\n",
      "Data columns (total 20 columns):\n",
      " #   Column            Non-Null Count  Dtype  \n",
      "---  ------            --------------  -----  \n",
      " 0   gender            7043 non-null   object \n",
      " 1   SeniorCitizen     7043 non-null   int64  \n",
      " 2   Partner           7043 non-null   object \n",
      " 3   Dependents        7043 non-null   object \n",
      " 4   tenure            7043 non-null   int64  \n",
      " 5   PhoneService      7043 non-null   object \n",
      " 6   MultipleLines     7043 non-null   object \n",
      " 7   InternetService   7043 non-null   object \n",
      " 8   OnlineSecurity    7043 non-null   object \n",
      " 9   OnlineBackup      7043 non-null   object \n",
      " 10  DeviceProtection  7043 non-null   object \n",
      " 11  TechSupport       7043 non-null   object \n",
      " 12  StreamingTV       7043 non-null   object \n",
      " 13  StreamingMovies   7043 non-null   object \n",
      " 14  Contract          7043 non-null   object \n",
      " 15  PaperlessBilling  7043 non-null   object \n",
      " 16  PaymentMethod     7043 non-null   object \n",
      " 17  MonthlyCharges    7043 non-null   float64\n",
      " 18  TotalCharges      7043 non-null   object \n",
      " 19  Churn             7043 non-null   object \n",
      "dtypes: float64(1), int64(2), object(17)\n",
      "memory usage: 1.1+ MB\n"
     ]
    }
   ],
   "source": [
    "# Informação da base de dados\n",
    "dados.info()"
   ]
  },
  {
   "cell_type": "markdown",
   "metadata": {
    "id": "P5gcbv66wVZt"
   },
   "source": [
    "## Etapa 03 - Visualização de dados"
   ]
  },
  {
   "cell_type": "markdown",
   "metadata": {
    "id": "kk5nkfnZpFSo"
   },
   "source": [
    "Podemos visualizar a relação da variável alvo (Churn) com diferentes variáveis da base de dados. Para otimizarmos a análise, unificaremos registros que constem 'não' e 'nenhum'."
   ]
  },
  {
   "cell_type": "code",
   "execution_count": 12,
   "metadata": {
    "id": "i7CIoiRfoMrV"
   },
   "outputs": [],
   "source": [
    "# Substituição de registros na coluna Churn\n",
    "dados['Churn'] = dados['Churn'].replace(['No','Yes'],['Não','Sim'])"
   ]
  },
  {
   "cell_type": "code",
   "execution_count": 13,
   "metadata": {
    "colab": {
     "base_uri": "https://localhost:8080/"
    },
    "id": "aBQmJaVZi8fe",
    "outputId": "85f3d108-602d-4401-88f3-1ad1920ef04a"
   },
   "outputs": [
    {
     "data": {
      "text/plain": [
       "Não    5174\n",
       "Sim    1869\n",
       "Name: Churn, dtype: int64"
      ]
     },
     "execution_count": 13,
     "metadata": {
      "tags": []
     },
     "output_type": "execute_result"
    }
   ],
   "source": [
    "# Contagem de clientes em relação ao Churn\n",
    "dados_ = dados['Churn'].value_counts()\n",
    "dados_ "
   ]
  },
  {
   "cell_type": "markdown",
   "metadata": {
    "id": "ztcxXKBdj1xv"
   },
   "source": [
    "Podemos constatar que em nosso conjunto de dados possuem 5174 (**73,46%**)  clientes que permaneceram na empresa e 1869 (**26,53%**)  clientes que abandonaram o serviço.\n"
   ]
  },
  {
   "cell_type": "markdown",
   "metadata": {
    "id": "DM1La2iTq82P"
   },
   "source": [
    "### Variáveis categóricas"
   ]
  },
  {
   "cell_type": "markdown",
   "metadata": {
    "id": "2EcqcT2JL2uV"
   },
   "source": [
    "#### **Gênero x Churn**"
   ]
  },
  {
   "cell_type": "code",
   "execution_count": 14,
   "metadata": {
    "id": "xn6i1f9UOzXo"
   },
   "outputs": [],
   "source": [
    "# Substituição de registros na coluna gender\n",
    "dados['gender'] = dados['gender'].replace(['Female','Male'],['Mulher','Homem'])"
   ]
  },
  {
   "cell_type": "code",
   "execution_count": 15,
   "metadata": {
    "colab": {
     "base_uri": "https://localhost:8080/",
     "height": 0
    },
    "id": "iZBrPrOfxJ1l",
    "outputId": "88f1c97f-af97-444a-94a4-79f5421fcc2a"
   },
   "outputs": [
    {
     "data": {
      "image/png": "[encoded data removed]",
      "text/plain": [
       "<Figure size 720x432 with 1 Axes>"
      ]
     },
     "metadata": {
      "needs_background": "light",
      "tags": []
     },
     "output_type": "display_data"
    }
   ],
   "source": [
    "# Gênero x Churn\n",
    "plt.style.use('seaborn-dark-palette')\n",
    "plt.figure(figsize = (10,6))\n",
    "sns.countplot(x = 'gender', data = dados, hue = 'Churn', palette = ['#4169E1','#FF4500'])\n",
    "plt.xlabel('Gênero')\n",
    "plt.ylabel('Contagem')\n",
    "\n",
    "plt.tight_layout()\n",
    "plt.show()"
   ]
  },
  {
   "cell_type": "markdown",
   "metadata": {
    "id": "qdVCmecC2iyl"
   },
   "source": [
    "Podemos notar um equilíbrio entre homens e mulheres que abandonam o serviço da empresa."
   ]
  },
  {
   "cell_type": "markdown",
   "metadata": {
    "id": "gHwy_EZNL7kk"
   },
   "source": [
    "#### **Idoso(a) x Churn**"
   ]
  },
  {
   "cell_type": "code",
   "execution_count": 16,
   "metadata": {
    "id": "9TBLe5DCrvRD"
   },
   "outputs": [],
   "source": [
    "# Substituição de registros na coluna SeniorCitizen\n",
    "dados['SeniorCitizen'] = dados['SeniorCitizen'].replace([0, 1],['Não','Sim'])"
   ]
  },
  {
   "cell_type": "code",
   "execution_count": 17,
   "metadata": {
    "colab": {
     "base_uri": "https://localhost:8080/",
     "height": 0
    },
    "id": "6qi1GDzN2HPl",
    "outputId": "4a699093-8a3c-4259-d0b9-7302ef511513"
   },
   "outputs": [
    {
     "data": {
      "image/png": "[encoded data removed]",
      "text/plain": [
       "<Figure size 720x432 with 1 Axes>"
      ]
     },
     "metadata": {
      "needs_background": "light",
      "tags": []
     },
     "output_type": "display_data"
    }
   ],
   "source": [
    "# Idoso(a) x Churn\n",
    "plt.figure(figsize = (10,6))\n",
    "sns.countplot(x = 'SeniorCitizen', data = dados, hue = 'Churn',  palette = ['#4169E1','#FF4500'])\n",
    "plt.xlabel('Idoso(a)')\n",
    "plt.ylabel('Contagem')\n",
    "\n",
    "plt.tight_layout()\n",
    "plt.show()"
   ]
  },
  {
   "cell_type": "markdown",
   "metadata": {
    "id": "j7WZWWsK3EW7"
   },
   "source": [
    "Notamos que idosos tendem abandonar menos o serviço da empresa, porém também não apresentam uma permanência significativa."
   ]
  },
  {
   "cell_type": "markdown",
   "metadata": {
    "id": "dFgYR0ygMEC4"
   },
   "source": [
    "#### **Parceiro(a) x Churn**"
   ]
  },
  {
   "cell_type": "code",
   "execution_count": 18,
   "metadata": {
    "id": "lDMCVEN1sYKq"
   },
   "outputs": [],
   "source": [
    "# Substituição de registros na coluna Partner\n",
    "dados['Partner'] = dados['Partner'].replace(['Yes','No'],['Sim','Não'])"
   ]
  },
  {
   "cell_type": "code",
   "execution_count": 19,
   "metadata": {
    "colab": {
     "base_uri": "https://localhost:8080/",
     "height": 0
    },
    "id": "xMYrAHz1C5yR",
    "outputId": "e926e93c-0753-43df-832e-6fa409f56115"
   },
   "outputs": [
    {
     "data": {
      "image/png": "[encoded data removed]",
      "text/plain": [
       "<Figure size 720x432 with 1 Axes>"
      ]
     },
     "metadata": {
      "needs_background": "light",
      "tags": []
     },
     "output_type": "display_data"
    }
   ],
   "source": [
    "# Parceiro(a) x Churn\n",
    "plt.figure(figsize = (10,6))\n",
    "sns.countplot(x = 'Partner', data = dados, hue = 'Churn', palette = ['#4169E1','#FF4500'])\n",
    "plt.xlabel('Parceiro(a)')\n",
    "plt.ylabel('Contagem')\n",
    "\n",
    "plt.tight_layout()\n",
    "plt.show()"
   ]
  },
  {
   "cell_type": "markdown",
   "metadata": {
    "id": "QEr5BqXrDhMl"
   },
   "source": [
    "Clientes que não possuem parceiro(a) apresentam uma maior tendência de abandono da empresa."
   ]
  },
  {
   "cell_type": "markdown",
   "metadata": {
    "id": "9IjRkcOVMLG9"
   },
   "source": [
    "#### **Dependentes x Churn**"
   ]
  },
  {
   "cell_type": "code",
   "execution_count": 20,
   "metadata": {
    "id": "pUYV6klFs0r7"
   },
   "outputs": [],
   "source": [
    "# Substituição de registros na coluna Dependents\n",
    "dados['Dependents'] = dados['Dependents'].replace(['Yes','No'],['Sim','Não'])"
   ]
  },
  {
   "cell_type": "code",
   "execution_count": 21,
   "metadata": {
    "colab": {
     "base_uri": "https://localhost:8080/",
     "height": 0
    },
    "id": "WsDTam3jD1lN",
    "outputId": "6816a88d-cc47-4cab-edc9-1210a2f85dde"
   },
   "outputs": [
    {
     "data": {
      "image/png": "[encoded data removed]",
      "text/plain": [
       "<Figure size 720x432 with 1 Axes>"
      ]
     },
     "metadata": {
      "needs_background": "light",
      "tags": []
     },
     "output_type": "display_data"
    }
   ],
   "source": [
    "# Dependentes x Churn\n",
    "plt.figure(figsize = (10,6))\n",
    "sns.countplot(x = 'Dependents', data = dados, hue = 'Churn', palette = ['#4169E1','#FF4500'])\n",
    "plt.xlabel('Dependentes')\n",
    "plt.ylabel('Contagem')\n",
    "\n",
    "plt.tight_layout()\n",
    "plt.show()"
   ]
  },
  {
   "cell_type": "markdown",
   "metadata": {
    "id": "cyIqVfYQGjVM"
   },
   "source": [
    "Podemos notar maior desistência ocorre em clientes que não possuem dependentes."
   ]
  },
  {
   "cell_type": "markdown",
   "metadata": {
    "id": "ODEZcHvcMW0c"
   },
   "source": [
    "#### **Serviço de Telefonia x Churn**"
   ]
  },
  {
   "cell_type": "code",
   "execution_count": 22,
   "metadata": {
    "id": "SvlXHXmKtAIR"
   },
   "outputs": [],
   "source": [
    "# Substituição de registros na coluna PhoneService\n",
    "dados['PhoneService'] = dados['PhoneService'].replace(['Yes','No'],['Sim','Não'])"
   ]
  },
  {
   "cell_type": "code",
   "execution_count": 23,
   "metadata": {
    "colab": {
     "base_uri": "https://localhost:8080/",
     "height": 0
    },
    "id": "PPiYo7qLGtkt",
    "outputId": "e3a67733-8470-459a-89e1-a4bc97eda923"
   },
   "outputs": [
    {
     "data": {
      "image/png": "[encoded data removed]",
      "text/plain": [
       "<Figure size 720x432 with 1 Axes>"
      ]
     },
     "metadata": {
      "needs_background": "light",
      "tags": []
     },
     "output_type": "display_data"
    }
   ],
   "source": [
    "# Serviço de telefonia x Churn\n",
    "plt.figure(figsize = (10,6))\n",
    "sns.countplot(x = 'PhoneService', data = dados, hue = 'Churn',  palette = ['#4169E1','#FF4500'])\n",
    "plt.xlabel('Serviço de telefonia')\n",
    "plt.ylabel('Contagem')\n",
    "\n",
    "plt.tight_layout()\n",
    "plt.show()"
   ]
  },
  {
   "cell_type": "markdown",
   "metadata": {
    "id": "Ru7p15xoJxpv"
   },
   "source": [
    "Aqui verificamos que clientes que possuem um serviço de telefonia apresentam uma tendência maior de abandono do serviço."
   ]
  },
  {
   "cell_type": "markdown",
   "metadata": {
    "id": "NHOs5ssLMevE"
   },
   "source": [
    "#### **Múltiplas linhas de telefone x Churn**"
   ]
  },
  {
   "cell_type": "code",
   "execution_count": 24,
   "metadata": {
    "id": "g39SWjTwtony"
   },
   "outputs": [],
   "source": [
    "# Substituição de registros na coluna MultipleLines\n",
    "dados['MultipleLines'] = dados['MultipleLines'].replace(['Yes','No', 'No phone service'],['Sim','Não', 'Não'])"
   ]
  },
  {
   "cell_type": "code",
   "execution_count": 25,
   "metadata": {
    "colab": {
     "base_uri": "https://localhost:8080/",
     "height": 0
    },
    "id": "EXvIlhANK9Zm",
    "outputId": "0bf5ee0d-ef22-4205-ef99-b5ffb3e9beb2"
   },
   "outputs": [
    {
     "data": {
      "image/png": "[encoded data removed]",
      "text/plain": [
       "<Figure size 720x432 with 1 Axes>"
      ]
     },
     "metadata": {
      "needs_background": "light",
      "tags": []
     },
     "output_type": "display_data"
    }
   ],
   "source": [
    "# Múltiplas linhas de telefone x Churn\n",
    "plt.figure(figsize = (10,6))\n",
    "sns.countplot(x = 'MultipleLines', data = dados, hue = 'Churn',  palette = ['#4169E1','#FF4500'])\n",
    "plt.xlabel('Múltiplas linhas de telefone')\n",
    "plt.ylabel('Contagem')\n",
    "\n",
    "plt.tight_layout()\n",
    "plt.show()"
   ]
  },
  {
   "cell_type": "markdown",
   "metadata": {
    "id": "6r9sAJLhLVk8"
   },
   "source": [
    "Existe um equílibrio entre os clientes que possuem e não possuem múltiplas linhas de telefone. "
   ]
  },
  {
   "cell_type": "markdown",
   "metadata": {
    "id": "nZzFIf_1Mkjs"
   },
   "source": [
    "#### **Provedor de internet x Churn**"
   ]
  },
  {
   "cell_type": "code",
   "execution_count": 26,
   "metadata": {
    "id": "hLqQiTkSuBKO"
   },
   "outputs": [],
   "source": [
    "# Substituição de registros na coluna InternetService\n",
    "dados['InternetService'] = dados['InternetService'].replace(['DSl','Fiber optic', 'No'],['DSL','Fibra Óptica', 'Nenhuma'])"
   ]
  },
  {
   "cell_type": "code",
   "execution_count": 27,
   "metadata": {
    "colab": {
     "base_uri": "https://localhost:8080/",
     "height": 441
    },
    "id": "hXeekccSMsJc",
    "outputId": "5ededc78-a2f0-4e3a-d018-42a8b1123c3f"
   },
   "outputs": [
    {
     "data": {
      "image/png": "[encoded data removed]",
      "text/plain": [
       "<Figure size 720x432 with 1 Axes>"
      ]
     },
     "metadata": {
      "needs_background": "light",
      "tags": []
     },
     "output_type": "display_data"
    }
   ],
   "source": [
    "# Provedor de internet x Churn\n",
    "plt.figure(figsize = (10,6))\n",
    "sns.countplot(x = 'InternetService', data = dados, hue = 'Churn', palette = ['#4169E1','#FF4500'])\n",
    "plt.xlabel('Provedor de internet')\n",
    "plt.ylabel('Contagem')\n",
    "\n",
    "plt.tight_layout()\n",
    "plt.show()"
   ]
  },
  {
   "cell_type": "markdown",
   "metadata": {
    "id": "V_WbN4KtNwTc"
   },
   "source": [
    "Notamos que clientes que possuem fibra ótica tem maior propensão ao abandono do serviço da empresa."
   ]
  },
  {
   "cell_type": "markdown",
   "metadata": {
    "id": "YJ1UvIK-UAM6"
   },
   "source": [
    "#### **Segurança Online x Churn**"
   ]
  },
  {
   "cell_type": "code",
   "execution_count": 28,
   "metadata": {
    "id": "oed054hSxGZF"
   },
   "outputs": [],
   "source": [
    "# Substituição de registros na coluna OnlineSecurity\n",
    "dados['OnlineSecurity'] = dados['OnlineSecurity'].replace(['No','Yes', 'No internet service'],['Não', 'Sim', 'Não'])"
   ]
  },
  {
   "cell_type": "code",
   "execution_count": 29,
   "metadata": {
    "colab": {
     "base_uri": "https://localhost:8080/",
     "height": 441
    },
    "id": "rQOrUNwZWQbc",
    "outputId": "7a7487a8-3298-4fd1-b95e-c5a905392b31"
   },
   "outputs": [
    {
     "data": {
      "image/png": "[encoded data removed]",
      "text/plain": [
       "<Figure size 720x432 with 1 Axes>"
      ]
     },
     "metadata": {
      "needs_background": "light",
      "tags": []
     },
     "output_type": "display_data"
    }
   ],
   "source": [
    "# Segurança Online x Churn\n",
    "plt.figure(figsize = (10,6))\n",
    "sns.countplot(x = 'OnlineSecurity', data = dados, hue = 'Churn', palette = ['#4169E1','#FF4500'])\n",
    "plt.xlabel('Segurança Online')\n",
    "plt.ylabel('Contagem')\n",
    "\n",
    "plt.tight_layout()\n",
    "plt.show()"
   ]
  },
  {
   "cell_type": "markdown",
   "metadata": {
    "id": "5mKu50KmWayr"
   },
   "source": [
    "Nota-se que clientes que não possuem serviços de segurança online tendem a abandonar o serviço da empresa."
   ]
  },
  {
   "cell_type": "markdown",
   "metadata": {
    "id": "YE8_etI8aOmh"
   },
   "source": [
    "#### **Backup Online x Churn**"
   ]
  },
  {
   "cell_type": "code",
   "execution_count": 30,
   "metadata": {
    "id": "L7fjWkW1yI-s"
   },
   "outputs": [],
   "source": [
    "# Substituição de registros na coluna OnlineBackup\n",
    "dados['OnlineBackup'] = dados['OnlineBackup'].replace(['No','Yes', 'No internet service'],['Não','Sim', 'Não'])"
   ]
  },
  {
   "cell_type": "code",
   "execution_count": 31,
   "metadata": {
    "colab": {
     "base_uri": "https://localhost:8080/",
     "height": 0
    },
    "id": "A4QUEarSaZwk",
    "outputId": "40939a22-8ebd-4e17-f039-0dc4b063968a"
   },
   "outputs": [
    {
     "data": {
      "image/png": "[encoded data removed]",
      "text/plain": [
       "<Figure size 720x432 with 1 Axes>"
      ]
     },
     "metadata": {
      "needs_background": "light",
      "tags": []
     },
     "output_type": "display_data"
    }
   ],
   "source": [
    "# Backup Online x Churn\n",
    "plt.figure(figsize = (10,6))\n",
    "sns.countplot(x = 'OnlineBackup', data = dados, hue = 'Churn', palette = ['#4169E1','#FF4500'])\n",
    "plt.xlabel('Backup Online')\n",
    "plt.ylabel('Contagem')\n",
    "\n",
    "plt.tight_layout()\n",
    "plt.show()"
   ]
  },
  {
   "cell_type": "markdown",
   "metadata": {
    "id": "adJXjvcicBJT"
   },
   "source": [
    "Observamos que clientes que não possuem serviço de backup online tendem a abandonar o serviço com mais frequência."
   ]
  },
  {
   "cell_type": "markdown",
   "metadata": {
    "id": "ZLLPMZWYWmCG"
   },
   "source": [
    "#### **Proteção de dispositivo x Churn**"
   ]
  },
  {
   "cell_type": "code",
   "execution_count": 32,
   "metadata": {
    "id": "qzpkUtpUye4k"
   },
   "outputs": [],
   "source": [
    "# Substituição de registros na coluna DeviceProtection\n",
    "dados['DeviceProtection'] = dados['DeviceProtection'].replace(['No','Yes', 'No internet service'],['Não','Sim', 'Não'])"
   ]
  },
  {
   "cell_type": "code",
   "execution_count": 33,
   "metadata": {
    "colab": {
     "base_uri": "https://localhost:8080/",
     "height": 0
    },
    "id": "ZnBg-EalWtbA",
    "outputId": "82577bf1-bdc4-4b44-e9d5-162d0beb1b7c"
   },
   "outputs": [
    {
     "data": {
      "image/png": "[encoded data removed]",
      "text/plain": [
       "<Figure size 720x432 with 1 Axes>"
      ]
     },
     "metadata": {
      "needs_background": "light",
      "tags": []
     },
     "output_type": "display_data"
    }
   ],
   "source": [
    "# Proteção de dispositivo x Churn\n",
    "plt.figure(figsize = (10,6))\n",
    "sns.countplot(x = 'DeviceProtection', data = dados, hue = 'Churn', palette = ['#4169E1','#FF4500'])\n",
    "plt.xlabel('Proteção de Dispositivo')\n",
    "plt.ylabel('Contagem')\n",
    "\n",
    "plt.tight_layout()\n",
    "plt.show()"
   ]
  },
  {
   "cell_type": "markdown",
   "metadata": {
    "id": "XSykdGoYW5sD"
   },
   "source": [
    "Verificamos que clientes que não possuem um serviço de proteção de dispositivo são mais propensas a desistir do serviço da empresa."
   ]
  },
  {
   "cell_type": "markdown",
   "metadata": {
    "id": "eYdRm5uVg-oT"
   },
   "source": [
    "#### **Suporte técnico x Churn**"
   ]
  },
  {
   "cell_type": "code",
   "execution_count": 34,
   "metadata": {
    "id": "_vSoqIHsy0eL"
   },
   "outputs": [],
   "source": [
    "# Substituição de registros na coluna TechSupport\n",
    "dados['TechSupport'] = dados['TechSupport'].replace(['No','Yes', 'No internet service'],['Não','Sim', 'Não'])"
   ]
  },
  {
   "cell_type": "code",
   "execution_count": 35,
   "metadata": {
    "colab": {
     "base_uri": "https://localhost:8080/",
     "height": 0
    },
    "id": "K7HS5fsVgfBb",
    "outputId": "c6bfa800-456a-4b60-e1a5-ae608431dc20"
   },
   "outputs": [
    {
     "data": {
      "image/png": "[encoded data removed]",
      "text/plain": [
       "<Figure size 720x432 with 1 Axes>"
      ]
     },
     "metadata": {
      "needs_background": "light",
      "tags": []
     },
     "output_type": "display_data"
    }
   ],
   "source": [
    "# Suporte técnico x Churn\n",
    "plt.figure(figsize = (10,6))\n",
    "sns.countplot(x = 'TechSupport', data = dados, hue = 'Churn', palette = ['#4169E1','#FF4500'])\n",
    "plt.xlabel('Suporte técnico')\n",
    "plt.ylabel('Contagem')\n",
    "\n",
    "plt.tight_layout()\n",
    "plt.show()"
   ]
  },
  {
   "cell_type": "markdown",
   "metadata": {
    "id": "x5DVG-FSh8wE"
   },
   "source": [
    "Observamos que clientes que não possuem suporte técnico são os que mais abandonam o serviço da empresa."
   ]
  },
  {
   "cell_type": "markdown",
   "metadata": {
    "id": "oEAp1tECipYL"
   },
   "source": [
    "#### **Streaming TV x Churn**"
   ]
  },
  {
   "cell_type": "code",
   "execution_count": 36,
   "metadata": {
    "id": "klRgPU49zJuU"
   },
   "outputs": [],
   "source": [
    "# Substituição de registros na coluna StreamingTV\n",
    "dados['StreamingTV'] = dados['StreamingTV'].replace(['No','Yes', 'No internet service'],['Não','Sim', 'Não'])"
   ]
  },
  {
   "cell_type": "code",
   "execution_count": 37,
   "metadata": {
    "colab": {
     "base_uri": "https://localhost:8080/",
     "height": 0
    },
    "id": "H0sUwiZaiubi",
    "outputId": "c3a45789-6b7b-466b-9c80-f1e6ac997a69"
   },
   "outputs": [
    {
     "data": {
      "image/png": "[encoded data removed]",
      "text/plain": [
       "<Figure size 720x432 with 1 Axes>"
      ]
     },
     "metadata": {
      "needs_background": "light",
      "tags": []
     },
     "output_type": "display_data"
    }
   ],
   "source": [
    "# Streaming TV x Churn\n",
    "plt.figure(figsize = (10,6))\n",
    "sns.countplot(x = 'StreamingTV', data = dados, hue = 'Churn', palette = ['#4169E1','#FF4500'])\n",
    "plt.xlabel('Streaming TV')\n",
    "plt.ylabel('Contagem')\n",
    "\n",
    "plt.tight_layout()\n",
    "plt.show()"
   ]
  },
  {
   "cell_type": "markdown",
   "metadata": {
    "id": "A-JFcLY7j5jj"
   },
   "source": [
    "Podemos ver que o streaming de TV não exerce uma influência significativa na desistência do serviço."
   ]
  },
  {
   "cell_type": "markdown",
   "metadata": {
    "id": "goZKgpN4kbNi"
   },
   "source": [
    "#### **Streaming Filmes x Churn**"
   ]
  },
  {
   "cell_type": "code",
   "execution_count": 38,
   "metadata": {
    "id": "Ijh5ErU_0SqU"
   },
   "outputs": [],
   "source": [
    "# Substituição de registros na coluna StreamingMovies\n",
    "dados['StreamingMovies'] = dados['StreamingMovies'].replace(['No','Yes', 'No internet service'],['Não', 'Sim', 'Não'])"
   ]
  },
  {
   "cell_type": "code",
   "execution_count": 39,
   "metadata": {
    "colab": {
     "base_uri": "https://localhost:8080/",
     "height": 0
    },
    "id": "KbJGtG0vka17",
    "outputId": "8178f34e-1b2e-4ebd-eb39-2e09b47fc7f5"
   },
   "outputs": [
    {
     "data": {
      "image/png": "[encoded data removed]",
      "text/plain": [
       "<Figure size 720x432 with 1 Axes>"
      ]
     },
     "metadata": {
      "needs_background": "light",
      "tags": []
     },
     "output_type": "display_data"
    }
   ],
   "source": [
    "# Streaming de filmes x Churn\n",
    "plt.figure(figsize = (10,6))\n",
    "sns.countplot(x = 'StreamingMovies', data = dados, hue = 'Churn', palette = ['#4169E1','#FF4500'])\n",
    "plt.xlabel('Streaming de Filmes')\n",
    "plt.ylabel('Contagem')\n",
    "\n",
    "plt.tight_layout()\n",
    "plt.show()"
   ]
  },
  {
   "cell_type": "markdown",
   "metadata": {
    "id": "7XYuGc9Io5h1"
   },
   "source": [
    "Aqui também podemos verificar que o streaming de filmes não exerce uma influência significativa na desistência do serviço."
   ]
  },
  {
   "cell_type": "markdown",
   "metadata": {
    "id": "3TNojYgfpJ8-"
   },
   "source": [
    "#### **Termo de contrato x Churn**"
   ]
  },
  {
   "cell_type": "code",
   "execution_count": 40,
   "metadata": {
    "id": "JiGnPaq90sS9"
   },
   "outputs": [],
   "source": [
    "# Substituição de registros na coluna Contract\n",
    "dados['Contract'] = dados['Contract'].replace(['Month-to-month','One year', 'Two year'],['Mensal','Anual', 'Bianual'])"
   ]
  },
  {
   "cell_type": "code",
   "execution_count": 41,
   "metadata": {
    "colab": {
     "base_uri": "https://localhost:8080/",
     "height": 0
    },
    "id": "apX5k865pP4q",
    "outputId": "8c23d2de-4873-4e46-86c3-9f83ea41d104"
   },
   "outputs": [
    {
     "data": {
      "image/png": "[encoded data removed]",
      "text/plain": [
       "<Figure size 720x432 with 1 Axes>"
      ]
     },
     "metadata": {
      "needs_background": "light",
      "tags": []
     },
     "output_type": "display_data"
    }
   ],
   "source": [
    "# Termo de contrato x Churn\n",
    "plt.figure(figsize = (10,6))\n",
    "sns.countplot(x = 'Contract', data = dados, hue = 'Churn', palette = ['#4169E1','#FF4500'])\n",
    "plt.xlabel('Termo de contrato')\n",
    "plt.ylabel('Contagem')\n",
    "\n",
    "plt.tight_layout()\n",
    "plt.show()"
   ]
  },
  {
   "cell_type": "markdown",
   "metadata": {
    "id": "p2se42PmpdgK"
   },
   "source": [
    "Nota-se que os clientes que possuem o contrato mensal são os que mais abandonam o serviço da empresa. "
   ]
  },
  {
   "cell_type": "markdown",
   "metadata": {
    "id": "-ilPRpz7ppi6"
   },
   "source": [
    "#### **Faturamento sem papel x Churn**"
   ]
  },
  {
   "cell_type": "code",
   "execution_count": 42,
   "metadata": {
    "id": "rxsjvkpL1VwK"
   },
   "outputs": [],
   "source": [
    "# Substituição de registros na coluna PaperlessBilling\n",
    "dados['PaperlessBilling'] = dados['PaperlessBilling'].replace(['No', 'Yes'],['Não','Sim'])"
   ]
  },
  {
   "cell_type": "code",
   "execution_count": 43,
   "metadata": {
    "colab": {
     "base_uri": "https://localhost:8080/",
     "height": 0
    },
    "id": "ZrVtK3dopvP0",
    "outputId": "f42b713f-428c-4450-ab14-af8923a869c0"
   },
   "outputs": [
    {
     "data": {
      "image/png": "[encoded data removed]",
      "text/plain": [
       "<Figure size 720x432 with 1 Axes>"
      ]
     },
     "metadata": {
      "needs_background": "light",
      "tags": []
     },
     "output_type": "display_data"
    }
   ],
   "source": [
    "# Faturamento sem papel x Churn\n",
    "plt.figure(figsize = (10,6))\n",
    "sns.countplot(x = 'PaperlessBilling', data = dados, hue = 'Churn', palette = ['#4169E1','#FF4500'])\n",
    "plt.xlabel('Faturamento sem papel')\n",
    "plt.ylabel('Contagem')\n",
    "\n",
    "plt.tight_layout()\n",
    "plt.show()"
   ]
  },
  {
   "cell_type": "markdown",
   "metadata": {
    "id": "Pk__wCYdqvhT"
   },
   "source": [
    "Observamos que os clientes adeptos de faturamento sem papel são mais propensos a abandonar o serviço da empresa."
   ]
  },
  {
   "cell_type": "markdown",
   "metadata": {
    "id": "DULBwazevqCB"
   },
   "source": [
    "#### **Forma de pagamento x Churn**"
   ]
  },
  {
   "cell_type": "code",
   "execution_count": 44,
   "metadata": {
    "id": "Xgv0MU_P1y6y"
   },
   "outputs": [],
   "source": [
    "# Substituição de registros na coluna PaymentMethod\n",
    "dados['PaymentMethod'] = dados['PaymentMethod'].replace(['Electronic check', 'Mailed check', 'Bank transfer (automatic)', 'Credit card (automatic)'],\n",
    "                                                        ['Cheque eletrônico','Cheque enviado', 'Transferência bancária', 'Cartão de crédito'])"
   ]
  },
  {
   "cell_type": "code",
   "execution_count": 45,
   "metadata": {
    "colab": {
     "base_uri": "https://localhost:8080/",
     "height": 0
    },
    "id": "vKWwgFPwvokO",
    "outputId": "0642ae0e-6c22-4af2-d7d1-83bbe2e07d2a"
   },
   "outputs": [
    {
     "data": {
      "image/png": "[encoded data removed]",
      "text/plain": [
       "<Figure size 720x432 with 1 Axes>"
      ]
     },
     "metadata": {
      "needs_background": "light",
      "tags": []
     },
     "output_type": "display_data"
    }
   ],
   "source": [
    "# Forma de pagamento x Churn\n",
    "plt.figure(figsize = (10,6))\n",
    "sns.countplot(x = 'PaymentMethod', data = dados, hue = 'Churn', palette = ['#4169E1','#FF4500'])\n",
    "plt.xlabel('Forma de pagamento')\n",
    "plt.ylabel('Contagem')\n",
    "\n",
    "plt.tight_layout()\n",
    "plt.show()"
   ]
  },
  {
   "cell_type": "markdown",
   "metadata": {
    "id": "xQl4ZSyexJGS"
   },
   "source": [
    "Podemos verificar que os clientes que possuem a forma de pagamento como cheque eletrônico são os que mais abandonam o serviço da empresa."
   ]
  },
  {
   "cell_type": "markdown",
   "metadata": {
    "id": "nxS2_a_4xZCU"
   },
   "source": [
    "### Variáveis numéricas"
   ]
  },
  {
   "cell_type": "markdown",
   "metadata": {
    "id": "oW1WuDeaz2zy"
   },
   "source": [
    "#### **Distribuição do Meses de permanência x Clientes**"
   ]
  },
  {
   "cell_type": "code",
   "execution_count": 46,
   "metadata": {
    "colab": {
     "base_uri": "https://localhost:8080/",
     "height": 441
    },
    "id": "rmJpYyIOxYDE",
    "outputId": "7d1f5bce-68e8-4ec0-87b7-8dd6ddd0cbec"
   },
   "outputs": [
    {
     "data": {
      "image/png": "[encoded data removed]",
      "text/plain": [
       "<Figure size 720x432 with 1 Axes>"
      ]
     },
     "metadata": {
      "needs_background": "light",
      "tags": []
     },
     "output_type": "display_data"
    }
   ],
   "source": [
    "# Distribuição de Meses de permanência x Cliente\n",
    "plt.figure(figsize = (10,6))\n",
    "sns.histplot(x = dados['tenure'], data = dados, kde = True, bins = 20, hue = 'Churn', palette = ['#4169E1','#FF4500'])\n",
    "plt.xlabel('Meses de permanência do cliente')\n",
    "plt.ylabel('Contagem')\n",
    "\n",
    "plt.tight_layout()\n",
    "plt.show()"
   ]
  },
  {
   "cell_type": "markdown",
   "metadata": {
    "id": "67adq_CtyfjO"
   },
   "source": [
    "Podemos visualizar que temos dois picos no gráfico que demonstra a permanência do cliente, sendo a maior parte dos clientes permanece 5 meses e o outro pico ocorre próximo a 70 meses. Como esperado, podemos verificar que o abandono ocorre com mais frequência nos primeiros 30 meses."
   ]
  },
  {
   "cell_type": "markdown",
   "metadata": {
    "id": "CjOrRquVzzrQ"
   },
   "source": [
    "#### **Distribuição do Valor cobrado mensalmente x Clientes**"
   ]
  },
  {
   "cell_type": "code",
   "execution_count": 47,
   "metadata": {
    "colab": {
     "base_uri": "https://localhost:8080/",
     "height": 441
    },
    "id": "ARNAc0tO0WPB",
    "outputId": "f1f1426e-e8e6-4cc5-af64-2960204f7f2b"
   },
   "outputs": [
    {
     "data": {
      "image/png": "[encoded data removed]",
      "text/plain": [
       "<Figure size 720x432 with 1 Axes>"
      ]
     },
     "metadata": {
      "needs_background": "light",
      "tags": []
     },
     "output_type": "display_data"
    }
   ],
   "source": [
    "# Valor cobrado mensalmente x Clientes\n",
    "plt.figure(figsize = (10,6))\n",
    "sns.histplot(x = 'MonthlyCharges', data = dados, kde = True, bins = 20, hue = 'Churn', palette = ['#4169E1','#FF4500'])\n",
    "plt.xlabel('Valor cobrado mensalmente')\n",
    "plt.ylabel('Contagem')\n",
    "\n",
    "plt.tight_layout()\n",
    "plt.show()"
   ]
  },
  {
   "cell_type": "markdown",
   "metadata": {
    "id": "v2FcBzZ80qVD"
   },
   "source": [
    "Aqui podemos visualizar que a maioria dos clientes paga 20 dólares, os demais possuem uma variação entre 40 a 120 dólares. \n",
    "\n",
    "Também podemos constatar que a maior a ocorrência de desistência acontece no intervalo entre 70 a 120 dólares."
   ]
  },
  {
   "cell_type": "markdown",
   "metadata": {
    "id": "e6Vu429dJ3ET"
   },
   "source": [
    "Para elaborarmos a distribuição do valor total cobrado, necessitaremos alterar o tipo da variável TotalCharges para númerico:"
   ]
  },
  {
   "cell_type": "markdown",
   "metadata": {
    "id": "URXfvIxXMb2-"
   },
   "source": [
    "#### **Distribuição do Valor total cobrado x Clientes**"
   ]
  },
  {
   "cell_type": "code",
   "execution_count": 48,
   "metadata": {
    "id": "vbId-7oJKFYh"
   },
   "outputs": [],
   "source": [
    "dados['TotalCharges'] = pd.to_numeric(dados['TotalCharges'], errors = 'coerce')"
   ]
  },
  {
   "cell_type": "code",
   "execution_count": 49,
   "metadata": {
    "colab": {
     "base_uri": "https://localhost:8080/",
     "height": 441
    },
    "id": "gwPEXQleF1Uq",
    "outputId": "97178bd7-abee-4072-913d-cb88101137ef"
   },
   "outputs": [
    {
     "data": {
      "image/png": "[encoded data removed]",
      "text/plain": [
       "<Figure size 720x432 with 1 Axes>"
      ]
     },
     "metadata": {
      "needs_background": "light",
      "tags": []
     },
     "output_type": "display_data"
    }
   ],
   "source": [
    "# Valor total cobrado  x Clientes\n",
    "plt.figure(figsize = (10,6))\n",
    "sns.histplot( x = 'TotalCharges', data = dados, hue = 'Churn', kde = True, palette = ['#4169E1','#FF4500'])\n",
    "plt.xlabel('Valor total cobrado')\n",
    "plt.ylabel('Contagem')\n",
    "\n",
    "plt.tight_layout()\n",
    "plt.show()"
   ]
  },
  {
   "cell_type": "markdown",
   "metadata": {
    "id": "F3WqzqdFLPop"
   },
   "source": [
    "Podemos visualizar que o valor total tem um pico entre 0 a 2000 dólares, isso evidencia o gasto geral dos clientes com o serviço proposto pela empresa. A distribuição apresenta uma similaridade entre clientes que permaneceram e que abandonaram o serviço."
   ]
  },
  {
   "cell_type": "markdown",
   "metadata": {
    "id": "NyCxjJgK3IKT"
   },
   "source": [
    "Com esses insights importantes, podemos dar continuidade com o tratamento dos dados para a aplicação de modelos de Machine Learning."
   ]
  },
  {
   "cell_type": "markdown",
   "metadata": {
    "id": "DjV6AcZIlicN"
   },
   "source": [
    "## Etapa 04 - Preparação dos dados"
   ]
  },
  {
   "cell_type": "markdown",
   "metadata": {
    "id": "3hZGpb4C3far"
   },
   "source": [
    "Inicialmente, vamos verificar como nossos dados estão dispostos atualmente:"
   ]
  },
  {
   "cell_type": "code",
   "execution_count": 50,
   "metadata": {
    "colab": {
     "base_uri": "https://localhost:8080/",
     "height": 309
    },
    "id": "zDdTmJRn3SvC",
    "outputId": "4b0be787-4c1d-4837-cde9-e50c8ee9b978"
   },
   "outputs": [
    {
     "data": {
      "text/html": [
       "<div>\n",
       "<style scoped>\n",
       "    .dataframe tbody tr th:only-of-type {\n",
       "        vertical-align: middle;\n",
       "    }\n",
       "\n",
       "    .dataframe tbody tr th {\n",
       "        vertical-align: top;\n",
       "    }\n",
       "\n",
       "    .dataframe thead th {\n",
       "        text-align: right;\n",
       "    }\n",
       "</style>\n",
       "<table border=\"1\" class=\"dataframe\">\n",
       "  <thead>\n",
       "    <tr style=\"text-align: right;\">\n",
       "      <th></th>\n",
       "      <th>gender</th>\n",
       "      <th>SeniorCitizen</th>\n",
       "      <th>Partner</th>\n",
       "      <th>Dependents</th>\n",
       "      <th>tenure</th>\n",
       "      <th>PhoneService</th>\n",
       "      <th>MultipleLines</th>\n",
       "      <th>InternetService</th>\n",
       "      <th>OnlineSecurity</th>\n",
       "      <th>OnlineBackup</th>\n",
       "      <th>DeviceProtection</th>\n",
       "      <th>TechSupport</th>\n",
       "      <th>StreamingTV</th>\n",
       "      <th>StreamingMovies</th>\n",
       "      <th>Contract</th>\n",
       "      <th>PaperlessBilling</th>\n",
       "      <th>PaymentMethod</th>\n",
       "      <th>MonthlyCharges</th>\n",
       "      <th>TotalCharges</th>\n",
       "      <th>Churn</th>\n",
       "    </tr>\n",
       "  </thead>\n",
       "  <tbody>\n",
       "    <tr>\n",
       "      <th>0</th>\n",
       "      <td>Mulher</td>\n",
       "      <td>Não</td>\n",
       "      <td>Sim</td>\n",
       "      <td>Não</td>\n",
       "      <td>1</td>\n",
       "      <td>Não</td>\n",
       "      <td>Não</td>\n",
       "      <td>DSL</td>\n",
       "      <td>Não</td>\n",
       "      <td>Sim</td>\n",
       "      <td>Não</td>\n",
       "      <td>Não</td>\n",
       "      <td>Não</td>\n",
       "      <td>Não</td>\n",
       "      <td>Mensal</td>\n",
       "      <td>Sim</td>\n",
       "      <td>Cheque eletrônico</td>\n",
       "      <td>29.85</td>\n",
       "      <td>29.85</td>\n",
       "      <td>Não</td>\n",
       "    </tr>\n",
       "    <tr>\n",
       "      <th>1</th>\n",
       "      <td>Homem</td>\n",
       "      <td>Não</td>\n",
       "      <td>Não</td>\n",
       "      <td>Não</td>\n",
       "      <td>34</td>\n",
       "      <td>Sim</td>\n",
       "      <td>Não</td>\n",
       "      <td>DSL</td>\n",
       "      <td>Sim</td>\n",
       "      <td>Não</td>\n",
       "      <td>Sim</td>\n",
       "      <td>Não</td>\n",
       "      <td>Não</td>\n",
       "      <td>Não</td>\n",
       "      <td>Anual</td>\n",
       "      <td>Não</td>\n",
       "      <td>Cheque enviado</td>\n",
       "      <td>56.95</td>\n",
       "      <td>1889.50</td>\n",
       "      <td>Não</td>\n",
       "    </tr>\n",
       "    <tr>\n",
       "      <th>2</th>\n",
       "      <td>Homem</td>\n",
       "      <td>Não</td>\n",
       "      <td>Não</td>\n",
       "      <td>Não</td>\n",
       "      <td>2</td>\n",
       "      <td>Sim</td>\n",
       "      <td>Não</td>\n",
       "      <td>DSL</td>\n",
       "      <td>Sim</td>\n",
       "      <td>Sim</td>\n",
       "      <td>Não</td>\n",
       "      <td>Não</td>\n",
       "      <td>Não</td>\n",
       "      <td>Não</td>\n",
       "      <td>Mensal</td>\n",
       "      <td>Sim</td>\n",
       "      <td>Cheque enviado</td>\n",
       "      <td>53.85</td>\n",
       "      <td>108.15</td>\n",
       "      <td>Sim</td>\n",
       "    </tr>\n",
       "    <tr>\n",
       "      <th>3</th>\n",
       "      <td>Homem</td>\n",
       "      <td>Não</td>\n",
       "      <td>Não</td>\n",
       "      <td>Não</td>\n",
       "      <td>45</td>\n",
       "      <td>Não</td>\n",
       "      <td>Não</td>\n",
       "      <td>DSL</td>\n",
       "      <td>Sim</td>\n",
       "      <td>Não</td>\n",
       "      <td>Sim</td>\n",
       "      <td>Sim</td>\n",
       "      <td>Não</td>\n",
       "      <td>Não</td>\n",
       "      <td>Anual</td>\n",
       "      <td>Não</td>\n",
       "      <td>Transferência bancária</td>\n",
       "      <td>42.30</td>\n",
       "      <td>1840.75</td>\n",
       "      <td>Não</td>\n",
       "    </tr>\n",
       "    <tr>\n",
       "      <th>4</th>\n",
       "      <td>Mulher</td>\n",
       "      <td>Não</td>\n",
       "      <td>Não</td>\n",
       "      <td>Não</td>\n",
       "      <td>2</td>\n",
       "      <td>Sim</td>\n",
       "      <td>Não</td>\n",
       "      <td>Fibra Óptica</td>\n",
       "      <td>Não</td>\n",
       "      <td>Não</td>\n",
       "      <td>Não</td>\n",
       "      <td>Não</td>\n",
       "      <td>Não</td>\n",
       "      <td>Não</td>\n",
       "      <td>Mensal</td>\n",
       "      <td>Sim</td>\n",
       "      <td>Cheque eletrônico</td>\n",
       "      <td>70.70</td>\n",
       "      <td>151.65</td>\n",
       "      <td>Sim</td>\n",
       "    </tr>\n",
       "  </tbody>\n",
       "</table>\n",
       "</div>"
      ],
      "text/plain": [
       "   gender SeniorCitizen Partner  ... MonthlyCharges  TotalCharges Churn\n",
       "0  Mulher           Não     Sim  ...          29.85         29.85   Não\n",
       "1   Homem           Não     Não  ...          56.95       1889.50   Não\n",
       "2   Homem           Não     Não  ...          53.85        108.15   Sim\n",
       "3   Homem           Não     Não  ...          42.30       1840.75   Não\n",
       "4  Mulher           Não     Não  ...          70.70        151.65   Sim\n",
       "\n",
       "[5 rows x 20 columns]"
      ]
     },
     "execution_count": 50,
     "metadata": {
      "tags": []
     },
     "output_type": "execute_result"
    }
   ],
   "source": [
    "# Visualizar os 5 primeiros registros \n",
    "dados.head()"
   ]
  },
  {
   "cell_type": "markdown",
   "metadata": {
    "id": "euxwo5OR8GHR"
   },
   "source": [
    "### Tratamento de variáveis categóricas"
   ]
  },
  {
   "cell_type": "markdown",
   "metadata": {
    "id": "wP2W6Osv7C0Z"
   },
   "source": [
    "Necessitamos dummificar as variáveis categóricas para a aplicação de modelos de Machine Learning:"
   ]
  },
  {
   "cell_type": "code",
   "execution_count": 51,
   "metadata": {
    "id": "ymbqCmFN0Dfs"
   },
   "outputs": [],
   "source": [
    "from sklearn.preprocessing import MultiLabelBinarizer"
   ]
  },
  {
   "cell_type": "code",
   "execution_count": 52,
   "metadata": {
    "id": "rxDR_gXnLWpp"
   },
   "outputs": [],
   "source": [
    "var_cat = ['gender','SeniorCitizen','Partner','Dependents','PhoneService', 'MultipleLines', 'InternetService', 'OnlineSecurity', \n",
    "           'OnlineBackup', 'DeviceProtection', 'TechSupport', 'StreamingTV', 'StreamingMovies', 'PaperlessBilling','Contract', 'PaymentMethod','Churn'] "
   ]
  },
  {
   "cell_type": "code",
   "execution_count": 53,
   "metadata": {
    "id": "E2j4Szn7LT1y"
   },
   "outputs": [],
   "source": [
    "# Normalizar as variáveis númericas\n",
    "for col in var_cat:\n",
    "    mlb = MultiLabelBinarizer()\n",
    "    dados[col] = mlb.fit_transform(dados[col])"
   ]
  },
  {
   "cell_type": "code",
   "execution_count": 54,
   "metadata": {
    "colab": {
     "base_uri": "https://localhost:8080/",
     "height": 224
    },
    "id": "38iUyLIsMn4J",
    "outputId": "1650611f-ee0c-485f-f8d6-c3f52f9fc832"
   },
   "outputs": [
    {
     "data": {
      "text/html": [
       "<div>\n",
       "<style scoped>\n",
       "    .dataframe tbody tr th:only-of-type {\n",
       "        vertical-align: middle;\n",
       "    }\n",
       "\n",
       "    .dataframe tbody tr th {\n",
       "        vertical-align: top;\n",
       "    }\n",
       "\n",
       "    .dataframe thead th {\n",
       "        text-align: right;\n",
       "    }\n",
       "</style>\n",
       "<table border=\"1\" class=\"dataframe\">\n",
       "  <thead>\n",
       "    <tr style=\"text-align: right;\">\n",
       "      <th></th>\n",
       "      <th>gender</th>\n",
       "      <th>SeniorCitizen</th>\n",
       "      <th>Partner</th>\n",
       "      <th>Dependents</th>\n",
       "      <th>tenure</th>\n",
       "      <th>PhoneService</th>\n",
       "      <th>MultipleLines</th>\n",
       "      <th>InternetService</th>\n",
       "      <th>OnlineSecurity</th>\n",
       "      <th>OnlineBackup</th>\n",
       "      <th>DeviceProtection</th>\n",
       "      <th>TechSupport</th>\n",
       "      <th>StreamingTV</th>\n",
       "      <th>StreamingMovies</th>\n",
       "      <th>Contract</th>\n",
       "      <th>PaperlessBilling</th>\n",
       "      <th>PaymentMethod</th>\n",
       "      <th>MonthlyCharges</th>\n",
       "      <th>TotalCharges</th>\n",
       "      <th>Churn</th>\n",
       "    </tr>\n",
       "  </thead>\n",
       "  <tbody>\n",
       "    <tr>\n",
       "      <th>0</th>\n",
       "      <td>0</td>\n",
       "      <td>1</td>\n",
       "      <td>0</td>\n",
       "      <td>1</td>\n",
       "      <td>1</td>\n",
       "      <td>1</td>\n",
       "      <td>1</td>\n",
       "      <td>0</td>\n",
       "      <td>1</td>\n",
       "      <td>0</td>\n",
       "      <td>1</td>\n",
       "      <td>1</td>\n",
       "      <td>1</td>\n",
       "      <td>1</td>\n",
       "      <td>0</td>\n",
       "      <td>0</td>\n",
       "      <td>1</td>\n",
       "      <td>29.85</td>\n",
       "      <td>29.85</td>\n",
       "      <td>1</td>\n",
       "    </tr>\n",
       "    <tr>\n",
       "      <th>1</th>\n",
       "      <td>1</td>\n",
       "      <td>1</td>\n",
       "      <td>1</td>\n",
       "      <td>1</td>\n",
       "      <td>34</td>\n",
       "      <td>0</td>\n",
       "      <td>1</td>\n",
       "      <td>0</td>\n",
       "      <td>0</td>\n",
       "      <td>1</td>\n",
       "      <td>0</td>\n",
       "      <td>1</td>\n",
       "      <td>1</td>\n",
       "      <td>1</td>\n",
       "      <td>1</td>\n",
       "      <td>1</td>\n",
       "      <td>1</td>\n",
       "      <td>56.95</td>\n",
       "      <td>1889.50</td>\n",
       "      <td>1</td>\n",
       "    </tr>\n",
       "    <tr>\n",
       "      <th>2</th>\n",
       "      <td>1</td>\n",
       "      <td>1</td>\n",
       "      <td>1</td>\n",
       "      <td>1</td>\n",
       "      <td>2</td>\n",
       "      <td>0</td>\n",
       "      <td>1</td>\n",
       "      <td>0</td>\n",
       "      <td>0</td>\n",
       "      <td>0</td>\n",
       "      <td>1</td>\n",
       "      <td>1</td>\n",
       "      <td>1</td>\n",
       "      <td>1</td>\n",
       "      <td>0</td>\n",
       "      <td>0</td>\n",
       "      <td>1</td>\n",
       "      <td>53.85</td>\n",
       "      <td>108.15</td>\n",
       "      <td>0</td>\n",
       "    </tr>\n",
       "    <tr>\n",
       "      <th>3</th>\n",
       "      <td>1</td>\n",
       "      <td>1</td>\n",
       "      <td>1</td>\n",
       "      <td>1</td>\n",
       "      <td>45</td>\n",
       "      <td>1</td>\n",
       "      <td>1</td>\n",
       "      <td>0</td>\n",
       "      <td>0</td>\n",
       "      <td>1</td>\n",
       "      <td>0</td>\n",
       "      <td>0</td>\n",
       "      <td>1</td>\n",
       "      <td>1</td>\n",
       "      <td>1</td>\n",
       "      <td>1</td>\n",
       "      <td>1</td>\n",
       "      <td>42.30</td>\n",
       "      <td>1840.75</td>\n",
       "      <td>1</td>\n",
       "    </tr>\n",
       "    <tr>\n",
       "      <th>4</th>\n",
       "      <td>0</td>\n",
       "      <td>1</td>\n",
       "      <td>1</td>\n",
       "      <td>1</td>\n",
       "      <td>2</td>\n",
       "      <td>0</td>\n",
       "      <td>1</td>\n",
       "      <td>1</td>\n",
       "      <td>1</td>\n",
       "      <td>1</td>\n",
       "      <td>1</td>\n",
       "      <td>1</td>\n",
       "      <td>1</td>\n",
       "      <td>1</td>\n",
       "      <td>0</td>\n",
       "      <td>0</td>\n",
       "      <td>1</td>\n",
       "      <td>70.70</td>\n",
       "      <td>151.65</td>\n",
       "      <td>0</td>\n",
       "    </tr>\n",
       "  </tbody>\n",
       "</table>\n",
       "</div>"
      ],
      "text/plain": [
       "   gender  SeniorCitizen  Partner  ...  MonthlyCharges  TotalCharges  Churn\n",
       "0       0              1        0  ...           29.85         29.85      1\n",
       "1       1              1        1  ...           56.95       1889.50      1\n",
       "2       1              1        1  ...           53.85        108.15      0\n",
       "3       1              1        1  ...           42.30       1840.75      1\n",
       "4       0              1        1  ...           70.70        151.65      0\n",
       "\n",
       "[5 rows x 20 columns]"
      ]
     },
     "execution_count": 54,
     "metadata": {
      "tags": []
     },
     "output_type": "execute_result"
    }
   ],
   "source": [
    "# Visualizar 5 primeiros registros\n",
    "dados.head()"
   ]
  },
  {
   "cell_type": "markdown",
   "metadata": {
    "id": "ChFt12yzCAdB"
   },
   "source": [
    "### Normalização das variáveis númericas"
   ]
  },
  {
   "cell_type": "markdown",
   "metadata": {
    "id": "DuEP82fHCnXX"
   },
   "source": [
    "Como as variáveis númericas estão em diferente escalas, faz-se necessário a normalização das variáveis em apenas um intervalo."
   ]
  },
  {
   "cell_type": "code",
   "execution_count": 55,
   "metadata": {
    "id": "xCyAn8riBvy_"
   },
   "outputs": [],
   "source": [
    "from sklearn.preprocessing import MinMaxScaler"
   ]
  },
  {
   "cell_type": "code",
   "execution_count": 56,
   "metadata": {
    "id": "JlxT-LqTCOAo"
   },
   "outputs": [],
   "source": [
    "var_num = ['tenure', 'MonthlyCharges','TotalCharges']"
   ]
  },
  {
   "cell_type": "code",
   "execution_count": 57,
   "metadata": {
    "id": "ExdDLxv9CRng"
   },
   "outputs": [],
   "source": [
    "# Normalizar as variáveis númericas\n",
    "for col in var_num:\n",
    "    sc = MinMaxScaler()\n",
    "    dados[col] = sc.fit_transform(dados[col].values.reshape(-1, 1))"
   ]
  },
  {
   "cell_type": "code",
   "execution_count": 58,
   "metadata": {
    "colab": {
     "base_uri": "https://localhost:8080/",
     "height": 224
    },
    "id": "FpC0_0nRCfGu",
    "outputId": "83b919aa-0d5c-4d62-88d5-4b9e10b3333a"
   },
   "outputs": [
    {
     "data": {
      "text/html": [
       "<div>\n",
       "<style scoped>\n",
       "    .dataframe tbody tr th:only-of-type {\n",
       "        vertical-align: middle;\n",
       "    }\n",
       "\n",
       "    .dataframe tbody tr th {\n",
       "        vertical-align: top;\n",
       "    }\n",
       "\n",
       "    .dataframe thead th {\n",
       "        text-align: right;\n",
       "    }\n",
       "</style>\n",
       "<table border=\"1\" class=\"dataframe\">\n",
       "  <thead>\n",
       "    <tr style=\"text-align: right;\">\n",
       "      <th></th>\n",
       "      <th>gender</th>\n",
       "      <th>SeniorCitizen</th>\n",
       "      <th>Partner</th>\n",
       "      <th>Dependents</th>\n",
       "      <th>tenure</th>\n",
       "      <th>PhoneService</th>\n",
       "      <th>MultipleLines</th>\n",
       "      <th>InternetService</th>\n",
       "      <th>OnlineSecurity</th>\n",
       "      <th>OnlineBackup</th>\n",
       "      <th>DeviceProtection</th>\n",
       "      <th>TechSupport</th>\n",
       "      <th>StreamingTV</th>\n",
       "      <th>StreamingMovies</th>\n",
       "      <th>Contract</th>\n",
       "      <th>PaperlessBilling</th>\n",
       "      <th>PaymentMethod</th>\n",
       "      <th>MonthlyCharges</th>\n",
       "      <th>TotalCharges</th>\n",
       "      <th>Churn</th>\n",
       "    </tr>\n",
       "  </thead>\n",
       "  <tbody>\n",
       "    <tr>\n",
       "      <th>0</th>\n",
       "      <td>0</td>\n",
       "      <td>1</td>\n",
       "      <td>0</td>\n",
       "      <td>1</td>\n",
       "      <td>0.013889</td>\n",
       "      <td>1</td>\n",
       "      <td>1</td>\n",
       "      <td>0</td>\n",
       "      <td>1</td>\n",
       "      <td>0</td>\n",
       "      <td>1</td>\n",
       "      <td>1</td>\n",
       "      <td>1</td>\n",
       "      <td>1</td>\n",
       "      <td>0</td>\n",
       "      <td>0</td>\n",
       "      <td>1</td>\n",
       "      <td>0.115423</td>\n",
       "      <td>0.001275</td>\n",
       "      <td>1</td>\n",
       "    </tr>\n",
       "    <tr>\n",
       "      <th>1</th>\n",
       "      <td>1</td>\n",
       "      <td>1</td>\n",
       "      <td>1</td>\n",
       "      <td>1</td>\n",
       "      <td>0.472222</td>\n",
       "      <td>0</td>\n",
       "      <td>1</td>\n",
       "      <td>0</td>\n",
       "      <td>0</td>\n",
       "      <td>1</td>\n",
       "      <td>0</td>\n",
       "      <td>1</td>\n",
       "      <td>1</td>\n",
       "      <td>1</td>\n",
       "      <td>1</td>\n",
       "      <td>1</td>\n",
       "      <td>1</td>\n",
       "      <td>0.385075</td>\n",
       "      <td>0.215867</td>\n",
       "      <td>1</td>\n",
       "    </tr>\n",
       "    <tr>\n",
       "      <th>2</th>\n",
       "      <td>1</td>\n",
       "      <td>1</td>\n",
       "      <td>1</td>\n",
       "      <td>1</td>\n",
       "      <td>0.027778</td>\n",
       "      <td>0</td>\n",
       "      <td>1</td>\n",
       "      <td>0</td>\n",
       "      <td>0</td>\n",
       "      <td>0</td>\n",
       "      <td>1</td>\n",
       "      <td>1</td>\n",
       "      <td>1</td>\n",
       "      <td>1</td>\n",
       "      <td>0</td>\n",
       "      <td>0</td>\n",
       "      <td>1</td>\n",
       "      <td>0.354229</td>\n",
       "      <td>0.010310</td>\n",
       "      <td>0</td>\n",
       "    </tr>\n",
       "    <tr>\n",
       "      <th>3</th>\n",
       "      <td>1</td>\n",
       "      <td>1</td>\n",
       "      <td>1</td>\n",
       "      <td>1</td>\n",
       "      <td>0.625000</td>\n",
       "      <td>1</td>\n",
       "      <td>1</td>\n",
       "      <td>0</td>\n",
       "      <td>0</td>\n",
       "      <td>1</td>\n",
       "      <td>0</td>\n",
       "      <td>0</td>\n",
       "      <td>1</td>\n",
       "      <td>1</td>\n",
       "      <td>1</td>\n",
       "      <td>1</td>\n",
       "      <td>1</td>\n",
       "      <td>0.239303</td>\n",
       "      <td>0.210241</td>\n",
       "      <td>1</td>\n",
       "    </tr>\n",
       "    <tr>\n",
       "      <th>4</th>\n",
       "      <td>0</td>\n",
       "      <td>1</td>\n",
       "      <td>1</td>\n",
       "      <td>1</td>\n",
       "      <td>0.027778</td>\n",
       "      <td>0</td>\n",
       "      <td>1</td>\n",
       "      <td>1</td>\n",
       "      <td>1</td>\n",
       "      <td>1</td>\n",
       "      <td>1</td>\n",
       "      <td>1</td>\n",
       "      <td>1</td>\n",
       "      <td>1</td>\n",
       "      <td>0</td>\n",
       "      <td>0</td>\n",
       "      <td>1</td>\n",
       "      <td>0.521891</td>\n",
       "      <td>0.015330</td>\n",
       "      <td>0</td>\n",
       "    </tr>\n",
       "  </tbody>\n",
       "</table>\n",
       "</div>"
      ],
      "text/plain": [
       "   gender  SeniorCitizen  Partner  ...  MonthlyCharges  TotalCharges  Churn\n",
       "0       0              1        0  ...        0.115423      0.001275      1\n",
       "1       1              1        1  ...        0.385075      0.215867      1\n",
       "2       1              1        1  ...        0.354229      0.010310      0\n",
       "3       1              1        1  ...        0.239303      0.210241      1\n",
       "4       0              1        1  ...        0.521891      0.015330      0\n",
       "\n",
       "[5 rows x 20 columns]"
      ]
     },
     "execution_count": 58,
     "metadata": {
      "tags": []
     },
     "output_type": "execute_result"
    }
   ],
   "source": [
    "# Visualizar os 5 primeiros registros\n",
    "dados.head()"
   ]
  },
  {
   "cell_type": "code",
   "execution_count": 59,
   "metadata": {
    "colab": {
     "base_uri": "https://localhost:8080/"
    },
    "id": "ATQeFdd_K47N",
    "outputId": "bfbf94fa-058b-4820-8bd3-7823b2a22967"
   },
   "outputs": [
    {
     "data": {
      "text/plain": [
       "gender               0\n",
       "SeniorCitizen        0\n",
       "Partner              0\n",
       "Dependents           0\n",
       "tenure               0\n",
       "PhoneService         0\n",
       "MultipleLines        0\n",
       "InternetService      0\n",
       "OnlineSecurity       0\n",
       "OnlineBackup         0\n",
       "DeviceProtection     0\n",
       "TechSupport          0\n",
       "StreamingTV          0\n",
       "StreamingMovies      0\n",
       "Contract             0\n",
       "PaperlessBilling     0\n",
       "PaymentMethod        0\n",
       "MonthlyCharges       0\n",
       "TotalCharges        11\n",
       "Churn                0\n",
       "dtype: int64"
      ]
     },
     "execution_count": 59,
     "metadata": {
      "tags": []
     },
     "output_type": "execute_result"
    }
   ],
   "source": [
    "# Verificar dados nulos\n",
    "dados.isnull().sum()"
   ]
  },
  {
   "cell_type": "code",
   "execution_count": 60,
   "metadata": {
    "id": "YCshzF0EQMgB"
   },
   "outputs": [],
   "source": [
    "# Exclusão de dados nulos\n",
    "dados = dados.dropna()"
   ]
  },
  {
   "cell_type": "code",
   "execution_count": 61,
   "metadata": {
    "colab": {
     "base_uri": "https://localhost:8080/"
    },
    "id": "143cFFaHQRYg",
    "outputId": "77b82953-9d58-4882-bb44-20fc4519172d"
   },
   "outputs": [
    {
     "data": {
      "text/plain": [
       "gender              0\n",
       "SeniorCitizen       0\n",
       "Partner             0\n",
       "Dependents          0\n",
       "tenure              0\n",
       "PhoneService        0\n",
       "MultipleLines       0\n",
       "InternetService     0\n",
       "OnlineSecurity      0\n",
       "OnlineBackup        0\n",
       "DeviceProtection    0\n",
       "TechSupport         0\n",
       "StreamingTV         0\n",
       "StreamingMovies     0\n",
       "Contract            0\n",
       "PaperlessBilling    0\n",
       "PaymentMethod       0\n",
       "MonthlyCharges      0\n",
       "TotalCharges        0\n",
       "Churn               0\n",
       "dtype: int64"
      ]
     },
     "execution_count": 61,
     "metadata": {
      "tags": []
     },
     "output_type": "execute_result"
    }
   ],
   "source": [
    "# Verificar dados nulos\n",
    "dados.isna().sum()"
   ]
  },
  {
   "cell_type": "code",
   "execution_count": 62,
   "metadata": {
    "colab": {
     "base_uri": "https://localhost:8080/"
    },
    "id": "0AX0o5LoHIEF",
    "outputId": "fbb168f9-b970-4a9f-f4f3-8014fd5c8089"
   },
   "outputs": [
    {
     "data": {
      "text/plain": [
       "(7032, 20)"
      ]
     },
     "execution_count": 62,
     "metadata": {
      "tags": []
     },
     "output_type": "execute_result"
    }
   ],
   "source": [
    "# Visualizar estrutura dos dados\n",
    "dados.shape"
   ]
  },
  {
   "cell_type": "markdown",
   "metadata": {
    "id": "AsZq8jhLDX6U"
   },
   "source": [
    "Com os dados devidamente tratados, podemos prepará-los para aplicar diferentes modelos de Machine Learning para podermos selecionarmos o qual obtiver melhor performance."
   ]
  },
  {
   "cell_type": "markdown",
   "metadata": {
    "id": "Pm0jB5EIDgT3"
   },
   "source": [
    "## Etapa 05 - Aplicação do Modelo de Machine Learning"
   ]
  },
  {
   "cell_type": "markdown",
   "metadata": {
    "id": "Gh6gIE7uDm8H"
   },
   "source": [
    "Inicialmente, realizamos a separação das variáveis preditoras e a variável alvo:"
   ]
  },
  {
   "cell_type": "code",
   "execution_count": 63,
   "metadata": {
    "id": "Xu01WdZNCipm"
   },
   "outputs": [],
   "source": [
    "X = dados.drop('Churn', axis = 1).values\n",
    "y = dados['Churn'].values"
   ]
  },
  {
   "cell_type": "markdown",
   "metadata": {
    "id": "DHK0bDtBEDnI"
   },
   "source": [
    "Podemos agora, executar a separação dos dados em treinamento e teste:"
   ]
  },
  {
   "cell_type": "code",
   "execution_count": 64,
   "metadata": {
    "id": "4QlTJcTaDynp"
   },
   "outputs": [],
   "source": [
    "from sklearn.model_selection import train_test_split\n",
    "X_treino, X_teste, y_treino, y_teste = train_test_split(X, y, test_size = 0.25, random_state = 13)"
   ]
  },
  {
   "cell_type": "markdown",
   "metadata": {
    "id": "dLWfTGEkHkSV"
   },
   "source": [
    "Agora importaremos as principais métricas de avaliação de classificação, também criaremos listas vazias para armazenarmos as métricas de diferentes modelos:"
   ]
  },
  {
   "cell_type": "code",
   "execution_count": 65,
   "metadata": {
    "id": "Gepj85hUHsb-"
   },
   "outputs": [],
   "source": [
    "from sklearn.metrics import accuracy_score, recall_score, precision_score, f1_score"
   ]
  },
  {
   "cell_type": "code",
   "execution_count": 66,
   "metadata": {
    "id": "XjxcUq3cIExb"
   },
   "outputs": [],
   "source": [
    "# Criação de listas vazias\n",
    "modelo = []\n",
    "acur = []\n",
    "prec = []\n",
    "reca = []\n",
    "f1 = []"
   ]
  },
  {
   "cell_type": "markdown",
   "metadata": {
    "id": "sMNIoW1KEm-_"
   },
   "source": [
    "Com tudo preparado, podemos agora testar modelos de classificação para os nossos dados:"
   ]
  },
  {
   "cell_type": "markdown",
   "metadata": {
    "id": "l2ZId6INIcHs"
   },
   "source": [
    "#### **Modelo 01 - Regressão Logística**"
   ]
  },
  {
   "cell_type": "code",
   "execution_count": 67,
   "metadata": {
    "id": "N0FMiq9PEykB"
   },
   "outputs": [],
   "source": [
    "from sklearn.linear_model import LogisticRegression"
   ]
  },
  {
   "cell_type": "code",
   "execution_count": 68,
   "metadata": {
    "id": "4JyLQIIwE23O"
   },
   "outputs": [],
   "source": [
    "# Instanciar o modelo\n",
    "reglog = LogisticRegression()"
   ]
  },
  {
   "cell_type": "code",
   "execution_count": 69,
   "metadata": {
    "colab": {
     "base_uri": "https://localhost:8080/"
    },
    "id": "fNfX5kcrJj-C",
    "outputId": "0165cc96-3e60-46a8-ab6c-b186f8588f7d"
   },
   "outputs": [
    {
     "data": {
      "text/plain": [
       "LogisticRegression(C=1.0, class_weight=None, dual=False, fit_intercept=True,\n",
       "                   intercept_scaling=1, l1_ratio=None, max_iter=100,\n",
       "                   multi_class='auto', n_jobs=None, penalty='l2',\n",
       "                   random_state=None, solver='lbfgs', tol=0.0001, verbose=0,\n",
       "                   warm_start=False)"
      ]
     },
     "execution_count": 69,
     "metadata": {
      "tags": []
     },
     "output_type": "execute_result"
    }
   ],
   "source": [
    "reglog.fit(X_treino, y_treino)"
   ]
  },
  {
   "cell_type": "code",
   "execution_count": 70,
   "metadata": {
    "id": "EKxDRT8HFAO_"
   },
   "outputs": [],
   "source": [
    "# Previsões do modelo\n",
    "y_pred = reglog.predict(X_teste)"
   ]
  },
  {
   "cell_type": "code",
   "execution_count": 71,
   "metadata": {
    "id": "lPONquljQkkI"
   },
   "outputs": [],
   "source": [
    "# Calcular as métricas de avaliação\n",
    "acur_reglog  = accuracy_score(y_teste, y_pred)\n",
    "prec_reglog = precision_score(y_teste, y_pred)\n",
    "reca_reglog = recall_score(y_teste, y_pred)\n",
    "f1_reglog = f1_score(y_teste, y_pred)"
   ]
  },
  {
   "cell_type": "code",
   "execution_count": 72,
   "metadata": {
    "id": "aUaGwepvQ9Cc"
   },
   "outputs": [],
   "source": [
    "# Armazenar métricas nas listas\n",
    "modelo.append('Regressão Logística')\n",
    "acur.append(acur_reglog)\n",
    "prec.append(prec_reglog)\n",
    "reca.append(reca_reglog)\n",
    "f1.append(f1_reglog)"
   ]
  },
  {
   "cell_type": "markdown",
   "metadata": {
    "id": "SNSyt4KgRX9A"
   },
   "source": [
    "#### **Modelo 02 - Support Vector Machine**"
   ]
  },
  {
   "cell_type": "code",
   "execution_count": 73,
   "metadata": {
    "id": "1Eu3fGQMRX9A"
   },
   "outputs": [],
   "source": [
    "from sklearn.svm import SVC"
   ]
  },
  {
   "cell_type": "code",
   "execution_count": 74,
   "metadata": {
    "id": "5erSe8fcRX9A"
   },
   "outputs": [],
   "source": [
    "# Instanciar o modelo\n",
    "svc = SVC()"
   ]
  },
  {
   "cell_type": "code",
   "execution_count": 75,
   "metadata": {
    "colab": {
     "base_uri": "https://localhost:8080/"
    },
    "id": "65qTdrnuRX9B",
    "outputId": "a570966f-7fd5-4271-885c-5d142ef0eb9c"
   },
   "outputs": [
    {
     "data": {
      "text/plain": [
       "SVC(C=1.0, break_ties=False, cache_size=200, class_weight=None, coef0=0.0,\n",
       "    decision_function_shape='ovr', degree=3, gamma='scale', kernel='rbf',\n",
       "    max_iter=-1, probability=False, random_state=None, shrinking=True,\n",
       "    tol=0.001, verbose=False)"
      ]
     },
     "execution_count": 75,
     "metadata": {
      "tags": []
     },
     "output_type": "execute_result"
    }
   ],
   "source": [
    "svc.fit(X_treino, y_treino)"
   ]
  },
  {
   "cell_type": "code",
   "execution_count": 76,
   "metadata": {
    "id": "GY-8wIndRX9B"
   },
   "outputs": [],
   "source": [
    "# Previsões do modelo\n",
    "y_pred = svc.predict(X_teste)"
   ]
  },
  {
   "cell_type": "code",
   "execution_count": 77,
   "metadata": {
    "id": "dRNnOFXGRX9B"
   },
   "outputs": [],
   "source": [
    "# Calcular as métricas de avaliação\n",
    "acur_svc  = accuracy_score(y_teste, y_pred)\n",
    "prec_svc = precision_score(y_teste, y_pred)\n",
    "reca_svc = recall_score(y_teste, y_pred)\n",
    "f1_svc = f1_score(y_teste, y_pred)"
   ]
  },
  {
   "cell_type": "code",
   "execution_count": 78,
   "metadata": {
    "id": "98htv1R8RX9B"
   },
   "outputs": [],
   "source": [
    "# Armazenar métricas nas listas\n",
    "modelo.append('Support Vector Machine')\n",
    "acur.append(acur_svc)\n",
    "prec.append(prec_svc)\n",
    "reca.append(reca_svc)\n",
    "f1.append(f1_svc)"
   ]
  },
  {
   "cell_type": "markdown",
   "metadata": {
    "id": "Ck0aQj90R4mY"
   },
   "source": [
    "#### **Modelo 03 - Naive Bayes Gaussian**"
   ]
  },
  {
   "cell_type": "code",
   "execution_count": 79,
   "metadata": {
    "id": "tTeI9UgBR4mY"
   },
   "outputs": [],
   "source": [
    "from sklearn.naive_bayes import GaussianNB"
   ]
  },
  {
   "cell_type": "code",
   "execution_count": 80,
   "metadata": {
    "id": "F_jK7FvoR4mY"
   },
   "outputs": [],
   "source": [
    "# Instanciar o modelo\n",
    "gaussian = GaussianNB()"
   ]
  },
  {
   "cell_type": "code",
   "execution_count": 81,
   "metadata": {
    "colab": {
     "base_uri": "https://localhost:8080/"
    },
    "id": "jLVOGuRvR4mY",
    "outputId": "43146855-6127-4ff6-d72f-4bdd61e2ede3"
   },
   "outputs": [
    {
     "data": {
      "text/plain": [
       "GaussianNB(priors=None, var_smoothing=1e-09)"
      ]
     },
     "execution_count": 81,
     "metadata": {
      "tags": []
     },
     "output_type": "execute_result"
    }
   ],
   "source": [
    "# Treinar o modelo\n",
    "gaussian.fit(X_treino, y_treino)"
   ]
  },
  {
   "cell_type": "code",
   "execution_count": 82,
   "metadata": {
    "id": "y_MJ7ziqR4mY"
   },
   "outputs": [],
   "source": [
    "# Previsões do modelo\n",
    "y_pred = gaussian.predict(X_teste)"
   ]
  },
  {
   "cell_type": "code",
   "execution_count": 83,
   "metadata": {
    "id": "TartZAdUR4mY"
   },
   "outputs": [],
   "source": [
    "# Calcular as métricas de avaliação\n",
    "acur_gaussian  = accuracy_score(y_teste, y_pred)\n",
    "prec_gaussian = precision_score(y_teste, y_pred)\n",
    "reca_gaussian = recall_score(y_teste, y_pred)\n",
    "f1_gaussian = f1_score(y_teste, y_pred)"
   ]
  },
  {
   "cell_type": "code",
   "execution_count": 84,
   "metadata": {
    "id": "vvqKLHNtR4mZ"
   },
   "outputs": [],
   "source": [
    "# Armazenar métricas nas listas\n",
    "modelo.append('Naive Bayes Gaussian')\n",
    "acur.append(acur_gaussian)\n",
    "prec.append(prec_gaussian)\n",
    "reca.append(reca_gaussian)\n",
    "f1.append(f1_gaussian)"
   ]
  },
  {
   "cell_type": "markdown",
   "metadata": {
    "id": "tOajpxJfSfZw"
   },
   "source": [
    "#### **Modelo 04 - Random Forest**"
   ]
  },
  {
   "cell_type": "code",
   "execution_count": 85,
   "metadata": {
    "id": "-SkXDgeVSfZw"
   },
   "outputs": [],
   "source": [
    "from sklearn.ensemble import RandomForestClassifier"
   ]
  },
  {
   "cell_type": "code",
   "execution_count": 86,
   "metadata": {
    "id": "43t_T85YSfZw"
   },
   "outputs": [],
   "source": [
    "# Instanciar o modelo\n",
    "rf = RandomForestClassifier()"
   ]
  },
  {
   "cell_type": "code",
   "execution_count": 87,
   "metadata": {
    "colab": {
     "base_uri": "https://localhost:8080/"
    },
    "id": "zMKp4SEISfZw",
    "outputId": "da086192-f5dd-46c8-adea-b54150568fdc"
   },
   "outputs": [
    {
     "data": {
      "text/plain": [
       "RandomForestClassifier(bootstrap=True, ccp_alpha=0.0, class_weight=None,\n",
       "                       criterion='gini', max_depth=None, max_features='auto',\n",
       "                       max_leaf_nodes=None, max_samples=None,\n",
       "                       min_impurity_decrease=0.0, min_impurity_split=None,\n",
       "                       min_samples_leaf=1, min_samples_split=2,\n",
       "                       min_weight_fraction_leaf=0.0, n_estimators=100,\n",
       "                       n_jobs=None, oob_score=False, random_state=None,\n",
       "                       verbose=0, warm_start=False)"
      ]
     },
     "execution_count": 87,
     "metadata": {
      "tags": []
     },
     "output_type": "execute_result"
    }
   ],
   "source": [
    "rf.fit(X_treino, y_treino)"
   ]
  },
  {
   "cell_type": "code",
   "execution_count": 88,
   "metadata": {
    "id": "o4XoYkLxSfZx"
   },
   "outputs": [],
   "source": [
    "# Previsões do modelo\n",
    "y_pred = rf.predict(X_teste)"
   ]
  },
  {
   "cell_type": "code",
   "execution_count": 89,
   "metadata": {
    "id": "AuHOR_POSfZx"
   },
   "outputs": [],
   "source": [
    "# Calcular as métricas de avaliação\n",
    "acur_rf  = accuracy_score(y_teste, y_pred)\n",
    "prec_rf = precision_score(y_teste, y_pred)\n",
    "reca_rf = recall_score(y_teste, y_pred)\n",
    "f1_rf = f1_score(y_teste, y_pred)"
   ]
  },
  {
   "cell_type": "code",
   "execution_count": 90,
   "metadata": {
    "id": "dFsgWZtdSfZx"
   },
   "outputs": [],
   "source": [
    "# Armazenar métricas nas listas\n",
    "modelo.append('Random Forest')\n",
    "acur.append(acur_rf)\n",
    "prec.append(prec_rf)\n",
    "reca.append(reca_rf)\n",
    "f1.append(f1_rf)"
   ]
  },
  {
   "cell_type": "markdown",
   "metadata": {
    "id": "lguF_OkzTGFY"
   },
   "source": [
    "#### **Modelo 05 - Ada Boost**"
   ]
  },
  {
   "cell_type": "code",
   "execution_count": 91,
   "metadata": {
    "id": "t68SkGnJTGFY"
   },
   "outputs": [],
   "source": [
    "from sklearn.ensemble import AdaBoostClassifier"
   ]
  },
  {
   "cell_type": "code",
   "execution_count": 92,
   "metadata": {
    "id": "2w01CpEETGFY"
   },
   "outputs": [],
   "source": [
    "# Instanciar o modelo\n",
    "ada = AdaBoostClassifier()"
   ]
  },
  {
   "cell_type": "code",
   "execution_count": 93,
   "metadata": {
    "colab": {
     "base_uri": "https://localhost:8080/"
    },
    "id": "fsgTbhEpTGFY",
    "outputId": "d0177f0f-9aae-47cf-d4c1-77795907d09d"
   },
   "outputs": [
    {
     "data": {
      "text/plain": [
       "AdaBoostClassifier(algorithm='SAMME.R', base_estimator=None, learning_rate=1.0,\n",
       "                   n_estimators=50, random_state=None)"
      ]
     },
     "execution_count": 93,
     "metadata": {
      "tags": []
     },
     "output_type": "execute_result"
    }
   ],
   "source": [
    "ada.fit(X_treino, y_treino)"
   ]
  },
  {
   "cell_type": "code",
   "execution_count": 94,
   "metadata": {
    "id": "I_iIkJ6jTGFZ"
   },
   "outputs": [],
   "source": [
    "# Previsões do modelo\n",
    "y_pred = ada.predict(X_teste)"
   ]
  },
  {
   "cell_type": "code",
   "execution_count": 95,
   "metadata": {
    "id": "1TyLglSbTGFZ"
   },
   "outputs": [],
   "source": [
    "# Calcular as métricas de avaliação\n",
    "acur_ada  = accuracy_score(y_teste, y_pred)\n",
    "prec_ada = precision_score(y_teste, y_pred)\n",
    "reca_ada = recall_score(y_teste, y_pred)\n",
    "f1_ada = f1_score(y_teste, y_pred)"
   ]
  },
  {
   "cell_type": "code",
   "execution_count": 96,
   "metadata": {
    "id": "X0gpgR6wTGFZ"
   },
   "outputs": [],
   "source": [
    "# Armazenar métricas nas listas\n",
    "modelo.append('Ada Boost')\n",
    "acur.append(acur_ada)\n",
    "prec.append(prec_ada)\n",
    "reca.append(reca_ada)\n",
    "f1.append(f1_ada)"
   ]
  },
  {
   "cell_type": "markdown",
   "metadata": {
    "id": "mTcDLlWoFMM_"
   },
   "source": [
    "## Etapa 06 - Avaliação de Modelos"
   ]
  },
  {
   "cell_type": "markdown",
   "metadata": {
    "id": "zHeULMl5HTRX"
   },
   "source": [
    "Para podermos realizar uma avaliação completa, podemos exibir em um DataFrame as métricas de cada modelo."
   ]
  },
  {
   "cell_type": "code",
   "execution_count": 99,
   "metadata": {
    "id": "tg7L6a3vHKKX"
   },
   "outputs": [],
   "source": [
    "# Criação de DataFrame com as métricas calculadas\n",
    "dic = {'Modelo': modelo, 'Acurácia': acur, 'Precisão': prec, 'Recall': reca, 'f1_score': f1,}\n",
    "avaliacao = pd.DataFrame(dic)\n",
    "avaliacao = avaliacao.sort_values(by = 'Recall', ascending = False)"
   ]
  },
  {
   "cell_type": "code",
   "execution_count": 100,
   "metadata": {
    "colab": {
     "base_uri": "https://localhost:8080/",
     "height": 204
    },
    "id": "oeky1_E5Xcre",
    "outputId": "2803afd7-29c5-41a6-de16-0289fafc85d6"
   },
   "outputs": [
    {
     "data": {
      "text/html": [
       "<div>\n",
       "<style scoped>\n",
       "    .dataframe tbody tr th:only-of-type {\n",
       "        vertical-align: middle;\n",
       "    }\n",
       "\n",
       "    .dataframe tbody tr th {\n",
       "        vertical-align: top;\n",
       "    }\n",
       "\n",
       "    .dataframe thead th {\n",
       "        text-align: right;\n",
       "    }\n",
       "</style>\n",
       "<table border=\"1\" class=\"dataframe\">\n",
       "  <thead>\n",
       "    <tr style=\"text-align: right;\">\n",
       "      <th></th>\n",
       "      <th>Modelo</th>\n",
       "      <th>Acurácia</th>\n",
       "      <th>Precisão</th>\n",
       "      <th>Recall</th>\n",
       "      <th>f1_score</th>\n",
       "    </tr>\n",
       "  </thead>\n",
       "  <tbody>\n",
       "    <tr>\n",
       "      <th>1</th>\n",
       "      <td>Support Vector Machine</td>\n",
       "      <td>0.788396</td>\n",
       "      <td>0.824843</td>\n",
       "      <td>0.907137</td>\n",
       "      <td>0.864035</td>\n",
       "    </tr>\n",
       "    <tr>\n",
       "      <th>0</th>\n",
       "      <td>Regressão Logística</td>\n",
       "      <td>0.796928</td>\n",
       "      <td>0.836415</td>\n",
       "      <td>0.902533</td>\n",
       "      <td>0.868217</td>\n",
       "    </tr>\n",
       "    <tr>\n",
       "      <th>4</th>\n",
       "      <td>Ada Boost</td>\n",
       "      <td>0.802617</td>\n",
       "      <td>0.844877</td>\n",
       "      <td>0.898695</td>\n",
       "      <td>0.870956</td>\n",
       "    </tr>\n",
       "    <tr>\n",
       "      <th>3</th>\n",
       "      <td>Random Forest</td>\n",
       "      <td>0.792378</td>\n",
       "      <td>0.835960</td>\n",
       "      <td>0.895625</td>\n",
       "      <td>0.864765</td>\n",
       "    </tr>\n",
       "    <tr>\n",
       "      <th>2</th>\n",
       "      <td>Naive Bayes Gaussian</td>\n",
       "      <td>0.778726</td>\n",
       "      <td>0.869741</td>\n",
       "      <td>0.825019</td>\n",
       "      <td>0.846790</td>\n",
       "    </tr>\n",
       "  </tbody>\n",
       "</table>\n",
       "</div>"
      ],
      "text/plain": [
       "                   Modelo  Acurácia  Precisão    Recall  f1_score\n",
       "1  Support Vector Machine  0.788396  0.824843  0.907137  0.864035\n",
       "0     Regressão Logística  0.796928  0.836415  0.902533  0.868217\n",
       "4               Ada Boost  0.802617  0.844877  0.898695  0.870956\n",
       "3           Random Forest  0.792378  0.835960  0.895625  0.864765\n",
       "2    Naive Bayes Gaussian  0.778726  0.869741  0.825019  0.846790"
      ]
     },
     "execution_count": 100,
     "metadata": {
      "tags": []
     },
     "output_type": "execute_result"
    }
   ],
   "source": [
    "# Exibir DataFrame\n",
    "avaliacao"
   ]
  },
  {
   "cell_type": "markdown",
   "metadata": {
    "id": "OzGbYRyHMdkl"
   },
   "source": [
    "Por fim, considerando como métrica alvo o Recall/Sensibilidade (*dentre todas as situações de classe Positivo como valor esperado, quantas estão corretas*), podemos afirmar que o modelo **Support Vector Machine** foi o que obteve melhor performance na predição do perfil do cliente que permaneceria com o serviço da empresa. Desse modo, poderíamos classificar possíveis clientes que tem alguma probabilidade de deixar o serviço, de modo a agir preventivamente com ações de incentivo para a permanência do cliente."
   ]
  }
 ],
 "metadata": {
  "colab": {
   "collapsed_sections": [
    "Xq3dl-4rpxZg",
    "ysvipivhm3D5",
    "vUHfcZhAnhC5",
    "65Gf6u-mwpgV",
    "2EcqcT2JL2uV",
    "gHwy_EZNL7kk",
    "dFgYR0ygMEC4",
    "9IjRkcOVMLG9",
    "ODEZcHvcMW0c",
    "NHOs5ssLMevE",
    "YE8_etI8aOmh",
    "ZLLPMZWYWmCG",
    "eYdRm5uVg-oT",
    "oEAp1tECipYL",
    "goZKgpN4kbNi",
    "3TNojYgfpJ8-",
    "-ilPRpz7ppi6",
    "DULBwazevqCB",
    "ChFt12yzCAdB"
   ],
   "name": "Churn.ipynb",
   "provenance": [],
   "toc_visible": true
  },
  "kernelspec": {
   "display_name": "Python 3",
   "language": "python",
   "name": "python3"
  },
  "language_info": {
   "codemirror_mode": {
    "name": "ipython",
    "version": 3
   },
   "file_extension": ".py",
   "mimetype": "text/x-python",
   "name": "python",
   "nbconvert_exporter": "python",
   "pygments_lexer": "ipython3",
   "version": "3.8.5"
  }
 },
 "nbformat": 4,
 "nbformat_minor": 1
}
